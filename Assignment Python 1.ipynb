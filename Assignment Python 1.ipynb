{
 "cells": [
  {
   "cell_type": "markdown",
   "id": "c12fe12d",
   "metadata": {},
   "source": [
    "11. Write a python program to find the factorial of a number."
   ]
  },
  {
   "cell_type": "code",
   "execution_count": 1,
   "id": "ac42d34f",
   "metadata": {},
   "outputs": [
    {
     "name": "stdout",
     "output_type": "stream",
     "text": [
      "Enter a number to find the factorial : 6\n",
      "factorial of 6 is : 720\n"
     ]
    }
   ],
   "source": [
    "import math\n",
    "\n",
    "number = int(input('Enter a number to find the factorial : '))\n",
    "a = math.factorial(number)\n",
    "print ('factorial of',number,'is :',a)"
   ]
  },
  {
   "cell_type": "code",
   "execution_count": 2,
   "id": "93f06af7",
   "metadata": {},
   "outputs": [
    {
     "name": "stdout",
     "output_type": "stream",
     "text": [
      "Enter a number to find the factorial : 5\n",
      "The factorial of 5 is : 120\n"
     ]
    }
   ],
   "source": [
    "number = int(input('Enter a number to find the factorial : '))\n",
    "factorial = 1\n",
    "if number < 0 :\n",
    "    print('Factorial cannot be found for a non integer - ',number)\n",
    "elif number==0:\n",
    "    print('Factorial for ',number,\" is : \", factorial)\n",
    "else:\n",
    "    for i in range(1,number+1):\n",
    "        factorial = factorial*i\n",
    "    print ('The factorial of',number,'is :',factorial)"
   ]
  },
  {
   "cell_type": "markdown",
   "id": "360dea8b",
   "metadata": {},
   "source": [
    "12. Write a python program to find whether a number is prime or composite"
   ]
  },
  {
   "cell_type": "code",
   "execution_count": 3,
   "id": "ada953af",
   "metadata": {},
   "outputs": [
    {
     "name": "stdout",
     "output_type": "stream",
     "text": [
      "Enter a number to check if Prime or Composite: 5\n",
      "5 is a Prime number\n"
     ]
    }
   ],
   "source": [
    "number  = int(input('Enter a number to check if Prime or Composite: '))\n",
    "if number > 1:\n",
    "    for i in range(2,number):\n",
    "        if (number % i) == 0:\n",
    "            print (number, 'is Composite number')\n",
    "            break\n",
    "    else: \n",
    "        print(number, \"is a Prime number\")\n",
    "else:\n",
    "    print('Please enter a positive number only')\n"
   ]
  },
  {
   "cell_type": "markdown",
   "id": "e598f22b",
   "metadata": {},
   "source": [
    "13. Write a python program to check whether a given string is palindrome or not?"
   ]
  },
  {
   "cell_type": "code",
   "execution_count": 4,
   "id": "0abcaa0e",
   "metadata": {},
   "outputs": [
    {
     "name": "stdout",
     "output_type": "stream",
     "text": [
      "Enter the input to check if palindrome : dada\n",
      "The word dada is not a palindrome\n"
     ]
    }
   ],
   "source": [
    "input_entered = input('Enter the input to check if palindrome : ')\n",
    "reversed_input = reversed(input_entered)\n",
    "if list(input_entered) == list(reversed_input):\n",
    "    print('The word',input_entered,'is a palindrome')\n",
    "else:\n",
    "    print('The word',input_entered,'is not a palindrome')"
   ]
  },
  {
   "cell_type": "markdown",
   "id": "4fc1e944",
   "metadata": {},
   "source": [
    "14. Write a Python program to get the third side of right-angled triangle from two given sides"
   ]
  },
  {
   "cell_type": "code",
   "execution_count": 5,
   "id": "400d8081",
   "metadata": {},
   "outputs": [
    {
     "name": "stdout",
     "output_type": "stream",
     "text": [
      "Enter the side that needs to be found as mentioned (Base/Height/Hypotenuse) : Base\n",
      "Please enter the 1st known side of triangle : 4\n",
      "Please enter the 2nd known side of the triangle : 5\n",
      "Base of a right angled triangle is : 3.0\n"
     ]
    }
   ],
   "source": [
    "side_unknown = input('Enter the side that needs to be found as mentioned (Base/Height/Hypotenuse) : ')\n",
    "first_side = int(input('Please enter the 1st known side of triangle : '))\n",
    "second_side = int(input('Please enter the 2nd known side of the triangle : '))\n",
    "\n",
    "if side_unknown == 'Base' or side_unknown == 'Height':\n",
    "    if first_side > second_side:\n",
    "        ans = math.sqrt(first_side**2 - second_side**2)\n",
    "        print(side_unknown,'of a right angled triangle is :',ans)\n",
    "    else:\n",
    "        ans = math.sqrt(second_side**2 - first_side**2)\n",
    "        print(side_unknown,'of a right angled triangle is :',ans)\n",
    "        \n",
    "else:\n",
    "    ans = math.sqrt(first_side**2 + second_side**2)\n",
    "    print(side_unknown,'of a right angled triangle is :',ans)"
   ]
  },
  {
   "cell_type": "markdown",
   "id": "c8492fed",
   "metadata": {},
   "source": [
    "15. Write a python program to print the frequency of each of the characters present in a given string"
   ]
  },
  {
   "cell_type": "code",
   "execution_count": 6,
   "id": "5a4cf7d5",
   "metadata": {},
   "outputs": [
    {
     "name": "stdout",
     "output_type": "stream",
     "text": [
      "Enter the string to find frequency : ddaadfk\n",
      "{'d': 3, 'a': 2, 'f': 1, 'k': 1}\n"
     ]
    }
   ],
   "source": [
    "char = input('Enter the string to find frequency : ')\n",
    "d = dict()\n",
    "for i in char:\n",
    "    d[i] = d.get(i,0)+1\n",
    "print(d)"
   ]
  },
  {
   "cell_type": "code",
   "execution_count": null,
   "id": "d1667b60",
   "metadata": {},
   "outputs": [],
   "source": []
  }
 ],
 "metadata": {
  "kernelspec": {
   "display_name": "Python 3",
   "language": "python",
   "name": "python3"
  },
  "language_info": {
   "codemirror_mode": {
    "name": "ipython",
    "version": 3
   },
   "file_extension": ".py",
   "mimetype": "text/x-python",
   "name": "python",
   "nbconvert_exporter": "python",
   "pygments_lexer": "ipython3",
   "version": "3.8.8"
  }
 },
 "nbformat": 4,
 "nbformat_minor": 5
}
