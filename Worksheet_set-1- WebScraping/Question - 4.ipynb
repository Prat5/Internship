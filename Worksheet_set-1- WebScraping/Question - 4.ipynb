{
 "cells": [
  {
   "cell_type": "markdown",
   "id": "79166e49",
   "metadata": {},
   "source": [
    "## 4) Write a python program to scrape product name, price and discounts from https://meesho.com/bags\u0002ladies/pl/p7vbp . "
   ]
  },
  {
   "cell_type": "code",
   "execution_count": 1,
   "id": "136a9a78",
   "metadata": {},
   "outputs": [],
   "source": [
    "from bs4 import BeautifulSoup\n",
    "import requests\n",
    "import lxml\n",
    "import numpy as np\n",
    "import pandas as pd"
   ]
  },
  {
   "cell_type": "code",
   "execution_count": 7,
   "id": "23367e03",
   "metadata": {},
   "outputs": [
    {
     "name": "stdout",
     "output_type": "stream",
     "text": [
      "Please enter the number of pages you want the data for :100\n"
     ]
    },
    {
     "data": {
      "text/html": [
       "<div>\n",
       "<style scoped>\n",
       "    .dataframe tbody tr th:only-of-type {\n",
       "        vertical-align: middle;\n",
       "    }\n",
       "\n",
       "    .dataframe tbody tr th {\n",
       "        vertical-align: top;\n",
       "    }\n",
       "\n",
       "    .dataframe thead th {\n",
       "        text-align: right;\n",
       "    }\n",
       "</style>\n",
       "<table border=\"1\" class=\"dataframe\">\n",
       "  <thead>\n",
       "    <tr style=\"text-align: right;\">\n",
       "      <th></th>\n",
       "      <th>Product Name</th>\n",
       "      <th>Price</th>\n",
       "      <th>Discounts</th>\n",
       "    </tr>\n",
       "  </thead>\n",
       "  <tbody>\n",
       "    <tr>\n",
       "      <th>0</th>\n",
       "      <td>HANDBAGS</td>\n",
       "      <td>336</td>\n",
       "      <td>23%</td>\n",
       "    </tr>\n",
       "    <tr>\n",
       "      <th>1</th>\n",
       "      <td>Graceful Fancy Women Handbags</td>\n",
       "      <td>234</td>\n",
       "      <td>30%</td>\n",
       "    </tr>\n",
       "    <tr>\n",
       "      <th>2</th>\n",
       "      <td>Classic Versatile Women Handbags</td>\n",
       "      <td>610</td>\n",
       "      <td>14%</td>\n",
       "    </tr>\n",
       "    <tr>\n",
       "      <th>3</th>\n",
       "      <td>Voguish Alluring Women Handbags</td>\n",
       "      <td>1223</td>\n",
       "      <td>8%</td>\n",
       "    </tr>\n",
       "    <tr>\n",
       "      <th>4</th>\n",
       "      <td>Gorgeous Stylish Women Handbags</td>\n",
       "      <td>484</td>\n",
       "      <td>17%</td>\n",
       "    </tr>\n",
       "    <tr>\n",
       "      <th>...</th>\n",
       "      <td>...</td>\n",
       "      <td>...</td>\n",
       "      <td>...</td>\n",
       "    </tr>\n",
       "    <tr>\n",
       "      <th>1595</th>\n",
       "      <td>Graceful Stylish Women Handbags</td>\n",
       "      <td>210</td>\n",
       "      <td>30%</td>\n",
       "    </tr>\n",
       "    <tr>\n",
       "      <th>1596</th>\n",
       "      <td>Ravishing Classy Women Handbags</td>\n",
       "      <td>884</td>\n",
       "      <td>10%</td>\n",
       "    </tr>\n",
       "    <tr>\n",
       "      <th>1597</th>\n",
       "      <td>Trendy Stylish Women Handbags</td>\n",
       "      <td>702</td>\n",
       "      <td>12%</td>\n",
       "    </tr>\n",
       "    <tr>\n",
       "      <th>1598</th>\n",
       "      <td>Elite Alluring Women Handbags</td>\n",
       "      <td>595</td>\n",
       "      <td>14%</td>\n",
       "    </tr>\n",
       "    <tr>\n",
       "      <th>1599</th>\n",
       "      <td>Voguish Stylish Women Handbags</td>\n",
       "      <td>244</td>\n",
       "      <td>29%</td>\n",
       "    </tr>\n",
       "  </tbody>\n",
       "</table>\n",
       "<p>1600 rows × 3 columns</p>\n",
       "</div>"
      ],
      "text/plain": [
       "                          Product Name Price Discounts\n",
       "0                             HANDBAGS   336       23%\n",
       "1        Graceful Fancy Women Handbags   234       30%\n",
       "2     Classic Versatile Women Handbags   610       14%\n",
       "3      Voguish Alluring Women Handbags  1223        8%\n",
       "4      Gorgeous Stylish Women Handbags   484       17%\n",
       "...                                ...   ...       ...\n",
       "1595   Graceful Stylish Women Handbags   210       30%\n",
       "1596   Ravishing Classy Women Handbags   884       10%\n",
       "1597     Trendy Stylish Women Handbags   702       12%\n",
       "1598     Elite Alluring Women Handbags   595       14%\n",
       "1599    Voguish Stylish Women Handbags   244       29%\n",
       "\n",
       "[1600 rows x 3 columns]"
      ]
     },
     "execution_count": 7,
     "metadata": {},
     "output_type": "execute_result"
    }
   ],
   "source": [
    "no_pages = int(input('Please enter the number of pages you want the data for :'))+1\n",
    "\n",
    "URL = []\n",
    "for i in range(1,no_pages):\n",
    "    url = ('https://meesho.com/bags-ladies/pl/p7vbp?page={}'.format(i))\n",
    "    URL.append(url)\n",
    "\n",
    "meesho = []\n",
    "for i in URL:\n",
    "    page = requests.get(i)\n",
    "    soup = BeautifulSoup(page.content)\n",
    "    for main_file in soup.find_all('div',class_='sc-dkzDqf ProductList__GridCol-sc-8lnc8o-0 kEYUOG ZnDzz'):\n",
    "        title = main_file.a.p.text\n",
    "        price = main_file.a.h5.text.replace('₹','')\n",
    "        discount = main_file.find('div',class_=\"Card__BaseCard-sc-b3n78k-0 fVRkfg NewProductCard__PriceRow-sc-j0e7tu-5 dYYUrF NewProductCard__PriceRow-sc-j0e7tu-5 dYYUrF\").span.text.split(' ')[0]\n",
    "        meesho.append([title,price,discount])\n",
    "meesho_final = pd.DataFrame(meesho,columns=['Product Name','Price','Discounts'])\n",
    "#meesho_final.to_excel('Meesho.xlsx')\n",
    "meesho_final"
   ]
  },
  {
   "cell_type": "code",
   "execution_count": null,
   "id": "3d77e9fc",
   "metadata": {},
   "outputs": [],
   "source": []
  },
  {
   "cell_type": "code",
   "execution_count": null,
   "id": "5c23916e",
   "metadata": {},
   "outputs": [],
   "source": []
  }
 ],
 "metadata": {
  "kernelspec": {
   "display_name": "Python 3",
   "language": "python",
   "name": "python3"
  },
  "language_info": {
   "codemirror_mode": {
    "name": "ipython",
    "version": 3
   },
   "file_extension": ".py",
   "mimetype": "text/x-python",
   "name": "python",
   "nbconvert_exporter": "python",
   "pygments_lexer": "ipython3",
   "version": "3.8.8"
  }
 },
 "nbformat": 4,
 "nbformat_minor": 5
}
