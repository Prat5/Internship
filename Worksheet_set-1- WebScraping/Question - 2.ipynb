{
 "cells": [
  {
   "cell_type": "markdown",
   "id": "1018f36d",
   "metadata": {},
   "source": [
    "## 2) Write a python program to display IMDB’s Top rated 100 movies’ data (i.e. name, rating, year of release and make data frame.\n"
   ]
  },
  {
   "cell_type": "code",
   "execution_count": 1,
   "id": "56e8d577",
   "metadata": {},
   "outputs": [],
   "source": [
    "from bs4 import BeautifulSoup\n",
    "import requests\n",
    "import lxml\n",
    "import numpy as np\n",
    "import pandas as pd"
   ]
  },
  {
   "cell_type": "code",
   "execution_count": 3,
   "id": "8eaaed02",
   "metadata": {},
   "outputs": [
    {
     "data": {
      "text/plain": [
       "<Response [200]>"
      ]
     },
     "execution_count": 3,
     "metadata": {},
     "output_type": "execute_result"
    }
   ],
   "source": [
    "URL1 = 'https://www.imdb.com/search/title/?groups=top_100&sort=user_rating,desc'\n",
    "URL2 = 'https://www.imdb.com/search/title/?groups=top_100&sort=user_rating,desc&start=51&ref_=adv_nxt'\n",
    "page1 = requests.get(URL1)\n",
    "page2 = requests.get(URL2)\n",
    "page1\n",
    "page2"
   ]
  },
  {
   "cell_type": "code",
   "execution_count": 4,
   "id": "437bbb46",
   "metadata": {},
   "outputs": [],
   "source": [
    "soup = BeautifulSoup(page1.content)\n",
    "soup2 = BeautifulSoup(page2.content)"
   ]
  },
  {
   "cell_type": "code",
   "execution_count": 5,
   "id": "49a78064",
   "metadata": {},
   "outputs": [
    {
     "data": {
      "text/html": [
       "<div>\n",
       "<style scoped>\n",
       "    .dataframe tbody tr th:only-of-type {\n",
       "        vertical-align: middle;\n",
       "    }\n",
       "\n",
       "    .dataframe tbody tr th {\n",
       "        vertical-align: top;\n",
       "    }\n",
       "\n",
       "    .dataframe thead th {\n",
       "        text-align: right;\n",
       "    }\n",
       "</style>\n",
       "<table border=\"1\" class=\"dataframe\">\n",
       "  <thead>\n",
       "    <tr style=\"text-align: right;\">\n",
       "      <th></th>\n",
       "      <th>Movie_Name</th>\n",
       "      <th>Rating</th>\n",
       "      <th>Year</th>\n",
       "    </tr>\n",
       "  </thead>\n",
       "  <tbody>\n",
       "    <tr>\n",
       "      <th>0</th>\n",
       "      <td>The Shawshank Redemption</td>\n",
       "      <td>9.3</td>\n",
       "      <td>1994</td>\n",
       "    </tr>\n",
       "    <tr>\n",
       "      <th>1</th>\n",
       "      <td>The Godfather</td>\n",
       "      <td>9.2</td>\n",
       "      <td>1972</td>\n",
       "    </tr>\n",
       "    <tr>\n",
       "      <th>2</th>\n",
       "      <td>The Dark Knight</td>\n",
       "      <td>9.1</td>\n",
       "      <td>2008</td>\n",
       "    </tr>\n",
       "    <tr>\n",
       "      <th>3</th>\n",
       "      <td>The Lord of the Rings: The Return of the King</td>\n",
       "      <td>9.0</td>\n",
       "      <td>2003</td>\n",
       "    </tr>\n",
       "    <tr>\n",
       "      <th>4</th>\n",
       "      <td>Schindler's List</td>\n",
       "      <td>9.0</td>\n",
       "      <td>1993</td>\n",
       "    </tr>\n",
       "    <tr>\n",
       "      <th>...</th>\n",
       "      <td>...</td>\n",
       "      <td>...</td>\n",
       "      <td>...</td>\n",
       "    </tr>\n",
       "    <tr>\n",
       "      <th>95</th>\n",
       "      <td>North by Northwest</td>\n",
       "      <td>8.3</td>\n",
       "      <td>1959</td>\n",
       "    </tr>\n",
       "    <tr>\n",
       "      <th>96</th>\n",
       "      <td>Vertigo</td>\n",
       "      <td>8.3</td>\n",
       "      <td>1958</td>\n",
       "    </tr>\n",
       "    <tr>\n",
       "      <th>97</th>\n",
       "      <td>Singin' in the Rain</td>\n",
       "      <td>8.3</td>\n",
       "      <td>1952</td>\n",
       "    </tr>\n",
       "    <tr>\n",
       "      <th>98</th>\n",
       "      <td>Citizen Kane</td>\n",
       "      <td>8.3</td>\n",
       "      <td>1941</td>\n",
       "    </tr>\n",
       "    <tr>\n",
       "      <th>99</th>\n",
       "      <td>M - Eine Stadt sucht einen Mörder</td>\n",
       "      <td>8.3</td>\n",
       "      <td>1931</td>\n",
       "    </tr>\n",
       "  </tbody>\n",
       "</table>\n",
       "<p>100 rows × 3 columns</p>\n",
       "</div>"
      ],
      "text/plain": [
       "                                       Movie_Name Rating  Year\n",
       "0                        The Shawshank Redemption    9.3  1994\n",
       "1                                   The Godfather    9.2  1972\n",
       "2                                 The Dark Knight    9.1  2008\n",
       "3   The Lord of the Rings: The Return of the King    9.0  2003\n",
       "4                                Schindler's List    9.0  1993\n",
       "..                                            ...    ...   ...\n",
       "95                             North by Northwest    8.3  1959\n",
       "96                                        Vertigo    8.3  1958\n",
       "97                            Singin' in the Rain    8.3  1952\n",
       "98                                   Citizen Kane    8.3  1941\n",
       "99              M - Eine Stadt sucht einen Mörder    8.3  1931\n",
       "\n",
       "[100 rows x 3 columns]"
      ]
     },
     "execution_count": 5,
     "metadata": {},
     "output_type": "execute_result"
    }
   ],
   "source": [
    "df_f = []\n",
    "for main_file in soup.find_all('div',class_=\"lister-item-content\"):\n",
    "    heading = main_file.h3.a.text\n",
    "    rating = main_file.find('div',class_=\"inline-block ratings-imdb-rating\").text.strip('\\n')\n",
    "    release_year = main_file.h3.find(\"span\",class_=\"lister-item-year text-muted unbold\").text.strip('()')\n",
    "    df = (heading,rating,release_year)\n",
    "    df_f.append(df)\n",
    "for main_file in soup2.find_all('div',class_=\"lister-item-content\"):\n",
    "    heading = main_file.h3.a.text\n",
    "    rating = main_file.find('div',class_=\"inline-block ratings-imdb-rating\").text.strip('\\n')\n",
    "    release_year = main_file.h3.find(\"span\",class_=\"lister-item-year text-muted unbold\").text.strip('()')\n",
    "    df = (heading,rating,release_year)\n",
    "    df_f.append(df)\n",
    "df_final = pd.DataFrame(df_f,columns=['Movie_Name','Rating','Year'])\n",
    "df_final"
   ]
  },
  {
   "cell_type": "code",
   "execution_count": null,
   "id": "fa07ed37",
   "metadata": {},
   "outputs": [],
   "source": []
  }
 ],
 "metadata": {
  "kernelspec": {
   "display_name": "Python 3",
   "language": "python",
   "name": "python3"
  },
  "language_info": {
   "codemirror_mode": {
    "name": "ipython",
    "version": 3
   },
   "file_extension": ".py",
   "mimetype": "text/x-python",
   "name": "python",
   "nbconvert_exporter": "python",
   "pygments_lexer": "ipython3",
   "version": "3.8.8"
  }
 },
 "nbformat": 4,
 "nbformat_minor": 5
}
