{
 "cells": [
  {
   "cell_type": "markdown",
   "id": "ba9677c4",
   "metadata": {},
   "source": [
    "## 8) Write a python program to scrape house details from mentioned URL. It should include house title, location,area, EMI and price from https://www.nobroker.in/ .Enter three localities which are Indira Nagar, Jayanagar, Rajaji Nagar."
   ]
  },
  {
   "cell_type": "code",
   "execution_count": 7,
   "id": "52a21b06",
   "metadata": {},
   "outputs": [],
   "source": [
    "from bs4 import BeautifulSoup\n",
    "import requests\n",
    "import lxml\n",
    "import numpy as np\n",
    "import pandas as pd"
   ]
  },
  {
   "cell_type": "code",
   "execution_count": 22,
   "id": "b06bfbe0",
   "metadata": {},
   "outputs": [
    {
     "data": {
      "text/html": [
       "<div>\n",
       "<style scoped>\n",
       "    .dataframe tbody tr th:only-of-type {\n",
       "        vertical-align: middle;\n",
       "    }\n",
       "\n",
       "    .dataframe tbody tr th {\n",
       "        vertical-align: top;\n",
       "    }\n",
       "\n",
       "    .dataframe thead th {\n",
       "        text-align: right;\n",
       "    }\n",
       "</style>\n",
       "<table border=\"1\" class=\"dataframe\">\n",
       "  <thead>\n",
       "    <tr style=\"text-align: right;\">\n",
       "      <th></th>\n",
       "      <th>House Title</th>\n",
       "      <th>Location</th>\n",
       "      <th>Area</th>\n",
       "      <th>Price</th>\n",
       "      <th>EMI</th>\n",
       "    </tr>\n",
       "  </thead>\n",
       "  <tbody>\n",
       "    <tr>\n",
       "      <th>0</th>\n",
       "      <td>3 BHK Apartment  For Sale  In Brigade Gateway ...</td>\n",
       "      <td>Brigade Gateway  Dr Rajkumar Road, Rajaji Naga...</td>\n",
       "      <td>Rajaji Nagar</td>\n",
       "      <td>₹2.62 Crores</td>\n",
       "      <td>1.5 Lacs/Month</td>\n",
       "    </tr>\n",
       "    <tr>\n",
       "      <th>1</th>\n",
       "      <td>2 BHK Apartment  For Sale  In Jains Prakriti I...</td>\n",
       "      <td>Jains Prakriti   Kanakapura Rd, 7th Block West...</td>\n",
       "      <td>Jayanagar</td>\n",
       "      <td>₹2 Crores</td>\n",
       "      <td>1.15 Lacs/Month</td>\n",
       "    </tr>\n",
       "    <tr>\n",
       "      <th>2</th>\n",
       "      <td>2 BHK Flat  For Sale  In Jayanagar Residency I...</td>\n",
       "      <td>Jayanagar Residency, K V Layout, LIC Colony, J...</td>\n",
       "      <td>Jayanagar</td>\n",
       "      <td>₹1 Crore</td>\n",
       "      <td>57,314/Month</td>\n",
       "    </tr>\n",
       "    <tr>\n",
       "      <th>3</th>\n",
       "      <td>2 BHK Apartment  For Sale  In Blueberry Apartm...</td>\n",
       "      <td>Blueberry Apartment  13th E Main Rd, Channakes...</td>\n",
       "      <td>Indiranagar</td>\n",
       "      <td>₹1.53 Crores</td>\n",
       "      <td>87,691/Month</td>\n",
       "    </tr>\n",
       "    <tr>\n",
       "      <th>4</th>\n",
       "      <td>4 BHK Flat  For Sale  In Rrbc Piccassso In Jay...</td>\n",
       "      <td>Municipal No.152, 18th main road, beside Sai B...</td>\n",
       "      <td>Jayanagar</td>\n",
       "      <td>₹6.83 Crores</td>\n",
       "      <td>3.91 Lacs/Month</td>\n",
       "    </tr>\n",
       "  </tbody>\n",
       "</table>\n",
       "</div>"
      ],
      "text/plain": [
       "                                         House Title  \\\n",
       "0  3 BHK Apartment  For Sale  In Brigade Gateway ...   \n",
       "1  2 BHK Apartment  For Sale  In Jains Prakriti I...   \n",
       "2  2 BHK Flat  For Sale  In Jayanagar Residency I...   \n",
       "3  2 BHK Apartment  For Sale  In Blueberry Apartm...   \n",
       "4  4 BHK Flat  For Sale  In Rrbc Piccassso In Jay...   \n",
       "\n",
       "                                            Location          Area  \\\n",
       "0  Brigade Gateway  Dr Rajkumar Road, Rajaji Naga...  Rajaji Nagar   \n",
       "1  Jains Prakriti   Kanakapura Rd, 7th Block West...     Jayanagar   \n",
       "2  Jayanagar Residency, K V Layout, LIC Colony, J...     Jayanagar   \n",
       "3  Blueberry Apartment  13th E Main Rd, Channakes...   Indiranagar   \n",
       "4  Municipal No.152, 18th main road, beside Sai B...     Jayanagar   \n",
       "\n",
       "          Price              EMI  \n",
       "0  ₹2.62 Crores   1.5 Lacs/Month  \n",
       "1     ₹2 Crores  1.15 Lacs/Month  \n",
       "2      ₹1 Crore     57,314/Month  \n",
       "3  ₹1.53 Crores     87,691/Month  \n",
       "4  ₹6.83 Crores  3.91 Lacs/Month  "
      ]
     },
     "execution_count": 22,
     "metadata": {},
     "output_type": "execute_result"
    }
   ],
   "source": [
    "url = 'https://www.nobroker.in/property/sale/bangalore/multiple?searchParam=W3sibGF0IjoxMi45NzgzNjkyLCJsb24iOjc3LjY0MDgzNTYsInBsYWNlSWQiOiJDaElKa1FOM0dLUVdyanNSTmhCUUpyaEdEN1UiLCJwbGFjZU5hbWUiOiJJbmRpcmFuYWdhciIsInNob3dNYXAiOmZhbHNlfSx7ImxhdCI6MTIuOTMwNzczNSwibG9uIjo3Ny41ODM4MzAyLCJwbGFjZUlkIjoiQ2hJSjJkZGxaNWdWcmpzUmgxQk9BYWYtb3JzIiwicGxhY2VOYW1lIjoiSmF5YW5hZ2FyIiwic2hvd01hcCI6ZmFsc2V9LHsibGF0IjoxMi45OTgxNzMyLCJsb24iOjc3LjU1MzA0NDU5OTk5OTk5LCJwbGFjZUlkIjoiQ2hJSnhmVzREUE05cmpzUktzTlRHLTVwX1FRIiwicGxhY2VOYW1lIjoiUmFqYWppbmFnYXIiLCJzaG93TWFwIjpmYWxzZX1d'\n",
    "page = requests.get(url,'lxml')\n",
    "soup = BeautifulSoup(page.content)\n",
    "df = []\n",
    "for main_file in soup.find_all('article'):\n",
    "    name = main_file.find('span',class_=\"overflow-hidden overflow-ellipsis whitespace-nowrap max-w-80pe po:max-w-full\").text\n",
    "    location = main_file.find('div',class_=\"mt-0.5p overflow-hidden overflow-ellipsis whitespace-nowrap max-w-70 text-gray-light leading-4 po:mb-0 po:max-w-95\").text\n",
    "\n",
    "    if 'Jayanagar' in name:\n",
    "        area = 'Jayanagar'\n",
    "    elif 'Rajaji Nagar' in name:\n",
    "        area = 'Rajaji Nagar'\n",
    "    else:\n",
    "        area = 'Indiranagar'\n",
    "    rent = main_file.find('div',class_=\"flex flex-col w-33pe items-center bo tp:w-half po:w-full border-r-0\").div.text\n",
    "    dep = []\n",
    "    for subfile in main_file.find_all('div',class_=\"font-semi-bold heading-6\"):\n",
    "        dep.append(subfile.text.strip('₹'))\n",
    "    emi = dep[1]\n",
    "    df.append([name,location,area,rent,emi])\n",
    "NoBroker = pd.DataFrame(df,columns=['House Title','Location','Area','Price','EMI'])\n",
    "NoBroker"
   ]
  },
  {
   "cell_type": "code",
   "execution_count": null,
   "id": "3a4f4fa0",
   "metadata": {},
   "outputs": [],
   "source": []
  }
 ],
 "metadata": {
  "kernelspec": {
   "display_name": "Python 3",
   "language": "python",
   "name": "python3"
  },
  "language_info": {
   "codemirror_mode": {
    "name": "ipython",
    "version": 3
   },
   "file_extension": ".py",
   "mimetype": "text/x-python",
   "name": "python",
   "nbconvert_exporter": "python",
   "pygments_lexer": "ipython3",
   "version": "3.8.8"
  }
 },
 "nbformat": 4,
 "nbformat_minor": 5
}
