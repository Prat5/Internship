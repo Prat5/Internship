{
 "cells": [
  {
   "cell_type": "code",
   "execution_count": 289,
   "id": "3cadfbb2",
   "metadata": {},
   "outputs": [],
   "source": [
    "import numpy as np\n",
    "import pandas as pd\n",
    "import seaborn as sns\n",
    "import matplotlib.pyplot as plt\n",
    "import plotly.express as pt\n",
    "import re\n",
    "from tqdm import tqdm\n",
    "import warnings\n",
    "warnings.filterwarnings('ignore')"
   ]
  },
  {
   "cell_type": "code",
   "execution_count": 290,
   "id": "2e0c9e2b",
   "metadata": {},
   "outputs": [
    {
     "data": {
      "text/html": [
       "<div><div id=79ad948f-5643-49b8-a606-35f5ff075467 style=\"display:none; background-color:#9D6CFF; color:white; width:200px; height:30px; padding-left:5px; border-radius:4px; flex-direction:row; justify-content:space-around; align-items:center;\" onmouseover=\"this.style.backgroundColor='#BA9BF8'\" onmouseout=\"this.style.backgroundColor='#9D6CFF'\" onclick=\"window.commands?.execute('create-mitosheet-from-dataframe-output');\">See Full Dataframe in Mito</div> <script> if (window.commands?.hasCommand('create-mitosheet-from-dataframe-output')) document.getElementById('79ad948f-5643-49b8-a606-35f5ff075467').style.display = 'flex' </script> <table border=\"1\" class=\"dataframe\">\n",
       "  <thead>\n",
       "    <tr style=\"text-align: right;\">\n",
       "      <th></th>\n",
       "      <th>Unnamed: 0</th>\n",
       "      <th>Unnamed: 0.1</th>\n",
       "      <th>Review</th>\n",
       "      <th>Rating</th>\n",
       "    </tr>\n",
       "  </thead>\n",
       "  <tbody>\n",
       "    <tr>\n",
       "      <th>20345</th>\n",
       "      <td>7507</td>\n",
       "      <td>7507</td>\n",
       "      <td>Excellent must buy the product 🔥</td>\n",
       "      <td>4.0 out of 5 stars</td>\n",
       "    </tr>\n",
       "    <tr>\n",
       "      <th>20346</th>\n",
       "      <td>7508</td>\n",
       "      <td>7508</td>\n",
       "      <td>Yes</td>\n",
       "      <td>4.0 out of 5 stars</td>\n",
       "    </tr>\n",
       "    <tr>\n",
       "      <th>20347</th>\n",
       "      <td>7509</td>\n",
       "      <td>7509</td>\n",
       "      <td>You should go for it</td>\n",
       "      <td>4.0 out of 5 stars</td>\n",
       "    </tr>\n",
       "  </tbody>\n",
       "</table></div>"
      ],
      "text/plain": [
       "       Unnamed: 0  Unnamed: 0.1                            Review  \\\n",
       "20345        7507          7507  Excellent must buy the product 🔥   \n",
       "20346        7508          7508                               Yes   \n",
       "20347        7509          7509              You should go for it   \n",
       "\n",
       "                   Rating  \n",
       "20345  4.0 out of 5 stars  \n",
       "20346  4.0 out of 5 stars  \n",
       "20347  4.0 out of 5 stars  "
      ]
     },
     "execution_count": 290,
     "metadata": {},
     "output_type": "execute_result"
    }
   ],
   "source": [
    "df = pd.read_csv('nlp_data_final.csv')\n",
    "df.tail(3)"
   ]
  },
  {
   "cell_type": "markdown",
   "id": "600b63c3",
   "metadata": {},
   "source": [
    "### Checking duplicates"
   ]
  },
  {
   "cell_type": "code",
   "execution_count": 291,
   "id": "8edce26d",
   "metadata": {},
   "outputs": [
    {
     "data": {
      "text/plain": [
       "0"
      ]
     },
     "execution_count": 291,
     "metadata": {},
     "output_type": "execute_result"
    }
   ],
   "source": [
    "df.duplicated().sum()"
   ]
  },
  {
   "cell_type": "code",
   "execution_count": 292,
   "id": "7aedbb8b",
   "metadata": {},
   "outputs": [],
   "source": [
    "df.drop_duplicates(inplace=True)"
   ]
  },
  {
   "cell_type": "code",
   "execution_count": 293,
   "id": "305abe07",
   "metadata": {},
   "outputs": [
    {
     "data": {
      "text/plain": [
       "0"
      ]
     },
     "execution_count": 293,
     "metadata": {},
     "output_type": "execute_result"
    }
   ],
   "source": [
    "df.duplicated().sum()"
   ]
  },
  {
   "cell_type": "code",
   "execution_count": 294,
   "id": "7bf466b3",
   "metadata": {},
   "outputs": [],
   "source": [
    "df = df.reset_index()"
   ]
  },
  {
   "cell_type": "markdown",
   "id": "43049ebf",
   "metadata": {},
   "source": [
    "### Checking Null values"
   ]
  },
  {
   "cell_type": "code",
   "execution_count": 295,
   "id": "e0c58a5d",
   "metadata": {},
   "outputs": [
    {
     "data": {
      "text/plain": [
       "index           0\n",
       "Unnamed: 0      0\n",
       "Unnamed: 0.1    0\n",
       "Review          4\n",
       "Rating          0\n",
       "dtype: int64"
      ]
     },
     "execution_count": 295,
     "metadata": {},
     "output_type": "execute_result"
    }
   ],
   "source": [
    "df.isnull().sum()"
   ]
  },
  {
   "cell_type": "code",
   "execution_count": 296,
   "id": "201beeed",
   "metadata": {},
   "outputs": [],
   "source": [
    "df.dropna(inplace=True)"
   ]
  },
  {
   "cell_type": "code",
   "execution_count": 297,
   "id": "2088d675",
   "metadata": {},
   "outputs": [
    {
     "data": {
      "text/plain": [
       "index           0\n",
       "Unnamed: 0      0\n",
       "Unnamed: 0.1    0\n",
       "Review          0\n",
       "Rating          0\n",
       "dtype: int64"
      ]
     },
     "execution_count": 297,
     "metadata": {},
     "output_type": "execute_result"
    }
   ],
   "source": [
    "df.isnull().sum()"
   ]
  },
  {
   "cell_type": "markdown",
   "id": "a459cd2a",
   "metadata": {},
   "source": [
    "## Data Preprocessing"
   ]
  },
  {
   "cell_type": "code",
   "execution_count": 298,
   "id": "b69db7f3",
   "metadata": {},
   "outputs": [
    {
     "data": {
      "text/html": [
       "<div><div id=35cfba24-b905-4f56-8111-2ddc85d5c312 style=\"display:none; background-color:#9D6CFF; color:white; width:200px; height:30px; padding-left:5px; border-radius:4px; flex-direction:row; justify-content:space-around; align-items:center;\" onmouseover=\"this.style.backgroundColor='#BA9BF8'\" onmouseout=\"this.style.backgroundColor='#9D6CFF'\" onclick=\"window.commands?.execute('create-mitosheet-from-dataframe-output');\">See Full Dataframe in Mito</div> <script> if (window.commands?.hasCommand('create-mitosheet-from-dataframe-output')) document.getElementById('35cfba24-b905-4f56-8111-2ddc85d5c312').style.display = 'flex' </script> <table border=\"1\" class=\"dataframe\">\n",
       "  <thead>\n",
       "    <tr style=\"text-align: right;\">\n",
       "      <th></th>\n",
       "      <th>index</th>\n",
       "      <th>Unnamed: 0</th>\n",
       "      <th>Unnamed: 0.1</th>\n",
       "      <th>Review</th>\n",
       "      <th>Rating</th>\n",
       "    </tr>\n",
       "  </thead>\n",
       "  <tbody>\n",
       "    <tr>\n",
       "      <th>93</th>\n",
       "      <td>93</td>\n",
       "      <td>93</td>\n",
       "      <td>93</td>\n",
       "      <td>I ordered this phone on 22 Feb at Sail day at Amazon. I received this phone, this Monday 28 Feb.\\nTill now I am using this phone and very fond of.\\nVery smooth operation, camera is also pretty good and Finger print senser is cool and fast.\\n\\nI am little bit disappointed fot battery life but yet due to giant charger it is manage to use.\\n\\nIn 35 minutes battery is fully charged.\\n\\nLove this phone. Over all good phone in this price range</td>\n",
       "      <td>4.0 out of 5 stars</td>\n",
       "    </tr>\n",
       "    <tr>\n",
       "      <th>7627</th>\n",
       "      <td>7627</td>\n",
       "      <td>7627</td>\n",
       "      <td>7627</td>\n",
       "      <td>This phone doesn't have 3.5 mm audio jack but its wrongly mentioned in the product specifications on amazon.</td>\n",
       "      <td>3.0 out of 5 stars</td>\n",
       "    </tr>\n",
       "    <tr>\n",
       "      <th>16222</th>\n",
       "      <td>16222</td>\n",
       "      <td>3384</td>\n",
       "      <td>3384</td>\n",
       "      <td>Not as expected.. but ok with the prize range. ..</td>\n",
       "      <td>4.0 out of 5 stars</td>\n",
       "    </tr>\n",
       "    <tr>\n",
       "      <th>4473</th>\n",
       "      <td>4473</td>\n",
       "      <td>4473</td>\n",
       "      <td>4473</td>\n",
       "      <td>It's not good quality.</td>\n",
       "      <td>1.0 out of 5 stars</td>\n",
       "    </tr>\n",
       "    <tr>\n",
       "      <th>10305</th>\n",
       "      <td>10305</td>\n",
       "      <td>10305</td>\n",
       "      <td>10305</td>\n",
       "      <td>Good and compact.</td>\n",
       "      <td>4.0 out of 5 stars</td>\n",
       "    </tr>\n",
       "  </tbody>\n",
       "</table></div>"
      ],
      "text/plain": [
       "       index  Unnamed: 0  Unnamed: 0.1  \\\n",
       "93        93          93            93   \n",
       "7627    7627        7627          7627   \n",
       "16222  16222        3384          3384   \n",
       "4473    4473        4473          4473   \n",
       "10305  10305       10305         10305   \n",
       "\n",
       "                                                  Review              Rating  \n",
       "93     I ordered this phone on 22 Feb at Sail day at ...  4.0 out of 5 stars  \n",
       "7627   This phone doesn't have 3.5 mm audio jack but ...  3.0 out of 5 stars  \n",
       "16222  Not as expected.. but ok with the prize range. ..  4.0 out of 5 stars  \n",
       "4473                              It's not good quality.  1.0 out of 5 stars  \n",
       "10305                                  Good and compact.  4.0 out of 5 stars  "
      ]
     },
     "execution_count": 298,
     "metadata": {},
     "output_type": "execute_result"
    }
   ],
   "source": [
    "df.sample(5)"
   ]
  },
  {
   "cell_type": "markdown",
   "id": "f36d6042",
   "metadata": {},
   "source": [
    "* Initial Observations - \n",
    "    Things which would have to be taken care off\n",
    "    - We have letter's in mixed casing.\n",
    "    - We have puntuations.\n",
    "    - We have stopwords.\n",
    "    - We see there are emoji's in the dataset.\n",
    "    - We have Unnamed column's which are of no use, so we could drop them."
   ]
  },
  {
   "cell_type": "markdown",
   "id": "002156c0",
   "metadata": {},
   "source": [
    "#### Unnamed"
   ]
  },
  {
   "cell_type": "code",
   "execution_count": 299,
   "id": "32f18b60",
   "metadata": {},
   "outputs": [
    {
     "data": {
      "text/html": [
       "<div><div id=77a87633-bbca-41eb-9225-6222c32e7323 style=\"display:none; background-color:#9D6CFF; color:white; width:200px; height:30px; padding-left:5px; border-radius:4px; flex-direction:row; justify-content:space-around; align-items:center;\" onmouseover=\"this.style.backgroundColor='#BA9BF8'\" onmouseout=\"this.style.backgroundColor='#9D6CFF'\" onclick=\"window.commands?.execute('create-mitosheet-from-dataframe-output');\">See Full Dataframe in Mito</div> <script> if (window.commands?.hasCommand('create-mitosheet-from-dataframe-output')) document.getElementById('77a87633-bbca-41eb-9225-6222c32e7323').style.display = 'flex' </script> <table border=\"1\" class=\"dataframe\">\n",
       "  <thead>\n",
       "    <tr style=\"text-align: right;\">\n",
       "      <th></th>\n",
       "      <th>Review</th>\n",
       "      <th>Rating</th>\n",
       "    </tr>\n",
       "  </thead>\n",
       "  <tbody>\n",
       "    <tr>\n",
       "      <th>14806</th>\n",
       "      <td>Samsung galaxy note 8 wonderfull phone lookvise Display is good camera quality is amazing bettery backup is not good but I think it's adjustable</td>\n",
       "      <td>5.0 out of 5 stars</td>\n",
       "    </tr>\n",
       "    <tr>\n",
       "      <th>16761</th>\n",
       "      <td>I need to talk to technetion bcos its not connecting to my tv</td>\n",
       "      <td>5.0 out of 5 stars</td>\n",
       "    </tr>\n",
       "    <tr>\n",
       "      <th>1694</th>\n",
       "      <td>EVERYTHING IS BEST IN PHONE BUT IS BATTERY DRAINING TO FAST</td>\n",
       "      <td>5.0 out of 5 stars</td>\n",
       "    </tr>\n",
       "  </tbody>\n",
       "</table></div>"
      ],
      "text/plain": [
       "                                                  Review              Rating\n",
       "14806  Samsung galaxy note 8 wonderfull phone lookvis...  5.0 out of 5 stars\n",
       "16761  I need to talk to technetion bcos its not conn...  5.0 out of 5 stars\n",
       "1694   EVERYTHING IS BEST IN PHONE BUT IS BATTERY DRA...  5.0 out of 5 stars"
      ]
     },
     "execution_count": 299,
     "metadata": {},
     "output_type": "execute_result"
    }
   ],
   "source": [
    "df.drop(['index','Unnamed: 0','Unnamed: 0.1'],axis=1,inplace=True)\n",
    "df.sample(3)"
   ]
  },
  {
   "cell_type": "markdown",
   "id": "d0329b19",
   "metadata": {},
   "source": [
    "### Rating\n",
    "We just need the ratings and not the entire text. Let's keep just the rating and convert it into int format"
   ]
  },
  {
   "cell_type": "code",
   "execution_count": 300,
   "id": "6d8674cc",
   "metadata": {},
   "outputs": [],
   "source": [
    "for i in range(len(df)):\n",
    "    try:\n",
    "        df['Rating'][i] = df['Rating'][i].split('.')[0]\n",
    "    except:\n",
    "        pass"
   ]
  },
  {
   "cell_type": "code",
   "execution_count": 301,
   "id": "8093041f",
   "metadata": {},
   "outputs": [
    {
     "data": {
      "text/plain": [
       "5                     6222\n",
       "1                     4710\n",
       "4                     4618\n",
       "3                     3152\n",
       "2                     1624\n",
       "-                       14\n",
       "4.0 out of 5 stars       4\n",
       "Name: Rating, dtype: int64"
      ]
     },
     "execution_count": 301,
     "metadata": {},
     "output_type": "execute_result"
    }
   ],
   "source": [
    "df['Rating'].value_counts()"
   ]
  },
  {
   "cell_type": "code",
   "execution_count": 302,
   "id": "00246c89",
   "metadata": {},
   "outputs": [
    {
     "data": {
      "text/plain": [
       "Int64Index([20344, 20345, 20346, 20347], dtype='int64')"
      ]
     },
     "execution_count": 302,
     "metadata": {},
     "output_type": "execute_result"
    }
   ],
   "source": [
    "not_convrted = df[df['Rating']=='4.0 out of 5 stars'].index\n",
    "not_convrted"
   ]
  },
  {
   "cell_type": "code",
   "execution_count": 303,
   "id": "b16dc96f",
   "metadata": {},
   "outputs": [],
   "source": [
    "for i in not_convrted:\n",
    "    df['Rating'][i] = df['Rating'][i].split('.')[0]"
   ]
  },
  {
   "cell_type": "markdown",
   "id": "b34e1dcb",
   "metadata": {},
   "source": [
    "There are some Ratings missing and theres no way to predict them hence we could delete them as the number is too small for missing ratings."
   ]
  },
  {
   "cell_type": "code",
   "execution_count": 304,
   "id": "b2b2eb66",
   "metadata": {},
   "outputs": [
    {
     "data": {
      "text/html": [
       "<div><div id=7c401840-5fba-4309-a7cc-c8cd9eaca8dd style=\"display:none; background-color:#9D6CFF; color:white; width:200px; height:30px; padding-left:5px; border-radius:4px; flex-direction:row; justify-content:space-around; align-items:center;\" onmouseover=\"this.style.backgroundColor='#BA9BF8'\" onmouseout=\"this.style.backgroundColor='#9D6CFF'\" onclick=\"window.commands?.execute('create-mitosheet-from-dataframe-output');\">See Full Dataframe in Mito</div> <script> if (window.commands?.hasCommand('create-mitosheet-from-dataframe-output')) document.getElementById('7c401840-5fba-4309-a7cc-c8cd9eaca8dd').style.display = 'flex' </script> <table border=\"1\" class=\"dataframe\">\n",
       "  <thead>\n",
       "    <tr style=\"text-align: right;\">\n",
       "      <th></th>\n",
       "      <th>Review</th>\n",
       "      <th>Rating</th>\n",
       "    </tr>\n",
       "  </thead>\n",
       "  <tbody>\n",
       "    <tr>\n",
       "      <th>20328</th>\n",
       "      <td>Yes</td>\n",
       "      <td>4</td>\n",
       "    </tr>\n",
       "    <tr>\n",
       "      <th>20329</th>\n",
       "      <td>You should go for it</td>\n",
       "      <td>4</td>\n",
       "    </tr>\n",
       "  </tbody>\n",
       "</table></div>"
      ],
      "text/plain": [
       "                     Review Rating\n",
       "20328                   Yes      4\n",
       "20329  You should go for it      4"
      ]
     },
     "execution_count": 304,
     "metadata": {},
     "output_type": "execute_result"
    }
   ],
   "source": [
    "df = df[df['Rating'] != '-']\n",
    "df = df.reset_index()\n",
    "df.drop('index',axis=1,inplace=True)\n",
    "df.tail(2)"
   ]
  },
  {
   "cell_type": "code",
   "execution_count": 305,
   "id": "9d53cd50",
   "metadata": {},
   "outputs": [
    {
     "data": {
      "text/plain": [
       "5    6222\n",
       "1    4710\n",
       "4    4622\n",
       "3    3152\n",
       "2    1624\n",
       "Name: Rating, dtype: int64"
      ]
     },
     "execution_count": 305,
     "metadata": {},
     "output_type": "execute_result"
    }
   ],
   "source": [
    "df['Rating'].value_counts()"
   ]
  },
  {
   "cell_type": "code",
   "execution_count": 306,
   "id": "3b110f75",
   "metadata": {},
   "outputs": [],
   "source": [
    "df['Rating'] = df['Rating'].astype('int')"
   ]
  },
  {
   "cell_type": "code",
   "execution_count": 307,
   "id": "0157960c",
   "metadata": {},
   "outputs": [
    {
     "data": {
      "text/plain": [
       "Review    object\n",
       "Rating     int32\n",
       "dtype: object"
      ]
     },
     "execution_count": 307,
     "metadata": {},
     "output_type": "execute_result"
    }
   ],
   "source": [
    "df.dtypes"
   ]
  },
  {
   "cell_type": "markdown",
   "id": "94e13767",
   "metadata": {},
   "source": [
    "### Review"
   ]
  },
  {
   "cell_type": "code",
   "execution_count": 308,
   "id": "a6546c81",
   "metadata": {},
   "outputs": [],
   "source": [
    "df['Text_Length'] = df['Review'].str.len()"
   ]
  },
  {
   "cell_type": "code",
   "execution_count": 309,
   "id": "8b13f337",
   "metadata": {},
   "outputs": [
    {
     "data": {
      "text/html": [
       "<div><div id=9128c35c-e5d8-4c41-82dc-2d563289a827 style=\"display:none; background-color:#9D6CFF; color:white; width:200px; height:30px; padding-left:5px; border-radius:4px; flex-direction:row; justify-content:space-around; align-items:center;\" onmouseover=\"this.style.backgroundColor='#BA9BF8'\" onmouseout=\"this.style.backgroundColor='#9D6CFF'\" onclick=\"window.commands?.execute('create-mitosheet-from-dataframe-output');\">See Full Dataframe in Mito</div> <script> if (window.commands?.hasCommand('create-mitosheet-from-dataframe-output')) document.getElementById('9128c35c-e5d8-4c41-82dc-2d563289a827').style.display = 'flex' </script> <table border=\"1\" class=\"dataframe\">\n",
       "  <thead>\n",
       "    <tr style=\"text-align: right;\">\n",
       "      <th></th>\n",
       "      <th>Review</th>\n",
       "      <th>Rating</th>\n",
       "      <th>Text_Length</th>\n",
       "    </tr>\n",
       "  </thead>\n",
       "  <tbody>\n",
       "    <tr>\n",
       "      <th>9572</th>\n",
       "      <td>Superb quality speakers I loved this product 👌 and Perfect for small home</td>\n",
       "      <td>5</td>\n",
       "      <td>73</td>\n",
       "    </tr>\n",
       "    <tr>\n",
       "      <th>9573</th>\n",
       "      <td>I am use in just 2 week and my experience my home like a cinema hall bass quality is best and valule for money</td>\n",
       "      <td>5</td>\n",
       "      <td>110</td>\n",
       "    </tr>\n",
       "    <tr>\n",
       "      <th>9574</th>\n",
       "      <td>Packing good, delivery fast and price I got also good as I got it in 1899, but FM catching capability of this is horrible, otherwise it is good</td>\n",
       "      <td>3</td>\n",
       "      <td>143</td>\n",
       "    </tr>\n",
       "    <tr>\n",
       "      <th>9575</th>\n",
       "      <td>go for it sine product in good price</td>\n",
       "      <td>5</td>\n",
       "      <td>36</td>\n",
       "    </tr>\n",
       "    <tr>\n",
       "      <th>9576</th>\n",
       "      <td>ஓரளவுக்கு நல்லா தான் இருக்கு இந்த ரேட்டுக்கு best home theatre கம்ப்யூட்டர் லேப்டாப் யூஸ் பண்றவங்களுக்கு இது நல்லா இருக்கும்</td>\n",
       "      <td>3</td>\n",
       "      <td>124</td>\n",
       "    </tr>\n",
       "    <tr>\n",
       "      <th>9577</th>\n",
       "      <td>Sound quality is very good, highs and bass is very good.Remote control is very handy. Connectivity is very nice.Value for money.</td>\n",
       "      <td>5</td>\n",
       "      <td>128</td>\n",
       "    </tr>\n",
       "  </tbody>\n",
       "</table></div>"
      ],
      "text/plain": [
       "                                                 Review  Rating  Text_Length\n",
       "9572  Superb quality speakers I loved this product 👌...       5           73\n",
       "9573  I am use in just 2 week and my experience my h...       5          110\n",
       "9574  Packing good, delivery fast and price I got al...       3          143\n",
       "9575               go for it sine product in good price       5           36\n",
       "9576  ஓரளவுக்கு நல்லா தான் இருக்கு இந்த ரேட்டுக்கு b...       3          124\n",
       "9577  Sound quality is very good, highs and bass is ...       5          128"
      ]
     },
     "execution_count": 309,
     "metadata": {},
     "output_type": "execute_result"
    }
   ],
   "source": [
    "df[9572:9578]"
   ]
  },
  {
   "cell_type": "markdown",
   "id": "daa60a35",
   "metadata": {},
   "source": [
    "#### From above, we see that we have text which is not in english...Let's remove it"
   ]
  },
  {
   "cell_type": "code",
   "execution_count": 310,
   "id": "a9e16b42",
   "metadata": {},
   "outputs": [],
   "source": [
    "def remove_other_languages(text):\n",
    "    pattern = re.compile('[^a-zA-Z]+')\n",
    "    return pattern.sub(r' ',text)"
   ]
  },
  {
   "cell_type": "code",
   "execution_count": 311,
   "id": "e402f7c8",
   "metadata": {},
   "outputs": [],
   "source": [
    "df['Review'] = df['Review'].apply(remove_other_languages)"
   ]
  },
  {
   "cell_type": "markdown",
   "id": "5c1676e7",
   "metadata": {},
   "source": [
    "#### Replacing Emoji's with their meaning"
   ]
  },
  {
   "cell_type": "code",
   "execution_count": 312,
   "id": "de5ae95c",
   "metadata": {},
   "outputs": [],
   "source": [
    "def remove_emojis(data):\n",
    "    emoj = re.compile(\"[\"\n",
    "        u\"\\U0001F600-\\U0001F64F\"  # emoticons\n",
    "        u\"\\U0001F300-\\U0001F5FF\"  # symbols & pictographs\n",
    "        u\"\\U0001F680-\\U0001F6FF\"  # transport & map symbols\n",
    "        u\"\\U0001F1E0-\\U0001F1FF\"  # flags (iOS)\n",
    "        u\"\\U00002500-\\U00002BEF\"  # chinese char\n",
    "        u\"\\U00002702-\\U000027B0\"\n",
    "        u\"\\U00002702-\\U000027B0\"\n",
    "        u\"\\U000024C2-\\U0001F251\"\n",
    "        u\"\\U0001f926-\\U0001f937\"\n",
    "        u\"\\U00010000-\\U0010ffff\"\n",
    "        u\"\\u2640-\\u2642\" \n",
    "        u\"\\u2600-\\u2B55\"\n",
    "        u\"\\u200d\"\n",
    "        u\"\\u23cf\"\n",
    "        u\"\\u23e9\"\n",
    "        u\"\\u231a\"\n",
    "        u\"\\ufe0f\"  # dingbats\n",
    "        u\"\\u3030\"\n",
    "                      \"]+\", re.UNICODE)\n",
    "    return re.sub(emoj, '', data)"
   ]
  },
  {
   "cell_type": "code",
   "execution_count": 313,
   "id": "bdfd9be3",
   "metadata": {},
   "outputs": [],
   "source": [
    "df['Review'] = df['Review'].apply(remove_emojis)"
   ]
  },
  {
   "cell_type": "markdown",
   "id": "76c0f143",
   "metadata": {},
   "source": [
    "#### Lower Casing"
   ]
  },
  {
   "cell_type": "code",
   "execution_count": 314,
   "id": "b7c86d62",
   "metadata": {},
   "outputs": [
    {
     "data": {
      "text/html": [
       "<div><div id=af021503-77ba-49e0-ad3c-fde7aa547ae2 style=\"display:none; background-color:#9D6CFF; color:white; width:200px; height:30px; padding-left:5px; border-radius:4px; flex-direction:row; justify-content:space-around; align-items:center;\" onmouseover=\"this.style.backgroundColor='#BA9BF8'\" onmouseout=\"this.style.backgroundColor='#9D6CFF'\" onclick=\"window.commands?.execute('create-mitosheet-from-dataframe-output');\">See Full Dataframe in Mito</div> <script> if (window.commands?.hasCommand('create-mitosheet-from-dataframe-output')) document.getElementById('af021503-77ba-49e0-ad3c-fde7aa547ae2').style.display = 'flex' </script> <table border=\"1\" class=\"dataframe\">\n",
       "  <thead>\n",
       "    <tr style=\"text-align: right;\">\n",
       "      <th></th>\n",
       "      <th>Review</th>\n",
       "      <th>Rating</th>\n",
       "      <th>Text_Length</th>\n",
       "    </tr>\n",
       "  </thead>\n",
       "  <tbody>\n",
       "    <tr>\n",
       "      <th>6224</th>\n",
       "      <td>just buy it if you are planning to upgrade from older iphones like original se or iphone it s battery life is very good lasts me days given my usage is light to moderate must buy if you are looking for smaller phone</td>\n",
       "      <td>5</td>\n",
       "      <td>230</td>\n",
       "    </tr>\n",
       "    <tr>\n",
       "      <th>12273</th>\n",
       "      <td>not goood item tooo complaints</td>\n",
       "      <td>1</td>\n",
       "      <td>32</td>\n",
       "    </tr>\n",
       "    <tr>\n",
       "      <th>17602</th>\n",
       "      <td>very poor sound quality not worthy</td>\n",
       "      <td>1</td>\n",
       "      <td>35</td>\n",
       "    </tr>\n",
       "  </tbody>\n",
       "</table></div>"
      ],
      "text/plain": [
       "                                                  Review  Rating  Text_Length\n",
       "6224   just buy it if you are planning to upgrade fro...       5          230\n",
       "12273                    not goood item tooo complaints        1           32\n",
       "17602                 very poor sound quality not worthy       1           35"
      ]
     },
     "execution_count": 314,
     "metadata": {},
     "output_type": "execute_result"
    }
   ],
   "source": [
    "df['Review'] = df['Review'].str.lower()\n",
    "df.sample(3)"
   ]
  },
  {
   "cell_type": "markdown",
   "id": "907d6a9e",
   "metadata": {},
   "source": [
    "#### Checking and removing HTML Tags"
   ]
  },
  {
   "cell_type": "code",
   "execution_count": 315,
   "id": "ae22c391",
   "metadata": {},
   "outputs": [
    {
     "data": {
      "text/html": [
       "<div><div id=033f030d-304d-421e-a801-aefc7ad1eaf6 style=\"display:none; background-color:#9D6CFF; color:white; width:200px; height:30px; padding-left:5px; border-radius:4px; flex-direction:row; justify-content:space-around; align-items:center;\" onmouseover=\"this.style.backgroundColor='#BA9BF8'\" onmouseout=\"this.style.backgroundColor='#9D6CFF'\" onclick=\"window.commands?.execute('create-mitosheet-from-dataframe-output');\">See Full Dataframe in Mito</div> <script> if (window.commands?.hasCommand('create-mitosheet-from-dataframe-output')) document.getElementById('033f030d-304d-421e-a801-aefc7ad1eaf6').style.display = 'flex' </script> <table border=\"1\" class=\"dataframe\">\n",
       "  <thead>\n",
       "    <tr style=\"text-align: right;\">\n",
       "      <th></th>\n",
       "      <th>Review</th>\n",
       "      <th>Rating</th>\n",
       "      <th>Text_Length</th>\n",
       "    </tr>\n",
       "  </thead>\n",
       "  <tbody>\n",
       "  </tbody>\n",
       "</table></div>"
      ],
      "text/plain": [
       "Empty DataFrame\n",
       "Columns: [Review, Rating, Text_Length]\n",
       "Index: []"
      ]
     },
     "execution_count": 315,
     "metadata": {},
     "output_type": "execute_result"
    }
   ],
   "source": [
    "df[df['Review'].str.contains('</')]"
   ]
  },
  {
   "cell_type": "code",
   "execution_count": 316,
   "id": "dff61085",
   "metadata": {},
   "outputs": [],
   "source": [
    "def remove_html_tags(text):\n",
    "    pattern = re.compile('<.*?>')\n",
    "    return pattern.sub(r'',text)"
   ]
  },
  {
   "cell_type": "code",
   "execution_count": 317,
   "id": "37e8c0b6",
   "metadata": {},
   "outputs": [],
   "source": [
    "df['Review'] = df['Review'].apply(remove_html_tags)"
   ]
  },
  {
   "cell_type": "code",
   "execution_count": 318,
   "id": "967e75a1",
   "metadata": {},
   "outputs": [
    {
     "data": {
      "text/html": [
       "<div><div id=d1ed6c4b-497c-4f48-9d15-96fcf9c5659a style=\"display:none; background-color:#9D6CFF; color:white; width:200px; height:30px; padding-left:5px; border-radius:4px; flex-direction:row; justify-content:space-around; align-items:center;\" onmouseover=\"this.style.backgroundColor='#BA9BF8'\" onmouseout=\"this.style.backgroundColor='#9D6CFF'\" onclick=\"window.commands?.execute('create-mitosheet-from-dataframe-output');\">See Full Dataframe in Mito</div> <script> if (window.commands?.hasCommand('create-mitosheet-from-dataframe-output')) document.getElementById('d1ed6c4b-497c-4f48-9d15-96fcf9c5659a').style.display = 'flex' </script> <table border=\"1\" class=\"dataframe\">\n",
       "  <thead>\n",
       "    <tr style=\"text-align: right;\">\n",
       "      <th></th>\n",
       "      <th>Review</th>\n",
       "      <th>Rating</th>\n",
       "      <th>Text_Length</th>\n",
       "    </tr>\n",
       "  </thead>\n",
       "  <tbody>\n",
       "  </tbody>\n",
       "</table></div>"
      ],
      "text/plain": [
       "Empty DataFrame\n",
       "Columns: [Review, Rating, Text_Length]\n",
       "Index: []"
      ]
     },
     "execution_count": 318,
     "metadata": {},
     "output_type": "execute_result"
    }
   ],
   "source": [
    "df[df['Review'].str.contains('</')]"
   ]
  },
  {
   "cell_type": "markdown",
   "id": "48c02c9e",
   "metadata": {},
   "source": [
    "#### Removing URLs"
   ]
  },
  {
   "cell_type": "code",
   "execution_count": 319,
   "id": "f2eabd25",
   "metadata": {},
   "outputs": [
    {
     "data": {
      "text/html": [
       "<div><div id=7b361fca-add1-44c3-8f81-f2835fd27773 style=\"display:none; background-color:#9D6CFF; color:white; width:200px; height:30px; padding-left:5px; border-radius:4px; flex-direction:row; justify-content:space-around; align-items:center;\" onmouseover=\"this.style.backgroundColor='#BA9BF8'\" onmouseout=\"this.style.backgroundColor='#9D6CFF'\" onclick=\"window.commands?.execute('create-mitosheet-from-dataframe-output');\">See Full Dataframe in Mito</div> <script> if (window.commands?.hasCommand('create-mitosheet-from-dataframe-output')) document.getElementById('7b361fca-add1-44c3-8f81-f2835fd27773').style.display = 'flex' </script> <table border=\"1\" class=\"dataframe\">\n",
       "  <thead>\n",
       "    <tr style=\"text-align: right;\">\n",
       "      <th></th>\n",
       "      <th>Review</th>\n",
       "      <th>Rating</th>\n",
       "      <th>Text_Length</th>\n",
       "    </tr>\n",
       "  </thead>\n",
       "  <tbody>\n",
       "    <tr>\n",
       "      <th>5101</th>\n",
       "      <td>you have to chose the phone you need right get the link below for your latest model phone instantly https www amazon in b encoding utf tag bpavankumar linkcode ur linkid ce cda cf fb a b camp creative node</td>\n",
       "      <td>3</td>\n",
       "      <td>253</td>\n",
       "    </tr>\n",
       "    <tr>\n",
       "      <th>6525</th>\n",
       "      <td>new year and christmas day special status quotes wishes a href https www best status com best happy new year gif image html happy new year gif image a a href https www best status com happy christmas merry christmas status wishes for whatsapp html happy christmas status wishes for whatsapp a a href https www best status com happy christmas day hindi status html happy christmas day hindi status a a href https www best status com happy christmas status and merry html happy christmas status gif image picture a a href https www best status com happy new year and merry christmas html happy new year and merry christmas status a a href https www best status com romantic new year statusmassage html romantic new year status massage a a href https www best status com happy new year gifs animated image html happy new year gif image picture animated a a href https www best status com happy new year romantic love image html happy new year romantic love status a a href https www best status com happy new year shayari in hindi html happy new year shayari in hindi a a href https www best status com happy christmas day d gifs html happy christmas day d gifs a a href https www best status com best merry christmas status quotes html merry christmas status quotes a a href https www best status com merry christmas status happy christmas status quotes best merry christmas status saying html merry christmas status quotes saying a a href https www best status com top happy christmas day gifs html top happy christmas day gif images a a href https www best status com happy new year gif animated image html happy new year gif image picture a</td>\n",
       "      <td>5</td>\n",
       "      <td>1930</td>\n",
       "    </tr>\n",
       "    <tr>\n",
       "      <th>7274</th>\n",
       "      <td>very bad camera especially when did a x zoom the picture is highly pixelated instead of this pls prefer redmi note https amzn to fe y f</td>\n",
       "      <td>1</td>\n",
       "      <td>146</td>\n",
       "    </tr>\n",
       "  </tbody>\n",
       "</table></div>"
      ],
      "text/plain": [
       "                                                 Review  Rating  Text_Length\n",
       "5101  you have to chose the phone you need right get...       3          253\n",
       "6525  new year and christmas day special status quot...       5         1930\n",
       "7274  very bad camera especially when did a x zoom t...       1          146"
      ]
     },
     "execution_count": 319,
     "metadata": {},
     "output_type": "execute_result"
    }
   ],
   "source": [
    "df[df['Review'].str.contains('http')]"
   ]
  },
  {
   "cell_type": "code",
   "execution_count": 320,
   "id": "aefc8562",
   "metadata": {},
   "outputs": [],
   "source": [
    "def remove_url(text):\n",
    "    pattern = re.compile('http\\S+')\n",
    "    return pattern.sub(r'',text)"
   ]
  },
  {
   "cell_type": "code",
   "execution_count": 321,
   "id": "d7de3e2d",
   "metadata": {},
   "outputs": [],
   "source": [
    "df['Review'] = df['Review'].apply(remove_url)"
   ]
  },
  {
   "cell_type": "code",
   "execution_count": 322,
   "id": "a33b79b0",
   "metadata": {},
   "outputs": [
    {
     "data": {
      "text/html": [
       "<div><div id=07339e12-4b6e-408d-8b9c-90dd954eb27c style=\"display:none; background-color:#9D6CFF; color:white; width:200px; height:30px; padding-left:5px; border-radius:4px; flex-direction:row; justify-content:space-around; align-items:center;\" onmouseover=\"this.style.backgroundColor='#BA9BF8'\" onmouseout=\"this.style.backgroundColor='#9D6CFF'\" onclick=\"window.commands?.execute('create-mitosheet-from-dataframe-output');\">See Full Dataframe in Mito</div> <script> if (window.commands?.hasCommand('create-mitosheet-from-dataframe-output')) document.getElementById('07339e12-4b6e-408d-8b9c-90dd954eb27c').style.display = 'flex' </script> <table border=\"1\" class=\"dataframe\">\n",
       "  <thead>\n",
       "    <tr style=\"text-align: right;\">\n",
       "      <th></th>\n",
       "      <th>Review</th>\n",
       "      <th>Rating</th>\n",
       "      <th>Text_Length</th>\n",
       "    </tr>\n",
       "  </thead>\n",
       "  <tbody>\n",
       "  </tbody>\n",
       "</table></div>"
      ],
      "text/plain": [
       "Empty DataFrame\n",
       "Columns: [Review, Rating, Text_Length]\n",
       "Index: []"
      ]
     },
     "execution_count": 322,
     "metadata": {},
     "output_type": "execute_result"
    }
   ],
   "source": [
    "df[df['Review'].str.contains('http')]"
   ]
  },
  {
   "cell_type": "markdown",
   "id": "86c8c0d4",
   "metadata": {},
   "source": [
    "#### Removing Punctuations"
   ]
  },
  {
   "cell_type": "code",
   "execution_count": 323,
   "id": "aba04bd3",
   "metadata": {},
   "outputs": [
    {
     "data": {
      "text/plain": [
       "'!\"#$%&\\'()*+,-./:;<=>?@[\\\\]^_`{|}~'"
      ]
     },
     "execution_count": 323,
     "metadata": {},
     "output_type": "execute_result"
    }
   ],
   "source": [
    "import string\n",
    "string.punctuation"
   ]
  },
  {
   "cell_type": "code",
   "execution_count": 324,
   "id": "cd7b0496",
   "metadata": {},
   "outputs": [],
   "source": [
    "exclude = string.punctuation"
   ]
  },
  {
   "cell_type": "code",
   "execution_count": 325,
   "id": "dd7e8107",
   "metadata": {},
   "outputs": [],
   "source": [
    "def remove_punctuations(text):\n",
    "    for char in exclude:\n",
    "        text = text.replace(char,\"\")\n",
    "    return text"
   ]
  },
  {
   "cell_type": "code",
   "execution_count": 326,
   "id": "96d2e037",
   "metadata": {},
   "outputs": [],
   "source": [
    "df['Review'] = df['Review'].apply(remove_punctuations)"
   ]
  },
  {
   "cell_type": "code",
   "execution_count": 327,
   "id": "69b06c5c",
   "metadata": {},
   "outputs": [
    {
     "data": {
      "text/html": [
       "<div><div id=ec2a627b-28ca-4462-bdc2-b0e3b001e986 style=\"display:none; background-color:#9D6CFF; color:white; width:200px; height:30px; padding-left:5px; border-radius:4px; flex-direction:row; justify-content:space-around; align-items:center;\" onmouseover=\"this.style.backgroundColor='#BA9BF8'\" onmouseout=\"this.style.backgroundColor='#9D6CFF'\" onclick=\"window.commands?.execute('create-mitosheet-from-dataframe-output');\">See Full Dataframe in Mito</div> <script> if (window.commands?.hasCommand('create-mitosheet-from-dataframe-output')) document.getElementById('ec2a627b-28ca-4462-bdc2-b0e3b001e986').style.display = 'flex' </script> <table border=\"1\" class=\"dataframe\">\n",
       "  <thead>\n",
       "    <tr style=\"text-align: right;\">\n",
       "      <th></th>\n",
       "      <th>Review</th>\n",
       "      <th>Rating</th>\n",
       "      <th>Text_Length</th>\n",
       "    </tr>\n",
       "  </thead>\n",
       "  <tbody>\n",
       "    <tr>\n",
       "      <th>12792</th>\n",
       "      <td>quality and sound are doing great but why i didn t receive hmdi cable and optical cable when speaker support them</td>\n",
       "      <td>4</td>\n",
       "      <td>115</td>\n",
       "    </tr>\n",
       "    <tr>\n",
       "      <th>3543</th>\n",
       "      <td>actually i m android user now switched to iphone user experience is good but camera quality isn t meet my expectations when taken photos on day times and little low lights you ll get good quality photos night mode is worst battery is good for moderate users phone is very compact and display quality really awesome my conclusion if you looking for privacy and protect from hackers definitely iphone is safe those who are all moderate user and then buy this model</td>\n",
       "      <td>4</td>\n",
       "      <td>467</td>\n",
       "    </tr>\n",
       "    <tr>\n",
       "      <th>15051</th>\n",
       "      <td>very good product with super display fast delivery thank you to amazon</td>\n",
       "      <td>5</td>\n",
       "      <td>74</td>\n",
       "    </tr>\n",
       "  </tbody>\n",
       "</table></div>"
      ],
      "text/plain": [
       "                                                  Review  Rating  Text_Length\n",
       "12792  quality and sound are doing great but why i di...       4          115\n",
       "3543   actually i m android user now switched to ipho...       4          467\n",
       "15051  very good product with super display fast deli...       5           74"
      ]
     },
     "execution_count": 327,
     "metadata": {},
     "output_type": "execute_result"
    }
   ],
   "source": [
    "df.sample(3)"
   ]
  },
  {
   "cell_type": "markdown",
   "id": "b6dd5bf8",
   "metadata": {},
   "source": [
    "#### Removing Stopwords"
   ]
  },
  {
   "cell_type": "code",
   "execution_count": 328,
   "id": "d0090659",
   "metadata": {},
   "outputs": [],
   "source": [
    "from nltk.corpus import stopwords"
   ]
  },
  {
   "cell_type": "code",
   "execution_count": 329,
   "id": "d71adc15",
   "metadata": {},
   "outputs": [
    {
     "data": {
      "text/plain": [
       "{'a',\n",
       " 'about',\n",
       " 'above',\n",
       " 'after',\n",
       " 'again',\n",
       " 'against',\n",
       " 'ain',\n",
       " 'all',\n",
       " 'am',\n",
       " 'amazon',\n",
       " 'an',\n",
       " 'and',\n",
       " 'android',\n",
       " 'any',\n",
       " 'are',\n",
       " 'aren',\n",
       " \"aren't\",\n",
       " 'as',\n",
       " 'at',\n",
       " 'battery',\n",
       " 'be',\n",
       " 'because',\n",
       " 'been',\n",
       " 'before',\n",
       " 'being',\n",
       " 'below',\n",
       " 'between',\n",
       " 'both',\n",
       " 'but',\n",
       " 'by',\n",
       " 'camera',\n",
       " 'can',\n",
       " 'chrome',\n",
       " 'couldn',\n",
       " \"couldn't\",\n",
       " 'd',\n",
       " 'dell',\n",
       " 'device',\n",
       " 'did',\n",
       " 'didn',\n",
       " \"didn't\",\n",
       " 'display',\n",
       " 'do',\n",
       " 'does',\n",
       " 'doesn',\n",
       " \"doesn't\",\n",
       " 'doing',\n",
       " 'don',\n",
       " \"don't\",\n",
       " 'down',\n",
       " 'during',\n",
       " 'each',\n",
       " 'few',\n",
       " 'for',\n",
       " 'from',\n",
       " 'further',\n",
       " 'galaxy',\n",
       " 'had',\n",
       " 'hadn',\n",
       " \"hadn't\",\n",
       " 'has',\n",
       " 'hasn',\n",
       " \"hasn't\",\n",
       " 'have',\n",
       " 'haven',\n",
       " \"haven't\",\n",
       " 'having',\n",
       " 'he',\n",
       " 'her',\n",
       " 'here',\n",
       " 'hers',\n",
       " 'herself',\n",
       " 'him',\n",
       " 'himself',\n",
       " 'his',\n",
       " 'home theatre',\n",
       " 'how',\n",
       " 'hp',\n",
       " 'i',\n",
       " 'if',\n",
       " 'in',\n",
       " 'into',\n",
       " 'ios',\n",
       " 'iphone',\n",
       " 'is',\n",
       " 'isn',\n",
       " \"isn't\",\n",
       " 'it',\n",
       " \"it's\",\n",
       " 'its',\n",
       " 'itself',\n",
       " 'jbl',\n",
       " 'just',\n",
       " 'laptop',\n",
       " 'll',\n",
       " 'm',\n",
       " 'ma',\n",
       " 'me',\n",
       " 'mightn',\n",
       " \"mightn't\",\n",
       " 'mobile',\n",
       " 'more',\n",
       " 'most',\n",
       " 'mustn',\n",
       " \"mustn't\",\n",
       " 'my',\n",
       " 'myself',\n",
       " 'needn',\n",
       " \"needn't\",\n",
       " 'no',\n",
       " 'nor',\n",
       " 'not',\n",
       " 'now',\n",
       " 'o',\n",
       " 'of',\n",
       " 'off',\n",
       " 'on',\n",
       " 'once',\n",
       " 'one',\n",
       " 'oneplus',\n",
       " 'only',\n",
       " 'or',\n",
       " 'other',\n",
       " 'our',\n",
       " 'ours',\n",
       " 'ourselves',\n",
       " 'out',\n",
       " 'over',\n",
       " 'own',\n",
       " 'phone',\n",
       " 'product',\n",
       " 'quality',\n",
       " 're',\n",
       " 'redmi',\n",
       " 's',\n",
       " 'same',\n",
       " 'samsung',\n",
       " 'screen',\n",
       " 'shan',\n",
       " \"shan't\",\n",
       " 'she',\n",
       " \"she's\",\n",
       " 'should',\n",
       " \"should've\",\n",
       " 'shouldn',\n",
       " \"shouldn't\",\n",
       " 'so',\n",
       " 'some',\n",
       " 'sony',\n",
       " 'sound',\n",
       " 'speaker',\n",
       " 'speakers',\n",
       " 'such',\n",
       " 't',\n",
       " 'than',\n",
       " 'that',\n",
       " \"that'll\",\n",
       " 'the',\n",
       " 'their',\n",
       " 'theirs',\n",
       " 'them',\n",
       " 'themselves',\n",
       " 'then',\n",
       " 'there',\n",
       " 'these',\n",
       " 'they',\n",
       " 'this',\n",
       " 'those',\n",
       " 'through',\n",
       " 'to',\n",
       " 'too',\n",
       " 'under',\n",
       " 'until',\n",
       " 'up',\n",
       " 've',\n",
       " 'very',\n",
       " 'was',\n",
       " 'wasn',\n",
       " \"wasn't\",\n",
       " 'we',\n",
       " 'were',\n",
       " 'weren',\n",
       " \"weren't\",\n",
       " 'what',\n",
       " 'when',\n",
       " 'where',\n",
       " 'which',\n",
       " 'while',\n",
       " 'who',\n",
       " 'whom',\n",
       " 'why',\n",
       " 'will',\n",
       " 'with',\n",
       " 'won',\n",
       " \"won't\",\n",
       " 'wouldn',\n",
       " \"wouldn't\",\n",
       " 'y',\n",
       " 'you',\n",
       " \"you'd\",\n",
       " \"you'll\",\n",
       " \"you're\",\n",
       " \"you've\",\n",
       " 'your',\n",
       " 'yours',\n",
       " 'yourself',\n",
       " 'yourselves'}"
      ]
     },
     "execution_count": 329,
     "metadata": {},
     "output_type": "execute_result"
    }
   ],
   "source": [
    "stopwords_list = set(stopwords.words('English')+['samsung','iphone','oneplus','android','ios','speaker','phone','mobile','galaxy','home theatre','speakers','laptop','amazon','redmi','hp','dell','sony','jbl','chrome','sound','camera','battery','display','product','device','screen','quality','one'])\n",
    "stopwords_list"
   ]
  },
  {
   "cell_type": "code",
   "execution_count": 330,
   "id": "cb4d3e24",
   "metadata": {},
   "outputs": [],
   "source": [
    "def remove_stopwords(text):\n",
    "    new_text = []\n",
    "    for words in text.split():\n",
    "        if words in stopwords_list:\n",
    "            new_text.append('')\n",
    "        else:\n",
    "            new_text.append(words)\n",
    "    return \" \".join(new_text)"
   ]
  },
  {
   "cell_type": "code",
   "execution_count": 331,
   "id": "63d41489",
   "metadata": {},
   "outputs": [],
   "source": [
    "df['Review'] = df['Review'].apply(remove_stopwords)"
   ]
  },
  {
   "cell_type": "code",
   "execution_count": 332,
   "id": "511196d1",
   "metadata": {},
   "outputs": [
    {
     "data": {
      "text/html": [
       "<div><div id=eb97d0f9-8a7a-4e01-b987-e46d27969478 style=\"display:none; background-color:#9D6CFF; color:white; width:200px; height:30px; padding-left:5px; border-radius:4px; flex-direction:row; justify-content:space-around; align-items:center;\" onmouseover=\"this.style.backgroundColor='#BA9BF8'\" onmouseout=\"this.style.backgroundColor='#9D6CFF'\" onclick=\"window.commands?.execute('create-mitosheet-from-dataframe-output');\">See Full Dataframe in Mito</div> <script> if (window.commands?.hasCommand('create-mitosheet-from-dataframe-output')) document.getElementById('eb97d0f9-8a7a-4e01-b987-e46d27969478').style.display = 'flex' </script> <table border=\"1\" class=\"dataframe\">\n",
       "  <thead>\n",
       "    <tr style=\"text-align: right;\">\n",
       "      <th></th>\n",
       "      <th>Review</th>\n",
       "      <th>Rating</th>\n",
       "      <th>Text_Length</th>\n",
       "    </tr>\n",
       "  </thead>\n",
       "  <tbody>\n",
       "    <tr>\n",
       "      <th>4645</th>\n",
       "      <td>get better     beyond amazing</td>\n",
       "      <td>5</td>\n",
       "      <td>60</td>\n",
       "    </tr>\n",
       "    <tr>\n",
       "      <th>16986</th>\n",
       "      <td>bass effects  less</td>\n",
       "      <td>3</td>\n",
       "      <td>21</td>\n",
       "    </tr>\n",
       "    <tr>\n",
       "      <th>14229</th>\n",
       "      <td>bought   model offline exclusive store  reaching home power button got failed somehow  managed  turn  n  r  observations    anti glare   full hd  kid joined online class suddenly    flickering   complaint raised entire   shaking    restart thrice frequent disconnect  wifi   using mbps speed internet  important   value  money worst service provider   series  problem</td>\n",
       "      <td>2</td>\n",
       "      <td>509</td>\n",
       "    </tr>\n",
       "    <tr>\n",
       "      <th>6317</th>\n",
       "      <td>bought    initially   worked good    past days    geting heats  even without using   charging  hets heats  since   carried year warranty  manufacturing   months warranty   box accesories including   request    manifacturer  replace  said    earliest</td>\n",
       "      <td>1</td>\n",
       "      <td>391</td>\n",
       "    </tr>\n",
       "    <tr>\n",
       "      <th>15197</th>\n",
       "      <td>good</td>\n",
       "      <td>2</td>\n",
       "      <td>22</td>\n",
       "    </tr>\n",
       "  </tbody>\n",
       "</table></div>"
      ],
      "text/plain": [
       "                                                  Review  Rating  Text_Length\n",
       "4645                       get better     beyond amazing       5           60\n",
       "16986                                 bass effects  less       3           21\n",
       "14229   bought   model offline exclusive store  reach...       2          509\n",
       "6317    bought    initially   worked good    past day...       1          391\n",
       "15197                                               good       2           22"
      ]
     },
     "execution_count": 332,
     "metadata": {},
     "output_type": "execute_result"
    }
   ],
   "source": [
    "df.sample(5)"
   ]
  },
  {
   "cell_type": "markdown",
   "id": "587be38a",
   "metadata": {},
   "source": [
    "### Removing Blank Reviews"
   ]
  },
  {
   "cell_type": "code",
   "execution_count": 333,
   "id": "3f4c07c0",
   "metadata": {},
   "outputs": [
    {
     "data": {
      "text/html": [
       "<div><div id=557b07f0-2845-46f4-870f-a626e31cc377 style=\"display:none; background-color:#9D6CFF; color:white; width:200px; height:30px; padding-left:5px; border-radius:4px; flex-direction:row; justify-content:space-around; align-items:center;\" onmouseover=\"this.style.backgroundColor='#BA9BF8'\" onmouseout=\"this.style.backgroundColor='#9D6CFF'\" onclick=\"window.commands?.execute('create-mitosheet-from-dataframe-output');\">See Full Dataframe in Mito</div> <script> if (window.commands?.hasCommand('create-mitosheet-from-dataframe-output')) document.getElementById('557b07f0-2845-46f4-870f-a626e31cc377').style.display = 'flex' </script> <table border=\"1\" class=\"dataframe\">\n",
       "  <thead>\n",
       "    <tr style=\"text-align: right;\">\n",
       "      <th></th>\n",
       "      <th>Review</th>\n",
       "      <th>Rating</th>\n",
       "      <th>Text_Length</th>\n",
       "    </tr>\n",
       "  </thead>\n",
       "  <tbody>\n",
       "    <tr>\n",
       "      <th>29</th>\n",
       "      <td></td>\n",
       "      <td>5</td>\n",
       "      <td>1</td>\n",
       "    </tr>\n",
       "    <tr>\n",
       "      <th>226</th>\n",
       "      <td></td>\n",
       "      <td>1</td>\n",
       "      <td>1</td>\n",
       "    </tr>\n",
       "    <tr>\n",
       "      <th>547</th>\n",
       "      <td></td>\n",
       "      <td>1</td>\n",
       "      <td>276</td>\n",
       "    </tr>\n",
       "    <tr>\n",
       "      <th>583</th>\n",
       "      <td></td>\n",
       "      <td>1</td>\n",
       "      <td>268</td>\n",
       "    </tr>\n",
       "    <tr>\n",
       "      <th>637</th>\n",
       "      <td></td>\n",
       "      <td>4</td>\n",
       "      <td>1</td>\n",
       "    </tr>\n",
       "    <tr>\n",
       "      <th>...</th>\n",
       "      <td>...</td>\n",
       "      <td>...</td>\n",
       "      <td>...</td>\n",
       "    </tr>\n",
       "    <tr>\n",
       "      <th>19497</th>\n",
       "      <td></td>\n",
       "      <td>2</td>\n",
       "      <td>7</td>\n",
       "    </tr>\n",
       "    <tr>\n",
       "      <th>19843</th>\n",
       "      <td></td>\n",
       "      <td>4</td>\n",
       "      <td>58</td>\n",
       "    </tr>\n",
       "    <tr>\n",
       "      <th>19873</th>\n",
       "      <td></td>\n",
       "      <td>4</td>\n",
       "      <td>12</td>\n",
       "    </tr>\n",
       "    <tr>\n",
       "      <th>20100</th>\n",
       "      <td></td>\n",
       "      <td>4</td>\n",
       "      <td>3</td>\n",
       "    </tr>\n",
       "    <tr>\n",
       "      <th>20218</th>\n",
       "      <td></td>\n",
       "      <td>4</td>\n",
       "      <td>1</td>\n",
       "    </tr>\n",
       "  </tbody>\n",
       "</table></div>"
      ],
      "text/plain": [
       "      Review  Rating  Text_Length\n",
       "29                 5            1\n",
       "226                1            1\n",
       "547                1          276\n",
       "583                1          268\n",
       "637                4            1\n",
       "...      ...     ...          ...\n",
       "19497              2            7\n",
       "19843              4           58\n",
       "19873              4           12\n",
       "20100              4            3\n",
       "20218              4            1\n",
       "\n",
       "[102 rows x 3 columns]"
      ]
     },
     "execution_count": 333,
     "metadata": {},
     "output_type": "execute_result"
    }
   ],
   "source": [
    "df[df['Review']=='']"
   ]
  },
  {
   "cell_type": "code",
   "execution_count": 334,
   "id": "9dfc1e20",
   "metadata": {},
   "outputs": [
    {
     "data": {
      "text/plain": [
       "102"
      ]
     },
     "execution_count": 334,
     "metadata": {},
     "output_type": "execute_result"
    }
   ],
   "source": [
    "len(df[df['Review']==''])"
   ]
  },
  {
   "cell_type": "code",
   "execution_count": 335,
   "id": "fb7ee76a",
   "metadata": {},
   "outputs": [],
   "source": [
    "df = df[df['Review']!='']"
   ]
  },
  {
   "cell_type": "code",
   "execution_count": 336,
   "id": "770a9e6e",
   "metadata": {},
   "outputs": [
    {
     "data": {
      "text/html": [
       "<div><div id=35d67d14-8927-4746-84bb-6bf5341d6f87 style=\"display:none; background-color:#9D6CFF; color:white; width:200px; height:30px; padding-left:5px; border-radius:4px; flex-direction:row; justify-content:space-around; align-items:center;\" onmouseover=\"this.style.backgroundColor='#BA9BF8'\" onmouseout=\"this.style.backgroundColor='#9D6CFF'\" onclick=\"window.commands?.execute('create-mitosheet-from-dataframe-output');\">See Full Dataframe in Mito</div> <script> if (window.commands?.hasCommand('create-mitosheet-from-dataframe-output')) document.getElementById('35d67d14-8927-4746-84bb-6bf5341d6f87').style.display = 'flex' </script> <table border=\"1\" class=\"dataframe\">\n",
       "  <thead>\n",
       "    <tr style=\"text-align: right;\">\n",
       "      <th></th>\n",
       "      <th>Review</th>\n",
       "      <th>Rating</th>\n",
       "      <th>Text_Length</th>\n",
       "    </tr>\n",
       "  </thead>\n",
       "  <tbody>\n",
       "  </tbody>\n",
       "</table></div>"
      ],
      "text/plain": [
       "Empty DataFrame\n",
       "Columns: [Review, Rating, Text_Length]\n",
       "Index: []"
      ]
     },
     "execution_count": 336,
     "metadata": {},
     "output_type": "execute_result"
    }
   ],
   "source": [
    "df[df['Review']=='']"
   ]
  },
  {
   "cell_type": "code",
   "execution_count": 337,
   "id": "548361bb",
   "metadata": {},
   "outputs": [
    {
     "data": {
      "text/html": [
       "<div><div id=9e6e3aac-07a9-45c8-b8bc-8b339f6cae18 style=\"display:none; background-color:#9D6CFF; color:white; width:200px; height:30px; padding-left:5px; border-radius:4px; flex-direction:row; justify-content:space-around; align-items:center;\" onmouseover=\"this.style.backgroundColor='#BA9BF8'\" onmouseout=\"this.style.backgroundColor='#9D6CFF'\" onclick=\"window.commands?.execute('create-mitosheet-from-dataframe-output');\">See Full Dataframe in Mito</div> <script> if (window.commands?.hasCommand('create-mitosheet-from-dataframe-output')) document.getElementById('9e6e3aac-07a9-45c8-b8bc-8b339f6cae18').style.display = 'flex' </script> <table border=\"1\" class=\"dataframe\">\n",
       "  <thead>\n",
       "    <tr style=\"text-align: right;\">\n",
       "      <th></th>\n",
       "      <th>Review</th>\n",
       "      <th>Rating</th>\n",
       "      <th>Text_Length</th>\n",
       "    </tr>\n",
       "  </thead>\n",
       "  <tbody>\n",
       "    <tr>\n",
       "      <th>20225</th>\n",
       "      <td>excellent must buy</td>\n",
       "      <td>4</td>\n",
       "      <td>32</td>\n",
       "    </tr>\n",
       "    <tr>\n",
       "      <th>20226</th>\n",
       "      <td>yes</td>\n",
       "      <td>4</td>\n",
       "      <td>3</td>\n",
       "    </tr>\n",
       "    <tr>\n",
       "      <th>20227</th>\n",
       "      <td>go</td>\n",
       "      <td>4</td>\n",
       "      <td>20</td>\n",
       "    </tr>\n",
       "  </tbody>\n",
       "</table></div>"
      ],
      "text/plain": [
       "                     Review  Rating  Text_Length\n",
       "20225  excellent must buy         4           32\n",
       "20226                   yes       4            3\n",
       "20227                  go         4           20"
      ]
     },
     "execution_count": 337,
     "metadata": {},
     "output_type": "execute_result"
    }
   ],
   "source": [
    "df = df.reset_index()\n",
    "df.drop('index',axis=1,inplace=True)\n",
    "df.tail(3)"
   ]
  },
  {
   "cell_type": "markdown",
   "id": "8db1e2e3",
   "metadata": {},
   "source": [
    "### Building a Word Cloud"
   ]
  },
  {
   "cell_type": "code",
   "execution_count": 338,
   "id": "c93fdf1a",
   "metadata": {},
   "outputs": [],
   "source": [
    "from wordcloud import WordCloud"
   ]
  },
  {
   "cell_type": "code",
   "execution_count": 339,
   "id": "6d06767e",
   "metadata": {},
   "outputs": [
    {
     "data": {
      "image/png": "[encoded data removed]",
      "text/plain": [
       "<Figure size 720x576 with 1 Axes>"
      ]
     },
     "metadata": {},
     "output_type": "display_data"
    }
   ],
   "source": [
    "good_rating = df['Review'][df['Rating'] >= 4]\n",
    "\n",
    "good_word_cloud = WordCloud(width=700,height=500,max_words=20).generate(' '.join (good_rating))\n",
    "plt.figure(figsize=(10,8),facecolor='w')\n",
    "plt.imshow(good_word_cloud)\n",
    "plt.axis('off')\n",
    "plt.tight_layout(pad=0)\n",
    "plt.show()"
   ]
  },
  {
   "cell_type": "code",
   "execution_count": 340,
   "id": "2b14071e",
   "metadata": {},
   "outputs": [
    {
     "data": {
      "image/png": "[encoded data removed]",
      "text/plain": [
       "<Figure size 720x576 with 1 Axes>"
      ]
     },
     "metadata": {},
     "output_type": "display_data"
    }
   ],
   "source": [
    "bad_rating = df['Review'][df['Rating'] <= 2]\n",
    "\n",
    "bad_word_cloud = WordCloud(width=700,height=500,max_words=20).generate(' '.join (bad_rating))\n",
    "plt.figure(figsize=(10,8),facecolor='w')\n",
    "plt.imshow(bad_word_cloud)\n",
    "plt.axis('off')\n",
    "plt.tight_layout(pad=0)\n",
    "plt.show()"
   ]
  },
  {
   "cell_type": "markdown",
   "id": "e0019079",
   "metadata": {},
   "source": [
    "### Stemming"
   ]
  },
  {
   "cell_type": "code",
   "execution_count": 341,
   "id": "fbd7fde3",
   "metadata": {},
   "outputs": [],
   "source": [
    "import nltk\n",
    "from nltk import word_tokenize\n",
    "from nltk.stem.porter import PorterStemmer\n",
    "ps = PorterStemmer()"
   ]
  },
  {
   "cell_type": "code",
   "execution_count": 342,
   "id": "9bd31546",
   "metadata": {},
   "outputs": [
    {
     "name": "stderr",
     "output_type": "stream",
     "text": [
      "100%|███████████████████████████████████████████████████████████████████████████| 20228/20228 [00:55<00:00, 362.37it/s]\n"
     ]
    }
   ],
   "source": [
    "for i in tqdm(range(len(df))):\n",
    "    text = df['Review'][i]\n",
    "    document = []\n",
    "    token = nltk.word_tokenize(text)\n",
    "    for words in token:\n",
    "        word = ps.stem(words)\n",
    "        document.append(word)\n",
    "    df['Review'][i] = ' '.join(document)"
   ]
  },
  {
   "cell_type": "code",
   "execution_count": 343,
   "id": "b093552c",
   "metadata": {},
   "outputs": [
    {
     "data": {
      "text/html": [
       "<div><div id=00f72560-5c07-4026-b337-d8427a1e909e style=\"display:none; background-color:#9D6CFF; color:white; width:200px; height:30px; padding-left:5px; border-radius:4px; flex-direction:row; justify-content:space-around; align-items:center;\" onmouseover=\"this.style.backgroundColor='#BA9BF8'\" onmouseout=\"this.style.backgroundColor='#9D6CFF'\" onclick=\"window.commands?.execute('create-mitosheet-from-dataframe-output');\">See Full Dataframe in Mito</div> <script> if (window.commands?.hasCommand('create-mitosheet-from-dataframe-output')) document.getElementById('00f72560-5c07-4026-b337-d8427a1e909e').style.display = 'flex' </script> <table border=\"1\" class=\"dataframe\">\n",
       "  <thead>\n",
       "    <tr style=\"text-align: right;\">\n",
       "      <th></th>\n",
       "      <th>Review</th>\n",
       "      <th>Rating</th>\n",
       "      <th>Text_Length</th>\n",
       "    </tr>\n",
       "  </thead>\n",
       "  <tbody>\n",
       "    <tr>\n",
       "      <th>15439</th>\n",
       "      <td>best note smartphon</td>\n",
       "      <td>5</td>\n",
       "      <td>28</td>\n",
       "    </tr>\n",
       "    <tr>\n",
       "      <th>8719</th>\n",
       "      <td>excel price rang</td>\n",
       "      <td>4</td>\n",
       "      <td>38</td>\n",
       "    </tr>\n",
       "    <tr>\n",
       "      <th>963</th>\n",
       "      <td>averag day day usag</td>\n",
       "      <td>5</td>\n",
       "      <td>34</td>\n",
       "    </tr>\n",
       "    <tr>\n",
       "      <th>6266</th>\n",
       "      <td>expect worst experi might happi bought year back bad touch slog perform noth good</td>\n",
       "      <td>1</td>\n",
       "      <td>176</td>\n",
       "    </tr>\n",
       "    <tr>\n",
       "      <th>13857</th>\n",
       "      <td>bought today upon follow instruct start say moment contin hour noth els tri multipl time</td>\n",
       "      <td>1</td>\n",
       "      <td>185</td>\n",
       "    </tr>\n",
       "  </tbody>\n",
       "</table></div>"
      ],
      "text/plain": [
       "                                                  Review  Rating  Text_Length\n",
       "15439                                best note smartphon       5           28\n",
       "8719                                    excel price rang       4           38\n",
       "963                                  averag day day usag       5           34\n",
       "6266   expect worst experi might happi bought year ba...       1          176\n",
       "13857  bought today upon follow instruct start say mo...       1          185"
      ]
     },
     "execution_count": 343,
     "metadata": {},
     "output_type": "execute_result"
    }
   ],
   "source": [
    "df.sample(5)"
   ]
  },
  {
   "cell_type": "code",
   "execution_count": 344,
   "id": "9b862e99",
   "metadata": {},
   "outputs": [],
   "source": [
    "df['Cleaned_Text_Length']=df['Review'].str.len()"
   ]
  },
  {
   "cell_type": "code",
   "execution_count": 345,
   "id": "f82c79f3",
   "metadata": {},
   "outputs": [
    {
     "data": {
      "text/html": [
       "<div><div id=80cf1e21-7d1b-462f-be2c-66d13dd43c91 style=\"display:none; background-color:#9D6CFF; color:white; width:200px; height:30px; padding-left:5px; border-radius:4px; flex-direction:row; justify-content:space-around; align-items:center;\" onmouseover=\"this.style.backgroundColor='#BA9BF8'\" onmouseout=\"this.style.backgroundColor='#9D6CFF'\" onclick=\"window.commands?.execute('create-mitosheet-from-dataframe-output');\">See Full Dataframe in Mito</div> <script> if (window.commands?.hasCommand('create-mitosheet-from-dataframe-output')) document.getElementById('80cf1e21-7d1b-462f-be2c-66d13dd43c91').style.display = 'flex' </script> <table border=\"1\" class=\"dataframe\">\n",
       "  <thead>\n",
       "    <tr style=\"text-align: right;\">\n",
       "      <th></th>\n",
       "      <th>Review</th>\n",
       "      <th>Rating</th>\n",
       "      <th>Text_Length</th>\n",
       "      <th>Cleaned_Text_Length</th>\n",
       "    </tr>\n",
       "  </thead>\n",
       "  <tbody>\n",
       "    <tr>\n",
       "      <th>7542</th>\n",
       "      <td>face problem sinc start day work good connect network properli voic disturb sever time majorli go auto switch time restart</td>\n",
       "      <td>3</td>\n",
       "      <td>212</td>\n",
       "      <td>122</td>\n",
       "    </tr>\n",
       "    <tr>\n",
       "      <th>6383</th>\n",
       "      <td>good budget younger suitabl low averag user multitask purpos pleas dont buy problem wifi speed wifi bluetooth run wifi internet speed slowdown resolut realli like mi cheap like th smartphon time realli disappoint</td>\n",
       "      <td>2</td>\n",
       "      <td>366</td>\n",
       "      <td>212</td>\n",
       "    </tr>\n",
       "    <tr>\n",
       "      <th>18967</th>\n",
       "      <td>coupl minut back unbox find littl damag shown dark shade howev visibl light</td>\n",
       "      <td>1</td>\n",
       "      <td>148</td>\n",
       "      <td>75</td>\n",
       "    </tr>\n",
       "    <tr>\n",
       "      <th>9219</th>\n",
       "      <td>connect usabl great like thing placement bass place bottom protect accident place sharp object diaphragm get punctur easili</td>\n",
       "      <td>4</td>\n",
       "      <td>284</td>\n",
       "      <td>123</td>\n",
       "    </tr>\n",
       "  </tbody>\n",
       "</table></div>"
      ],
      "text/plain": [
       "                                                  Review  Rating  Text_Length  \\\n",
       "7542   face problem sinc start day work good connect ...       3          212   \n",
       "6383   good budget younger suitabl low averag user mu...       2          366   \n",
       "18967  coupl minut back unbox find littl damag shown ...       1          148   \n",
       "9219   connect usabl great like thing placement bass ...       4          284   \n",
       "\n",
       "       Cleaned_Text_Length  \n",
       "7542                   122  \n",
       "6383                   212  \n",
       "18967                   75  \n",
       "9219                   123  "
      ]
     },
     "execution_count": 345,
     "metadata": {},
     "output_type": "execute_result"
    }
   ],
   "source": [
    "df.sample(4)"
   ]
  },
  {
   "cell_type": "code",
   "execution_count": 346,
   "id": "17a26534",
   "metadata": {},
   "outputs": [
    {
     "data": {
      "text/plain": [
       "(4003336, 2000580)"
      ]
     },
     "execution_count": 346,
     "metadata": {},
     "output_type": "execute_result"
    }
   ],
   "source": [
    "Text_Length = df['Text_Length'].sum()\n",
    "Cleaned_Text_Length = df['Cleaned_Text_Length'].sum()\n",
    "Text_Length,Cleaned_Text_Length"
   ]
  },
  {
   "cell_type": "code",
   "execution_count": 347,
   "id": "b4732cf5",
   "metadata": {},
   "outputs": [
    {
     "data": {
      "text/plain": [
       "50.02717733410336"
      ]
     },
     "execution_count": 347,
     "metadata": {},
     "output_type": "execute_result"
    }
   ],
   "source": [
    "percent_data_reduced = (Text_Length-Cleaned_Text_Length)/Text_Length*100\n",
    "percent_data_reduced"
   ]
  },
  {
   "cell_type": "markdown",
   "id": "e4386334",
   "metadata": {},
   "source": [
    "### Splitting the Dataset into train and test"
   ]
  },
  {
   "cell_type": "code",
   "execution_count": 60,
   "id": "d5a5771a",
   "metadata": {},
   "outputs": [],
   "source": [
    "X = df['Review']"
   ]
  },
  {
   "cell_type": "code",
   "execution_count": 61,
   "id": "d82c6638",
   "metadata": {},
   "outputs": [],
   "source": [
    "y = df['Rating']"
   ]
  },
  {
   "cell_type": "markdown",
   "id": "d6eec312",
   "metadata": {},
   "source": [
    "### Encoding: Bag Of Words"
   ]
  },
  {
   "cell_type": "code",
   "execution_count": 62,
   "id": "8a823f03",
   "metadata": {},
   "outputs": [],
   "source": [
    "from sklearn.feature_extraction.text import CountVectorizer\n",
    "cvec = CountVectorizer(min_df=2)"
   ]
  },
  {
   "cell_type": "code",
   "execution_count": 63,
   "id": "6ab515a2",
   "metadata": {},
   "outputs": [],
   "source": [
    "x = cvec.fit_transform(X).toarray()"
   ]
  },
  {
   "cell_type": "markdown",
   "id": "235af0ef",
   "metadata": {},
   "source": [
    "### Model Building"
   ]
  },
  {
   "cell_type": "code",
   "execution_count": 64,
   "id": "e8710a9e",
   "metadata": {},
   "outputs": [],
   "source": [
    "from sklearn.metrics import accuracy_score,confusion_matrix,classification_report"
   ]
  },
  {
   "cell_type": "code",
   "execution_count": 65,
   "id": "f2094045",
   "metadata": {},
   "outputs": [
    {
     "name": "stdout",
     "output_type": "stream",
     "text": [
      "Best accuracy is 0.5275992750041193  on Random_state  11\n"
     ]
    }
   ],
   "source": [
    "from sklearn.model_selection import train_test_split\n",
    "from sklearn.linear_model import LogisticRegression\n",
    "import warnings\n",
    "warnings.filterwarnings('ignore')\n",
    "maxAccu=0\n",
    "maxRS=0\n",
    "for i in range(1,15):\n",
    "    x_train,x_test,y_train,y_test=train_test_split(x,y,test_size=.30,random_state=i)\n",
    "    LR = LogisticRegression()\n",
    "    LR.fit(x_train,y_train)\n",
    "    pred = LR.predict(x_test)\n",
    "    acc = accuracy_score(y_test, pred)\n",
    "    if acc>maxAccu:\n",
    "        maxAccu=acc\n",
    "        maxRS=i\n",
    "print(\"Best accuracy is\",maxAccu,\" on Random_state \",maxRS)"
   ]
  },
  {
   "cell_type": "code",
   "execution_count": 66,
   "id": "a1afe20b",
   "metadata": {},
   "outputs": [
    {
     "name": "stdout",
     "output_type": "stream",
     "text": [
      "*******************************************************************************\n",
      "|||||||||||||||||||||||||||||||||||||||||||||||||||||||||||||||||||||||||||||||\n",
      "accuracy score of -> LogisticRegression()\n",
      "0.5275992750041193\n",
      "[[ 982   82  126   79  111]\n",
      " [ 222   40  125   70   48]\n",
      " [ 232   49  249  218  163]\n",
      " [ 106   19  163  528  567]\n",
      " [  64   11   78  334 1403]]\n",
      "              precision    recall  f1-score   support\n",
      "\n",
      "           1       0.61      0.71      0.66      1380\n",
      "           2       0.20      0.08      0.11       505\n",
      "           3       0.34      0.27      0.30       911\n",
      "           4       0.43      0.38      0.40      1383\n",
      "           5       0.61      0.74      0.67      1890\n",
      "\n",
      "    accuracy                           0.53      6069\n",
      "   macro avg       0.44      0.44      0.43      6069\n",
      "weighted avg       0.49      0.53      0.51      6069\n",
      "\n",
      "|||||||||||||||||||||||||||||||||||||||||||||||||||||||||||||||||||||||||||||||\n",
      "*******************************************************************************\n",
      "*******************************************************************************\n",
      "|||||||||||||||||||||||||||||||||||||||||||||||||||||||||||||||||||||||||||||||\n",
      "accuracy score of -> MultinomialNB()\n",
      "0.5322128851540616\n",
      "[[ 962   43  149  140   86]\n",
      " [ 183   10  113  135   64]\n",
      " [ 198   13  205  299  196]\n",
      " [  90    8  107  647  531]\n",
      " [  80   11   52  341 1406]]\n",
      "              precision    recall  f1-score   support\n",
      "\n",
      "           1       0.64      0.70      0.67      1380\n",
      "           2       0.12      0.02      0.03       505\n",
      "           3       0.33      0.23      0.27       911\n",
      "           4       0.41      0.47      0.44      1383\n",
      "           5       0.62      0.74      0.67      1890\n",
      "\n",
      "    accuracy                           0.53      6069\n",
      "   macro avg       0.42      0.43      0.42      6069\n",
      "weighted avg       0.49      0.53      0.50      6069\n",
      "\n",
      "|||||||||||||||||||||||||||||||||||||||||||||||||||||||||||||||||||||||||||||||\n",
      "*******************************************************************************\n",
      "*******************************************************************************\n",
      "|||||||||||||||||||||||||||||||||||||||||||||||||||||||||||||||||||||||||||||||\n",
      "accuracy score of -> RandomForestClassifier()\n",
      "0.512275498434668\n",
      "[[1005   26  136   96  117]\n",
      " [ 251   12   85   90   67]\n",
      " [ 248   17  189  236  221]\n",
      " [ 131   14  121  512  605]\n",
      " [  82    4   53  360 1391]]\n",
      "              precision    recall  f1-score   support\n",
      "\n",
      "           1       0.59      0.73      0.65      1380\n",
      "           2       0.16      0.02      0.04       505\n",
      "           3       0.32      0.21      0.25       911\n",
      "           4       0.40      0.37      0.38      1383\n",
      "           5       0.58      0.74      0.65      1890\n",
      "\n",
      "    accuracy                           0.51      6069\n",
      "   macro avg       0.41      0.41      0.39      6069\n",
      "weighted avg       0.47      0.51      0.48      6069\n",
      "\n",
      "|||||||||||||||||||||||||||||||||||||||||||||||||||||||||||||||||||||||||||||||\n",
      "*******************************************************************************\n"
     ]
    }
   ],
   "source": [
    "from sklearn.model_selection import train_test_split\n",
    "from sklearn.naive_bayes import MultinomialNB\n",
    "from sklearn.ensemble import RandomForestClassifier\n",
    "model=[LogisticRegression(),MultinomialNB(),RandomForestClassifier()]\n",
    "for m in model:\n",
    "    x_train,x_test,y_train,y_test=train_test_split(x,y,test_size=.30,random_state=maxRS)  \n",
    "    m.fit(x_train,y_train)\n",
    "    pred=m.predict(x_test)\n",
    "    print(\"*******************************************************************************\")\n",
    "    print(\"|||||||||||||||||||||||||||||||||||||||||||||||||||||||||||||||||||||||||||||||\")\n",
    "    print('accuracy score of ->', m)\n",
    "    print(accuracy_score(y_test,pred))\n",
    "    print(confusion_matrix(y_test,pred))\n",
    "    print(classification_report(y_test,pred))\n",
    "    print(\"|||||||||||||||||||||||||||||||||||||||||||||||||||||||||||||||||||||||||||||||\")\n",
    "    print(\"*******************************************************************************\")"
   ]
  },
  {
   "cell_type": "markdown",
   "id": "47d64949",
   "metadata": {},
   "source": [
    "#### Encoding : ngram"
   ]
  },
  {
   "cell_type": "code",
   "execution_count": 67,
   "id": "6d27a8a2",
   "metadata": {},
   "outputs": [],
   "source": [
    "from sklearn.feature_extraction.text import CountVectorizer\n",
    "cvec = CountVectorizer(ngram_range=(1,2),max_features=30000,min_df=2)"
   ]
  },
  {
   "cell_type": "code",
   "execution_count": 68,
   "id": "9570b851",
   "metadata": {},
   "outputs": [],
   "source": [
    "x = cvec.fit_transform(X).toarray()"
   ]
  },
  {
   "cell_type": "code",
   "execution_count": 69,
   "id": "82eb0e88",
   "metadata": {},
   "outputs": [
    {
     "name": "stdout",
     "output_type": "stream",
     "text": [
      "Best accuracy is 0.5432525951557093  on Random_state  11\n"
     ]
    }
   ],
   "source": [
    "maxAccu=0\n",
    "maxRS=0\n",
    "for i in range(1,15):\n",
    "    x_train,x_test,y_train,y_test=train_test_split(x,y,test_size=.30,random_state=i)\n",
    "    mnb = MultinomialNB()\n",
    "    mnb.fit(x_train,y_train)\n",
    "    predmnb = mnb.predict(x_test)\n",
    "    acc = accuracy_score(y_test, predmnb)\n",
    "    if acc>maxAccu:\n",
    "        maxAccu=acc\n",
    "        maxRS=i\n",
    "print(\"Best accuracy is\",maxAccu,\" on Random_state \",maxRS)"
   ]
  },
  {
   "cell_type": "code",
   "execution_count": 70,
   "id": "42c48106",
   "metadata": {},
   "outputs": [
    {
     "name": "stdout",
     "output_type": "stream",
     "text": [
      "*******************************************************************************\n",
      "|||||||||||||||||||||||||||||||||||||||||||||||||||||||||||||||||||||||||||||||\n",
      "accuracy score of -> LogisticRegression()\n",
      "0.5257867853023562\n",
      "[[ 964   79  150   94   93]\n",
      " [ 218   45  121   77   44]\n",
      " [ 204   49  270  255  133]\n",
      " [ 100   21  176  577  509]\n",
      " [  60   10   76  409 1335]]\n",
      "              precision    recall  f1-score   support\n",
      "\n",
      "           1       0.62      0.70      0.66      1380\n",
      "           2       0.22      0.09      0.13       505\n",
      "           3       0.34      0.30      0.32       911\n",
      "           4       0.41      0.42      0.41      1383\n",
      "           5       0.63      0.71      0.67      1890\n",
      "\n",
      "    accuracy                           0.53      6069\n",
      "   macro avg       0.44      0.44      0.44      6069\n",
      "weighted avg       0.50      0.53      0.51      6069\n",
      "\n",
      "|||||||||||||||||||||||||||||||||||||||||||||||||||||||||||||||||||||||||||||||\n",
      "*******************************************************************************\n",
      "*******************************************************************************\n",
      "|||||||||||||||||||||||||||||||||||||||||||||||||||||||||||||||||||||||||||||||\n",
      "accuracy score of -> MultinomialNB()\n",
      "0.5432525951557093\n",
      "[[1016    3  115  131  115]\n",
      " [ 214    2   95  123   71]\n",
      " [ 205    4  188  303  211]\n",
      " [  90    2   86  630  575]\n",
      " [  66    3   43  317 1461]]\n",
      "              precision    recall  f1-score   support\n",
      "\n",
      "           1       0.64      0.74      0.68      1380\n",
      "           2       0.14      0.00      0.01       505\n",
      "           3       0.36      0.21      0.26       911\n",
      "           4       0.42      0.46      0.44      1383\n",
      "           5       0.60      0.77      0.68      1890\n",
      "\n",
      "    accuracy                           0.54      6069\n",
      "   macro avg       0.43      0.44      0.41      6069\n",
      "weighted avg       0.49      0.54      0.51      6069\n",
      "\n",
      "|||||||||||||||||||||||||||||||||||||||||||||||||||||||||||||||||||||||||||||||\n",
      "*******************************************************************************\n",
      "*******************************************************************************\n",
      "|||||||||||||||||||||||||||||||||||||||||||||||||||||||||||||||||||||||||||||||\n",
      "accuracy score of -> RandomForestClassifier()\n",
      "0.5180425111220959\n",
      "[[1041   17  125   92  105]\n",
      " [ 261    6   76   80   82]\n",
      " [ 261   19  177  231  223]\n",
      " [ 129   15  117  501  621]\n",
      " [  82    6   45  338 1419]]\n",
      "              precision    recall  f1-score   support\n",
      "\n",
      "           1       0.59      0.75      0.66      1380\n",
      "           2       0.10      0.01      0.02       505\n",
      "           3       0.33      0.19      0.24       911\n",
      "           4       0.40      0.36      0.38      1383\n",
      "           5       0.58      0.75      0.65      1890\n",
      "\n",
      "    accuracy                           0.52      6069\n",
      "   macro avg       0.40      0.41      0.39      6069\n",
      "weighted avg       0.46      0.52      0.48      6069\n",
      "\n",
      "|||||||||||||||||||||||||||||||||||||||||||||||||||||||||||||||||||||||||||||||\n",
      "*******************************************************************************\n"
     ]
    }
   ],
   "source": [
    "from sklearn.model_selection import train_test_split\n",
    "from sklearn.linear_model import LogisticRegression\n",
    "from sklearn.naive_bayes import MultinomialNB\n",
    "from sklearn.neighbors import KNeighborsClassifier\n",
    "from sklearn.ensemble import RandomForestClassifier\n",
    "model=[LogisticRegression(),MultinomialNB(),RandomForestClassifier()]\n",
    "for m in model:\n",
    "    x_train,x_test,y_train,y_test=train_test_split(x,y,test_size=.30,random_state=maxRS)  \n",
    "    m.fit(x_train,y_train)\n",
    "    pred=m.predict(x_test)\n",
    "    print(\"*******************************************************************************\")\n",
    "    print(\"|||||||||||||||||||||||||||||||||||||||||||||||||||||||||||||||||||||||||||||||\")\n",
    "    print('accuracy score of ->', m)\n",
    "    print(accuracy_score(y_test,pred))\n",
    "    print(confusion_matrix(y_test,pred))\n",
    "    print(classification_report(y_test,pred))\n",
    "    print(\"|||||||||||||||||||||||||||||||||||||||||||||||||||||||||||||||||||||||||||||||\")\n",
    "    print(\"*******************************************************************************\")"
   ]
  },
  {
   "cell_type": "markdown",
   "id": "330e2951",
   "metadata": {},
   "source": [
    "### TFidf"
   ]
  },
  {
   "cell_type": "code",
   "execution_count": 71,
   "id": "83edd955",
   "metadata": {},
   "outputs": [],
   "source": [
    "from sklearn.feature_extraction.text import TfidfVectorizer"
   ]
  },
  {
   "cell_type": "code",
   "execution_count": 72,
   "id": "dc213e76",
   "metadata": {},
   "outputs": [],
   "source": [
    "tfidf = TfidfVectorizer()\n",
    "x = tfidf.fit_transform(X).toarray()"
   ]
  },
  {
   "cell_type": "code",
   "execution_count": 73,
   "id": "7234cdb1",
   "metadata": {},
   "outputs": [
    {
     "name": "stdout",
     "output_type": "stream",
     "text": [
      "Best accuracy is 0.5562695666501895  on Random_state  9\n"
     ]
    }
   ],
   "source": [
    "maxAccu=0\n",
    "maxRS=0\n",
    "for i in range(1,15):\n",
    "    x_train,x_test,y_train,y_test=train_test_split(x,y,test_size=.30,random_state=i)\n",
    "    LR = LogisticRegression()\n",
    "    LR.fit(x_train,y_train)\n",
    "    predrf = LR.predict(x_test)\n",
    "    acc = accuracy_score(y_test, predrf)\n",
    "    if acc>maxAccu:\n",
    "        maxAccu=acc\n",
    "        maxRS=i\n",
    "print(\"Best accuracy is\",maxAccu,\" on Random_state \",maxRS)"
   ]
  },
  {
   "cell_type": "code",
   "execution_count": 74,
   "id": "a28ab6fd",
   "metadata": {},
   "outputs": [
    {
     "name": "stdout",
     "output_type": "stream",
     "text": [
      "*******************************************************************************\n",
      "|||||||||||||||||||||||||||||||||||||||||||||||||||||||||||||||||||||||||||||||\n",
      "accuracy score of -> LogisticRegression()\n",
      "0.5562695666501895\n",
      "[[1089    6  144   79   94]\n",
      " [ 235   12  109   93   57]\n",
      " [ 244   10  244  254  162]\n",
      " [ 120    1  131  625  550]\n",
      " [  74    2   45  283 1406]]\n",
      "              precision    recall  f1-score   support\n",
      "\n",
      "           1       0.62      0.77      0.69      1412\n",
      "           2       0.39      0.02      0.04       506\n",
      "           3       0.36      0.27      0.31       914\n",
      "           4       0.47      0.44      0.45      1427\n",
      "           5       0.62      0.78      0.69      1810\n",
      "\n",
      "    accuracy                           0.56      6069\n",
      "   macro avg       0.49      0.46      0.44      6069\n",
      "weighted avg       0.53      0.56      0.52      6069\n",
      "\n",
      "|||||||||||||||||||||||||||||||||||||||||||||||||||||||||||||||||||||||||||||||\n",
      "*******************************************************************************\n",
      "*******************************************************************************\n",
      "|||||||||||||||||||||||||||||||||||||||||||||||||||||||||||||||||||||||||||||||\n",
      "accuracy score of -> KNeighborsClassifier()\n",
      "0.3198220464656451\n",
      "[[774  41 107 145 345]\n",
      " [251  18  44  70 123]\n",
      " [355  29  88 167 275]\n",
      " [504  43 121 280 479]\n",
      " [617  37  71 304 781]]\n",
      "              precision    recall  f1-score   support\n",
      "\n",
      "           1       0.31      0.55      0.40      1412\n",
      "           2       0.11      0.04      0.05       506\n",
      "           3       0.20      0.10      0.13       914\n",
      "           4       0.29      0.20      0.23      1427\n",
      "           5       0.39      0.43      0.41      1810\n",
      "\n",
      "    accuracy                           0.32      6069\n",
      "   macro avg       0.26      0.26      0.24      6069\n",
      "weighted avg       0.30      0.32      0.29      6069\n",
      "\n",
      "|||||||||||||||||||||||||||||||||||||||||||||||||||||||||||||||||||||||||||||||\n",
      "*******************************************************************************\n",
      "*******************************************************************************\n",
      "|||||||||||||||||||||||||||||||||||||||||||||||||||||||||||||||||||||||||||||||\n",
      "accuracy score of -> MultinomialNB()\n",
      "0.5219970341077608\n",
      "[[1085    0   11  115  201]\n",
      " [ 235    0   14  108  149]\n",
      " [ 250    0   45  255  364]\n",
      " [ 118    0   13  439  857]\n",
      " [  69    0    4  138 1599]]\n",
      "              precision    recall  f1-score   support\n",
      "\n",
      "           1       0.62      0.77      0.68      1412\n",
      "           2       0.00      0.00      0.00       506\n",
      "           3       0.52      0.05      0.09       914\n",
      "           4       0.42      0.31      0.35      1427\n",
      "           5       0.50      0.88      0.64      1810\n",
      "\n",
      "    accuracy                           0.52      6069\n",
      "   macro avg       0.41      0.40      0.35      6069\n",
      "weighted avg       0.47      0.52      0.45      6069\n",
      "\n",
      "|||||||||||||||||||||||||||||||||||||||||||||||||||||||||||||||||||||||||||||||\n",
      "*******************************************************************************\n",
      "*******************************************************************************\n",
      "|||||||||||||||||||||||||||||||||||||||||||||||||||||||||||||||||||||||||||||||\n",
      "accuracy score of -> RandomForestClassifier()\n",
      "0.5231504366452463\n",
      "[[1094   12   92   77  137]\n",
      " [ 269    7   53   93   84]\n",
      " [ 283   11  152  235  233]\n",
      " [ 146    7   86  472  716]\n",
      " [  89    0   35  236 1450]]\n",
      "              precision    recall  f1-score   support\n",
      "\n",
      "           1       0.58      0.77      0.66      1412\n",
      "           2       0.19      0.01      0.03       506\n",
      "           3       0.36      0.17      0.23       914\n",
      "           4       0.42      0.33      0.37      1427\n",
      "           5       0.55      0.80      0.65      1810\n",
      "\n",
      "    accuracy                           0.52      6069\n",
      "   macro avg       0.42      0.42      0.39      6069\n",
      "weighted avg       0.47      0.52      0.47      6069\n",
      "\n",
      "|||||||||||||||||||||||||||||||||||||||||||||||||||||||||||||||||||||||||||||||\n",
      "*******************************************************************************\n",
      "*******************************************************************************\n",
      "|||||||||||||||||||||||||||||||||||||||||||||||||||||||||||||||||||||||||||||||\n",
      "accuracy score of -> AdaBoostClassifier()\n",
      "0.49876421156697975\n",
      "[[1185   15   53   98   61]\n",
      " [ 306    7   45  104   44]\n",
      " [ 404    6  120  263  121]\n",
      " [ 272    0   70  560  525]\n",
      " [ 277    0   24  354 1155]]\n",
      "              precision    recall  f1-score   support\n",
      "\n",
      "           1       0.48      0.84      0.61      1412\n",
      "           2       0.25      0.01      0.03       506\n",
      "           3       0.38      0.13      0.20       914\n",
      "           4       0.41      0.39      0.40      1427\n",
      "           5       0.61      0.64      0.62      1810\n",
      "\n",
      "    accuracy                           0.50      6069\n",
      "   macro avg       0.43      0.40      0.37      6069\n",
      "weighted avg       0.47      0.50      0.45      6069\n",
      "\n",
      "|||||||||||||||||||||||||||||||||||||||||||||||||||||||||||||||||||||||||||||||\n",
      "*******************************************************************************\n",
      "*******************************************************************************\n",
      "|||||||||||||||||||||||||||||||||||||||||||||||||||||||||||||||||||||||||||||||\n",
      "accuracy score of -> ExtraTreesClassifier()\n",
      "0.5299060800790905\n",
      "[[1117   20   75   76  124]\n",
      " [ 274    7   64   79   82]\n",
      " [ 295    8  159  217  235]\n",
      " [ 153    8   94  493  679]\n",
      " [  95    0   25  250 1440]]\n",
      "              precision    recall  f1-score   support\n",
      "\n",
      "           1       0.58      0.79      0.67      1412\n",
      "           2       0.16      0.01      0.03       506\n",
      "           3       0.38      0.17      0.24       914\n",
      "           4       0.44      0.35      0.39      1427\n",
      "           5       0.56      0.80      0.66      1810\n",
      "\n",
      "    accuracy                           0.53      6069\n",
      "   macro avg       0.43      0.42      0.40      6069\n",
      "weighted avg       0.48      0.53      0.48      6069\n",
      "\n",
      "|||||||||||||||||||||||||||||||||||||||||||||||||||||||||||||||||||||||||||||||\n",
      "*******************************************************************************\n"
     ]
    }
   ],
   "source": [
    "from sklearn.model_selection import train_test_split\n",
    "from sklearn.naive_bayes import MultinomialNB\n",
    "from sklearn.neighbors import KNeighborsClassifier\n",
    "from sklearn.ensemble import RandomForestClassifier\n",
    "from sklearn.ensemble import ExtraTreesClassifier, AdaBoostClassifier\n",
    "from sklearn.model_selection import cross_val_score\n",
    "model=[LogisticRegression(),KNeighborsClassifier(),MultinomialNB(),RandomForestClassifier(),AdaBoostClassifier(),ExtraTreesClassifier()]\n",
    "for m in model:\n",
    "    x_train,x_test,y_train,y_test=train_test_split(x,y,test_size=.30,random_state=maxRS)  \n",
    "    m.fit(x_train,y_train)\n",
    "    pred=m.predict(x_test)\n",
    "    print(\"*******************************************************************************\")\n",
    "    print(\"|||||||||||||||||||||||||||||||||||||||||||||||||||||||||||||||||||||||||||||||\")\n",
    "    print('accuracy score of ->', m)\n",
    "    print(accuracy_score(y_test,pred))\n",
    "    print(confusion_matrix(y_test,pred))\n",
    "    print(classification_report(y_test,pred))\n",
    "    print(\"|||||||||||||||||||||||||||||||||||||||||||||||||||||||||||||||||||||||||||||||\")\n",
    "    print(\"*******************************************************************************\")"
   ]
  },
  {
   "cell_type": "markdown",
   "id": "024fe5d2",
   "metadata": {},
   "source": [
    "### Word2Vec pre-trained Model"
   ]
  },
  {
   "cell_type": "code",
   "execution_count": 371,
   "id": "5a906925",
   "metadata": {},
   "outputs": [],
   "source": [
    "import gensim"
   ]
  },
  {
   "cell_type": "code",
   "execution_count": 372,
   "id": "44a956e3",
   "metadata": {},
   "outputs": [],
   "source": [
    "from nltk import sent_tokenize\n",
    "from gensim.utils import simple_preprocess\n",
    "from tqdm import tqdm"
   ]
  },
  {
   "cell_type": "code",
   "execution_count": 373,
   "id": "aa5f97dc",
   "metadata": {},
   "outputs": [
    {
     "name": "stderr",
     "output_type": "stream",
     "text": [
      "100%|██████████████████████████████████████████████████████████████████████████| 20205/20205 [00:03<00:00, 6099.16it/s]\n"
     ]
    }
   ],
   "source": [
    "story = []\n",
    "for doc in tqdm(df['Review']):\n",
    "    raw_sent = sent_tokenize(doc)\n",
    "    for sent in raw_sent:\n",
    "        story.append(simple_preprocess(sent))"
   ]
  },
  {
   "cell_type": "code",
   "execution_count": 374,
   "id": "497700c4",
   "metadata": {},
   "outputs": [
    {
     "name": "stderr",
     "output_type": "stream",
     "text": [
      "Word2Vec lifecycle event {'params': 'Word2Vec<vocab=0, vector_size=100, alpha=0.025>', 'datetime': '2022-08-17T06:47:02.311921', 'gensim': '4.2.0', 'python': '3.9.7 (default, Sep 16 2021, 16:59:28) [MSC v.1916 64 bit (AMD64)]', 'platform': 'Windows-10-10.0.22000-SP0', 'event': 'created'}\n"
     ]
    }
   ],
   "source": [
    "model =gensim.models.Word2Vec(window=10,min_count=2,workers=8)"
   ]
  },
  {
   "cell_type": "code",
   "execution_count": 375,
   "id": "d834b4b8",
   "metadata": {},
   "outputs": [
    {
     "name": "stderr",
     "output_type": "stream",
     "text": [
      "collecting all words and their counts\n",
      "PROGRESS: at sentence #0, processed 0 words, keeping 0 word types\n",
      "PROGRESS: at sentence #10000, processed 215476 words, keeping 8403 word types\n",
      "PROGRESS: at sentence #20000, processed 339544 words, keeping 10915 word types\n",
      "collected 10958 word types from a corpus of 341726 raw words and 20205 sentences\n",
      "Creating a fresh vocabulary\n",
      "Word2Vec lifecycle event {'msg': 'effective_min_count=2 retains 5669 unique words (51.73% of original 10958, drops 5289)', 'datetime': '2022-08-17T06:47:02.594278', 'gensim': '4.2.0', 'python': '3.9.7 (default, Sep 16 2021, 16:59:28) [MSC v.1916 64 bit (AMD64)]', 'platform': 'Windows-10-10.0.22000-SP0', 'event': 'prepare_vocab'}\n",
      "Word2Vec lifecycle event {'msg': 'effective_min_count=2 leaves 336437 word corpus (98.45% of original 341726, drops 5289)', 'datetime': '2022-08-17T06:47:02.596273', 'gensim': '4.2.0', 'python': '3.9.7 (default, Sep 16 2021, 16:59:28) [MSC v.1916 64 bit (AMD64)]', 'platform': 'Windows-10-10.0.22000-SP0', 'event': 'prepare_vocab'}\n",
      "deleting the raw counts dictionary of 10958 items\n",
      "sample=0.001 downsamples 64 most-common words\n",
      "Word2Vec lifecycle event {'msg': 'downsampling leaves estimated 298319.4829189493 word corpus (88.7%% of prior 336437)', 'datetime': '2022-08-17T06:47:02.694009', 'gensim': '4.2.0', 'python': '3.9.7 (default, Sep 16 2021, 16:59:28) [MSC v.1916 64 bit (AMD64)]', 'platform': 'Windows-10-10.0.22000-SP0', 'event': 'prepare_vocab'}\n",
      "estimated required memory for 5669 words and 100 dimensions: 7369700 bytes\n",
      "resetting layer weights\n",
      "Word2Vec lifecycle event {'update': False, 'trim_rule': 'None', 'datetime': '2022-08-17T06:47:02.857575', 'gensim': '4.2.0', 'python': '3.9.7 (default, Sep 16 2021, 16:59:28) [MSC v.1916 64 bit (AMD64)]', 'platform': 'Windows-10-10.0.22000-SP0', 'event': 'build_vocab'}\n"
     ]
    }
   ],
   "source": [
    "model.build_vocab(story)"
   ]
  },
  {
   "cell_type": "code",
   "execution_count": 376,
   "id": "5d7dafc9",
   "metadata": {},
   "outputs": [
    {
     "name": "stderr",
     "output_type": "stream",
     "text": [
      "Word2Vec lifecycle event {'msg': 'training model with 8 workers on 5669 vocabulary and 100 features, using sg=0 hs=0 sample=0.001 negative=5 window=10 shrink_windows=True', 'datetime': '2022-08-17T06:47:02.882524', 'gensim': '4.2.0', 'python': '3.9.7 (default, Sep 16 2021, 16:59:28) [MSC v.1916 64 bit (AMD64)]', 'platform': 'Windows-10-10.0.22000-SP0', 'event': 'train'}\n",
      "EPOCH 0: training on 341726 raw words (298528 effective words) took 0.3s, 873728 effective words/s\n",
      "EPOCH 1: training on 341726 raw words (298379 effective words) took 0.4s, 797133 effective words/s\n",
      "EPOCH 2: training on 341726 raw words (298126 effective words) took 0.4s, 691027 effective words/s\n",
      "EPOCH 3: training on 341726 raw words (298363 effective words) took 0.4s, 791211 effective words/s\n",
      "EPOCH 4: training on 341726 raw words (298380 effective words) took 0.4s, 753054 effective words/s\n",
      "Word2Vec lifecycle event {'msg': 'training on 1708630 raw words (1491776 effective words) took 2.1s, 710036 effective words/s', 'datetime': '2022-08-17T06:47:04.985318', 'gensim': '4.2.0', 'python': '3.9.7 (default, Sep 16 2021, 16:59:28) [MSC v.1916 64 bit (AMD64)]', 'platform': 'Windows-10-10.0.22000-SP0', 'event': 'train'}\n"
     ]
    },
    {
     "data": {
      "text/plain": [
       "(1491776, 1708630)"
      ]
     },
     "execution_count": 376,
     "metadata": {},
     "output_type": "execute_result"
    }
   ],
   "source": [
    "model.train(story, total_examples=model.corpus_count,epochs=model.epochs)"
   ]
  },
  {
   "cell_type": "code",
   "execution_count": 377,
   "id": "1d6d49d7",
   "metadata": {},
   "outputs": [
    {
     "data": {
      "text/plain": [
       "5669"
      ]
     },
     "execution_count": 377,
     "metadata": {},
     "output_type": "execute_result"
    }
   ],
   "source": [
    "### Len of vocabulary // vector for vocabulary\n",
    "len(model.wv.index_to_key)"
   ]
  },
  {
   "cell_type": "code",
   "execution_count": 381,
   "id": "c2e6f831",
   "metadata": {},
   "outputs": [],
   "source": [
    "### Converting reviews to vector\n",
    "def document_vector(doc):\n",
    "    # remove out of vocabulary words\n",
    "    doc = [word for word in doc.split() if word in model.wv.index_to_key]\n",
    "    return np.mean(model.wv[doc],axis=0)"
   ]
  },
  {
   "cell_type": "code",
   "execution_count": 395,
   "id": "b07069c4",
   "metadata": {},
   "outputs": [
    {
     "data": {
      "text/plain": [
       "array([ 0.09382379, -0.0968582 ,  0.38144696, -0.57621354,  0.03558198,\n",
       "       -1.0852188 ,  0.6035317 ,  0.73482144, -0.05796165, -0.3767699 ,\n",
       "        0.16583905, -0.26787215, -0.60375285, -0.10381859,  0.02438763,\n",
       "        0.3174693 , -0.14494681, -0.06403251, -0.26004866,  0.27608994,\n",
       "        0.6585306 , -0.0610157 ,  0.1811288 , -0.06131135,  0.68282723,\n",
       "        0.52603406, -0.10811611, -0.597082  ,  0.02549524,  0.2877253 ,\n",
       "       -0.16944791,  0.04527884, -0.48418158,  0.0307604 , -0.15077081,\n",
       "       -0.16889267, -0.10418746,  0.29420477,  0.21380396, -0.2860117 ,\n",
       "       -0.13967204, -0.01931567,  0.3692388 ,  0.3062664 ,  0.08052934,\n",
       "        0.74369836, -0.1573765 ,  0.1369946 ,  0.50506926,  0.04183483,\n",
       "       -0.04112903, -0.5417459 ,  0.7257353 ,  0.27173907, -0.92153525,\n",
       "        0.36900172,  0.2397609 , -0.15609257, -0.40551537,  0.5231602 ,\n",
       "       -0.40801954, -0.5640695 , -0.07684231,  0.4536441 , -0.6619997 ,\n",
       "        0.9077455 , -0.5928496 ,  0.2356209 ,  0.40783882,  0.06726275,\n",
       "       -0.7240554 , -0.0247262 ,  0.24674343, -0.38486215,  0.640546  ,\n",
       "        0.30650836,  0.07336462,  0.25494292, -0.48456526, -0.145507  ,\n",
       "        0.32805437, -0.48400104,  0.02943008, -0.14106494, -0.04824101,\n",
       "        0.913225  ,  0.53361076,  0.34732977,  0.2444216 , -0.49619475,\n",
       "       -0.16992062,  0.29266828, -0.49485993,  0.12734993,  0.13984671,\n",
       "        0.2698182 ,  0.10463193, -0.6995466 , -0.17758325,  0.64324355],\n",
       "      dtype=float32)"
      ]
     },
     "execution_count": 395,
     "metadata": {},
     "output_type": "execute_result"
    }
   ],
   "source": [
    "document_vector(df['Review'].values[0])"
   ]
  },
  {
   "cell_type": "code",
   "execution_count": 386,
   "id": "c97aceac",
   "metadata": {},
   "outputs": [
    {
     "data": {
      "text/plain": [
       "0"
      ]
     },
     "execution_count": 386,
     "metadata": {},
     "output_type": "execute_result"
    }
   ],
   "source": [
    "len(df[df['Review']==''])"
   ]
  },
  {
   "cell_type": "code",
   "execution_count": 593,
   "id": "f652d87a",
   "metadata": {},
   "outputs": [
    {
     "data": {
      "text/html": [
       "<div><div id=aa428c9b-95b7-4ac3-b228-3d53f2d2beb3 style=\"display:none; background-color:#9D6CFF; color:white; width:200px; height:30px; padding-left:5px; border-radius:4px; flex-direction:row; justify-content:space-around; align-items:center;\" onmouseover=\"this.style.backgroundColor='#BA9BF8'\" onmouseout=\"this.style.backgroundColor='#9D6CFF'\" onclick=\"window.commands?.execute('create-mitosheet-from-dataframe-output');\">See Full Dataframe in Mito</div> <script> if (window.commands?.hasCommand('create-mitosheet-from-dataframe-output')) document.getElementById('aa428c9b-95b7-4ac3-b228-3d53f2d2beb3').style.display = 'flex' </script> <table border=\"1\" class=\"dataframe\">\n",
       "  <thead>\n",
       "    <tr style=\"text-align: right;\">\n",
       "      <th></th>\n",
       "      <th>Review</th>\n",
       "      <th>Rating</th>\n",
       "      <th>Text_Length</th>\n",
       "      <th>Cleaned_Text_Length</th>\n",
       "    </tr>\n",
       "  </thead>\n",
       "  <tbody>\n",
       "    <tr>\n",
       "      <th>20137</th>\n",
       "      <td>ye</td>\n",
       "      <td>4</td>\n",
       "      <td>3</td>\n",
       "      <td>2</td>\n",
       "    </tr>\n",
       "    <tr>\n",
       "      <th>20138</th>\n",
       "      <td>go</td>\n",
       "      <td>4</td>\n",
       "      <td>20</td>\n",
       "      <td>2</td>\n",
       "    </tr>\n",
       "  </tbody>\n",
       "</table></div>"
      ],
      "text/plain": [
       "      Review  Rating  Text_Length  Cleaned_Text_Length\n",
       "20137     ye       4            3                    2\n",
       "20138     go       4           20                    2"
      ]
     },
     "execution_count": 593,
     "metadata": {},
     "output_type": "execute_result"
    }
   ],
   "source": [
    "df=df[df['Review']!='']\n",
    "df.drop(20112,axis=0,inplace=True)\n",
    "df = df.reset_index()\n",
    "df.drop('index',axis=1,inplace=True)\n",
    "df.tail(2)"
   ]
  },
  {
   "cell_type": "code",
   "execution_count": 596,
   "id": "d2cf0ed2",
   "metadata": {},
   "outputs": [
    {
     "name": "stderr",
     "output_type": "stream",
     "text": [
      "100%|██████████████████████████████████████████████████████████████████████████| 20139/20139 [00:05<00:00, 3731.85it/s]\n"
     ]
    }
   ],
   "source": [
    "X = []\n",
    "for doc in tqdm(df['Review'].values):\n",
    "    X.append(document_vector(doc))"
   ]
  },
  {
   "cell_type": "code",
   "execution_count": 597,
   "id": "321224d4",
   "metadata": {},
   "outputs": [
    {
     "name": "stdout",
     "output_type": "stream",
     "text": [
      "Best accuracy is 0.5562695666501895  on Random_state  9\n"
     ]
    }
   ],
   "source": [
    "maxAccu=0\n",
    "maxRS=0\n",
    "for i in range(1,15):\n",
    "    x_train,x_test,y_train,y_test=train_test_split(x,y,test_size=.30,random_state=i)\n",
    "    LR = LogisticRegression()\n",
    "    LR.fit(x_train,y_train)\n",
    "    predrf = LR.predict(x_test)\n",
    "    acc = accuracy_score(y_test, predrf)\n",
    "    if acc>maxAccu:\n",
    "        maxAccu=acc\n",
    "        maxRS=i\n",
    "print(\"Best accuracy is\",maxAccu,\" on Random_state \",maxRS)"
   ]
  },
  {
   "cell_type": "code",
   "execution_count": 598,
   "id": "51794a76",
   "metadata": {},
   "outputs": [
    {
     "name": "stdout",
     "output_type": "stream",
     "text": [
      "*******************************************************************************\n",
      "|||||||||||||||||||||||||||||||||||||||||||||||||||||||||||||||||||||||||||||||\n",
      "accuracy score of -> LogisticRegression()\n",
      "0.5562695666501895\n",
      "[[1089    6  144   79   94]\n",
      " [ 235   12  109   93   57]\n",
      " [ 244   10  244  254  162]\n",
      " [ 120    1  131  625  550]\n",
      " [  74    2   45  283 1406]]\n",
      "              precision    recall  f1-score   support\n",
      "\n",
      "           1       0.62      0.77      0.69      1412\n",
      "           2       0.39      0.02      0.04       506\n",
      "           3       0.36      0.27      0.31       914\n",
      "           4       0.47      0.44      0.45      1427\n",
      "           5       0.62      0.78      0.69      1810\n",
      "\n",
      "    accuracy                           0.56      6069\n",
      "   macro avg       0.49      0.46      0.44      6069\n",
      "weighted avg       0.53      0.56      0.52      6069\n",
      "\n",
      "|||||||||||||||||||||||||||||||||||||||||||||||||||||||||||||||||||||||||||||||\n",
      "*******************************************************************************\n",
      "*******************************************************************************\n",
      "|||||||||||||||||||||||||||||||||||||||||||||||||||||||||||||||||||||||||||||||\n",
      "accuracy score of -> KNeighborsClassifier()\n",
      "0.3198220464656451\n",
      "[[774  41 107 145 345]\n",
      " [251  18  44  70 123]\n",
      " [355  29  88 167 275]\n",
      " [504  43 121 280 479]\n",
      " [617  37  71 304 781]]\n",
      "              precision    recall  f1-score   support\n",
      "\n",
      "           1       0.31      0.55      0.40      1412\n",
      "           2       0.11      0.04      0.05       506\n",
      "           3       0.20      0.10      0.13       914\n",
      "           4       0.29      0.20      0.23      1427\n",
      "           5       0.39      0.43      0.41      1810\n",
      "\n",
      "    accuracy                           0.32      6069\n",
      "   macro avg       0.26      0.26      0.24      6069\n",
      "weighted avg       0.30      0.32      0.29      6069\n",
      "\n",
      "|||||||||||||||||||||||||||||||||||||||||||||||||||||||||||||||||||||||||||||||\n",
      "*******************************************************************************\n",
      "*******************************************************************************\n",
      "|||||||||||||||||||||||||||||||||||||||||||||||||||||||||||||||||||||||||||||||\n",
      "accuracy score of -> MultinomialNB()\n",
      "0.5219970341077608\n",
      "[[1085    0   11  115  201]\n",
      " [ 235    0   14  108  149]\n",
      " [ 250    0   45  255  364]\n",
      " [ 118    0   13  439  857]\n",
      " [  69    0    4  138 1599]]\n",
      "              precision    recall  f1-score   support\n",
      "\n",
      "           1       0.62      0.77      0.68      1412\n",
      "           2       0.00      0.00      0.00       506\n",
      "           3       0.52      0.05      0.09       914\n",
      "           4       0.42      0.31      0.35      1427\n",
      "           5       0.50      0.88      0.64      1810\n",
      "\n",
      "    accuracy                           0.52      6069\n",
      "   macro avg       0.41      0.40      0.35      6069\n",
      "weighted avg       0.47      0.52      0.45      6069\n",
      "\n",
      "|||||||||||||||||||||||||||||||||||||||||||||||||||||||||||||||||||||||||||||||\n",
      "*******************************************************************************\n",
      "*******************************************************************************\n",
      "|||||||||||||||||||||||||||||||||||||||||||||||||||||||||||||||||||||||||||||||\n",
      "accuracy score of -> RandomForestClassifier()\n",
      "0.5137584445542923\n",
      "[[1073   15   90   85  149]\n",
      " [ 260    3   53   99   91]\n",
      " [ 292   10  159  215  238]\n",
      " [ 146    5   95  467  714]\n",
      " [  97    2   38  257 1416]]\n",
      "              precision    recall  f1-score   support\n",
      "\n",
      "           1       0.57      0.76      0.65      1412\n",
      "           2       0.09      0.01      0.01       506\n",
      "           3       0.37      0.17      0.24       914\n",
      "           4       0.42      0.33      0.37      1427\n",
      "           5       0.54      0.78      0.64      1810\n",
      "\n",
      "    accuracy                           0.51      6069\n",
      "   macro avg       0.40      0.41      0.38      6069\n",
      "weighted avg       0.46      0.51      0.47      6069\n",
      "\n",
      "|||||||||||||||||||||||||||||||||||||||||||||||||||||||||||||||||||||||||||||||\n",
      "*******************************************************************************\n",
      "*******************************************************************************\n",
      "|||||||||||||||||||||||||||||||||||||||||||||||||||||||||||||||||||||||||||||||\n",
      "accuracy score of -> AdaBoostClassifier()\n",
      "0.49876421156697975\n",
      "[[1185   15   53   98   61]\n",
      " [ 306    7   45  104   44]\n",
      " [ 404    6  120  263  121]\n",
      " [ 272    0   70  560  525]\n",
      " [ 277    0   24  354 1155]]\n",
      "              precision    recall  f1-score   support\n",
      "\n",
      "           1       0.48      0.84      0.61      1412\n",
      "           2       0.25      0.01      0.03       506\n",
      "           3       0.38      0.13      0.20       914\n",
      "           4       0.41      0.39      0.40      1427\n",
      "           5       0.61      0.64      0.62      1810\n",
      "\n",
      "    accuracy                           0.50      6069\n",
      "   macro avg       0.43      0.40      0.37      6069\n",
      "weighted avg       0.47      0.50      0.45      6069\n",
      "\n",
      "|||||||||||||||||||||||||||||||||||||||||||||||||||||||||||||||||||||||||||||||\n",
      "*******************************************************************************\n",
      "*******************************************************************************\n",
      "|||||||||||||||||||||||||||||||||||||||||||||||||||||||||||||||||||||||||||||||\n",
      "accuracy score of -> ExtraTreesClassifier()\n",
      "0.5254572417202175\n",
      "[[1114   22   88   74  114]\n",
      " [ 269    7   61   85   84]\n",
      " [ 282   12  153  227  240]\n",
      " [ 152    6   96  486  687]\n",
      " [  94    2   36  249 1429]]\n",
      "              precision    recall  f1-score   support\n",
      "\n",
      "           1       0.58      0.79      0.67      1412\n",
      "           2       0.14      0.01      0.03       506\n",
      "           3       0.35      0.17      0.23       914\n",
      "           4       0.43      0.34      0.38      1427\n",
      "           5       0.56      0.79      0.65      1810\n",
      "\n",
      "    accuracy                           0.53      6069\n",
      "   macro avg       0.41      0.42      0.39      6069\n",
      "weighted avg       0.47      0.53      0.48      6069\n",
      "\n",
      "|||||||||||||||||||||||||||||||||||||||||||||||||||||||||||||||||||||||||||||||\n",
      "*******************************************************************************\n"
     ]
    }
   ],
   "source": [
    "from sklearn.model_selection import train_test_split\n",
    "from sklearn.naive_bayes import MultinomialNB\n",
    "from sklearn.neighbors import KNeighborsClassifier\n",
    "from sklearn.ensemble import RandomForestClassifier\n",
    "from sklearn.ensemble import ExtraTreesClassifier, AdaBoostClassifier\n",
    "from sklearn.model_selection import cross_val_score\n",
    "model=[LogisticRegression(),KNeighborsClassifier(),MultinomialNB(),RandomForestClassifier(),AdaBoostClassifier(),ExtraTreesClassifier()]\n",
    "for m in model:\n",
    "    x_train,x_test,y_train,y_test=train_test_split(x,y,test_size=.30,random_state=maxRS)  \n",
    "    m.fit(x_train,y_train)\n",
    "    pred=m.predict(x_test)\n",
    "    print(\"*******************************************************************************\")\n",
    "    print(\"|||||||||||||||||||||||||||||||||||||||||||||||||||||||||||||||||||||||||||||||\")\n",
    "    print('accuracy score of ->', m)\n",
    "    print(accuracy_score(y_test,pred))\n",
    "    print(confusion_matrix(y_test,pred))\n",
    "    print(classification_report(y_test,pred))\n",
    "    print(\"|||||||||||||||||||||||||||||||||||||||||||||||||||||||||||||||||||||||||||||||\")\n",
    "    print(\"*******************************************************************************\")"
   ]
  },
  {
   "cell_type": "markdown",
   "id": "e53c4ec2",
   "metadata": {},
   "source": [
    "### Final Model"
   ]
  },
  {
   "cell_type": "markdown",
   "id": "732a2607",
   "metadata": {},
   "source": [
    "We have 2 models with the same accuracy :\n",
    "   1. Word2Vec with Logistic Regression \n",
    "   2. TFIDF with Logistic Regression\n",
    "   \n",
    "We choose word2vec with Logistic Regression as our Final Model"
   ]
  },
  {
   "cell_type": "code",
   "execution_count": 599,
   "id": "fcfab88f",
   "metadata": {},
   "outputs": [
    {
     "name": "stdout",
     "output_type": "stream",
     "text": [
      "*******************************************************************************\n",
      "|||||||||||||||||||||||||||||||||||||||||||||||||||||||||||||||||||||||||||||||\n",
      "accuracy score of -> LogisticRegression()\n",
      "0.5562695666501895\n",
      "[[1089    6  144   79   94]\n",
      " [ 235   12  109   93   57]\n",
      " [ 244   10  244  254  162]\n",
      " [ 120    1  131  625  550]\n",
      " [  74    2   45  283 1406]]\n",
      "              precision    recall  f1-score   support\n",
      "\n",
      "           1       0.62      0.77      0.69      1412\n",
      "           2       0.39      0.02      0.04       506\n",
      "           3       0.36      0.27      0.31       914\n",
      "           4       0.47      0.44      0.45      1427\n",
      "           5       0.62      0.78      0.69      1810\n",
      "\n",
      "    accuracy                           0.56      6069\n",
      "   macro avg       0.49      0.46      0.44      6069\n",
      "weighted avg       0.53      0.56      0.52      6069\n",
      "\n",
      "|||||||||||||||||||||||||||||||||||||||||||||||||||||||||||||||||||||||||||||||\n",
      "*******************************************************************************\n"
     ]
    }
   ],
   "source": [
    "model=[LogisticRegression()]\n",
    "for m in model:\n",
    "    x_train,x_test,y_train,y_test=train_test_split(x,y,test_size=.30,random_state=maxRS)  \n",
    "    m.fit(x_train,y_train)\n",
    "    pred=m.predict(x_test)\n",
    "    print(\"*******************************************************************************\")\n",
    "    print(\"|||||||||||||||||||||||||||||||||||||||||||||||||||||||||||||||||||||||||||||||\")\n",
    "    print('accuracy score of ->', m)\n",
    "    print(accuracy_score(y_test,pred))\n",
    "    print(confusion_matrix(y_test,pred))\n",
    "    print(classification_report(y_test,pred))\n",
    "    print(\"|||||||||||||||||||||||||||||||||||||||||||||||||||||||||||||||||||||||||||||||\")\n",
    "    print(\"*******************************************************************************\")"
   ]
  },
  {
   "cell_type": "markdown",
   "id": "6f39d494",
   "metadata": {},
   "source": [
    "### Saving Final Model"
   ]
  },
  {
   "cell_type": "code",
   "execution_count": 600,
   "id": "3a66b833",
   "metadata": {},
   "outputs": [],
   "source": [
    "import pickle"
   ]
  },
  {
   "cell_type": "code",
   "execution_count": 602,
   "id": "a73e3568",
   "metadata": {},
   "outputs": [],
   "source": [
    "file_name = 'NLP_Rating_Prediction.pkl'\n",
    "pickle.dump(LogisticRegression(),open(file_name,'wb'))"
   ]
  },
  {
   "cell_type": "code",
   "execution_count": null,
   "id": "04a4967b",
   "metadata": {},
   "outputs": [],
   "source": []
  }
 ],
 "metadata": {
  "kernelspec": {
   "display_name": "Python 3 (ipykernel)",
   "language": "python",
   "name": "python3"
  },
  "language_info": {
   "codemirror_mode": {
    "name": "ipython",
    "version": 3
   },
   "file_extension": ".py",
   "mimetype": "text/x-python",
   "name": "python",
   "nbconvert_exporter": "python",
   "pygments_lexer": "ipython3",
   "version": "3.9.7"
  }
 },
 "nbformat": 4,
 "nbformat_minor": 5
}
