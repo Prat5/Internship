{
 "cells": [
  {
   "cell_type": "code",
   "execution_count": 7,
   "id": "0aa1c0c9",
   "metadata": {},
   "outputs": [],
   "source": [
    "import time\n",
    "from selenium import webdriver\n",
    "from selenium.webdriver.common.keys import Keys\n",
    "from selenium.webdriver.common.by import By\n",
    "import pandas as pd\n",
    "import warnings\n",
    "warnings.filterwarnings('ignore')\n",
    "from selenium.common.exceptions import NoSuchElementException,WebDriverException,ElementClickInterceptedException,ElementNotInteractableException,StaleElementReferenceException\n",
    "from selenium.webdriver.chrome.options import Options"
   ]
  },
  {
   "cell_type": "code",
   "execution_count": 60,
   "id": "38ad8beb",
   "metadata": {},
   "outputs": [],
   "source": [
    "Review = []\n",
    "Rating = []\n",
    "def scrap(item):\n",
    "    option = Options()\n",
    "    option.add_argument('--disable-notifications')\n",
    "    PATH = 'C:\\Program Files (x86)\\chromedriver.exe'\n",
    "    driver = webdriver.Chrome(PATH,chrome_options=option)\n",
    "    driver.maximize_window()\n",
    "    try:\n",
    "        driver.get('https://www.amazon.in/')\n",
    "    except:\n",
    "        driver.refresh()\n",
    "        driver.get('https://www.amazon.in/')\n",
    "    time.sleep(0.5)\n",
    "    driver.find_element_by_xpath('/html/body/div[1]/header/div/div[1]/div[2]/div/form/div[2]/div[1]/input').send_keys(item)\n",
    "    time.sleep(2)\n",
    "    driver.find_element_by_xpath('/html/body/div[1]/header/div/div[1]/div[2]/div/form/div[3]/div/span/input').click()\n",
    "    driver.implicitly_wait(2)\n",
    "\n",
    "    driver.find_element_by_xpath('/html/body/div[1]/div[2]/div[1]/div[2]/div/div[3]/span/div/div/div/div[3]/ul/li[1]/span/a/section').click()\n",
    "    driver.implicitly_wait(1)\n",
    "    \n",
    "    try:\n",
    "        driver.find_element_by_xpath('/html/body/div[1]/div[2]/div[1]/div[1]/div/span[3]/div[2]/div[22]/div/div/div/div/div/div[2]/div/div/div[1]/h2/a/span').click()\n",
    "    except:\n",
    "        driver.find_element_by_xpath('/html/body/div[1]/div[2]/div[1]/div[1]/div/span[3]/div[2]/div[22]/div/div/div/div/div/div[2]/div/div/div[1]/h2/a/span').click()\n",
    "    driver.switch_to.window(driver.window_handles[1])\n",
    "    time.sleep(1)\n",
    "    for i in range(1,5):\n",
    "        driver.execute_script(\"window.scrollTo(0, window.scrollY + 1000)\")\n",
    "    driver.find_element_by_xpath('/html/body/div[2]/div[2]/div[5]/div[39]/div/div/div[2]/div/div[2]/span[2]/div/div/div[5]/div[2]/a').click()\n",
    "    for review in range(1,11):\n",
    "        try:\n",
    "            ratings = driver.find_elements_by_xpath(f'/html/body/div[1]/div[3]/div/div[1]/div/div[1]/div[5]/div[3]/div/div[{str(review)}]/div/div/div[2]/a[1]')\n",
    "            for i in ratings:\n",
    "                f = i.get_attribute('title')\n",
    "                Rating.append(f)\n",
    "        except:\n",
    "            Rating.append('-')\n",
    "\n",
    "        try:\n",
    "            comment = driver.find_element_by_xpath(f'/html/body/div[1]/div[3]/div/div[1]/div/div[1]/div[5]/div[3]/div/div[{str(review)}]/div/div/div[4]/span/span')\n",
    "            Review.append(comment.text)\n",
    "\n",
    "        except NoSuchElementException:\n",
    "            Review.append(\"-\")\n",
    "    next_page = driver.find_element_by_xpath('/html/body/div[1]/div[3]/div/div[1]/div/div[1]/div[5]/div[3]/div/div[11]/span/div/ul/li[2]/a')\n",
    "    next_page.click()\n",
    "    for page in range(1,200):\n",
    "        for review in range(2,12):\n",
    "            try:                                          \n",
    "                ratings = driver.find_elements_by_xpath(f'/html/body/div[1]/div[3]/div/div[1]/div/div[1]/div[5]/div[3]/div/div[{str(review)}]/div/div/div[2]/a[1]')\n",
    "                for i in ratings:\n",
    "                    f = i.get_attribute('title')\n",
    "                    Rating.append(f)\n",
    "            except:\n",
    "                Rating.append('-')\n",
    "            try:    \n",
    "                comment = driver.find_element_by_xpath(f'/html/body/div[1]/div[3]/div/div[1]/div/div[1]/div[5]/div[3]/div/div[{str(review)}]/div/div/div[4]/span/span')\n",
    "                Review.append(comment.text)              \n",
    "            except:\n",
    "                Review.append('-')\n",
    "            time.sleep(0.5)\n",
    "        try:                                          \n",
    "            next_page = driver.find_element_by_xpath('/html/body/div[1]/div[3]/div/div[1]/div/div[1]/div[5]/div[3]/div/div[11]/span/div/ul/li[2]/a')\n",
    "            next_page.click()\n",
    "            driver.implicitly_wait(1)\n",
    "            driver.refresh()\n",
    "        except:\n",
    "            time.sleep(5)\n",
    "            next_page = driver.find_element_by_xpath('/html/body/div[1]/div[3]/div/div[1]/div/div[1]/div[5]/div[3]/div/div[12]/span/div/ul/li[2]/a')\n",
    "            next_page.click()"
   ]
  },
  {
   "cell_type": "code",
   "execution_count": null,
   "id": "011def12",
   "metadata": {},
   "outputs": [],
   "source": [
    "scrap('laptop')"
   ]
  },
  {
   "cell_type": "code",
   "execution_count": 141,
   "id": "d64cdf34",
   "metadata": {},
   "outputs": [],
   "source": [
    "df = pd.DataFrame()\n",
    "df['Review'] = Review\n",
    "df['Rating'] = Rating"
   ]
  },
  {
   "cell_type": "code",
   "execution_count": 142,
   "id": "8f9336a4",
   "metadata": {},
   "outputs": [
    {
     "data": {
      "text/plain": [
       "(747, 2)"
      ]
     },
     "execution_count": 142,
     "metadata": {},
     "output_type": "execute_result"
    }
   ],
   "source": [
    "df = df.append(df1)\n",
    "df.shape"
   ]
  },
  {
   "cell_type": "code",
   "execution_count": 143,
   "id": "98294b04",
   "metadata": {},
   "outputs": [
    {
     "data": {
      "text/html": [
       "<div><div id=8c7e839b-1074-4698-a07b-db249e4ffd70 style=\"display:none; background-color:#9D6CFF; color:white; width:200px; height:30px; padding-left:5px; border-radius:4px; flex-direction:row; justify-content:space-around; align-items:center;\" onmouseover=\"this.style.backgroundColor='#BA9BF8'\" onmouseout=\"this.style.backgroundColor='#9D6CFF'\" onclick=\"window.commands?.execute('create-mitosheet-from-dataframe-output');\">See Full Dataframe in Mito</div> <script> if (window.commands?.hasCommand('create-mitosheet-from-dataframe-output')) document.getElementById('8c7e839b-1074-4698-a07b-db249e4ffd70').style.display = 'flex' </script> <table border=\"1\" class=\"dataframe\">\n",
       "  <thead>\n",
       "    <tr style=\"text-align: right;\">\n",
       "      <th></th>\n",
       "      <th>Review</th>\n",
       "      <th>Rating</th>\n",
       "    </tr>\n",
       "  </thead>\n",
       "  <tbody>\n",
       "    <tr>\n",
       "      <th>0</th>\n",
       "      <td>I was confused between asus and lenovo s145 laptop but chose go with this laptop because of build quality.\\n\\nLenovo s145 feels quite flimsy while asus is reinforced with metal plates under the keyboard and in side supports of screen.\\n\\n4gb ram and ryzen 3250u is good for everyday uses and light office work like browsing with5-6 tab oepn in chrome and 2-3 office files and for heavy uses there option to increase ram capacity.\\n\\nSsd read speeds are quite fast 950mb/s and write speed upto 350mb/s th...\\nREAD MORE</td>\n",
       "      <td>5</td>\n",
       "    </tr>\n",
       "    <tr>\n",
       "      <th>1</th>\n",
       "      <td>First I would like to thank flipcart for sending this great product in 3 days .\\nREVIEW -... I BOUGHT IT IN 32K IN BIG BILLION DAYS SALE .\\n1. The looks of this laptop is great and nyc.\\n\\n2. Speed is fantastic running like butter on daily\\nusese remember it is not a gaming laptop so don't try heavy software. I install a android emulator on it and when I open the software I can clearly hear the noise of fan.\\n\\n3. it boot up in 6 second and off in 3 second thanks to nvme SSD remember there...\\nREAD MORE</td>\n",
       "      <td>5</td>\n",
       "    </tr>\n",
       "    <tr>\n",
       "      <th>2</th>\n",
       "      <td>It's an amazing laptop in this prize segment. Because in this prize we get all types of specifications and aspects... Like it having 256GB SSD drive, FHD display, a allround king processor unit everything is fine.i using this laptop till 8days ago... I think this was my right option.\\n\\nProps:---\\n\\n1.FHD Display ---one of the good IPS LCD display with good resolution capacity\\n\\n2.SSD :--- the maximum boot up time will taken approximately 4second to 6 second\\n\\n3.Ryzen 3 3340U :---- all round an exc...\\nREAD MORE</td>\n",
       "      <td>5</td>\n",
       "    </tr>\n",
       "    <tr>\n",
       "      <th>3</th>\n",
       "      <td>The product is realy good and value for money battery life is not up to the mark but its ok in this price range .it is best for online class and study ,you can play small games but not a big game like pubg and gta 5 butin low setting you can play\\n*Packing is also good very genuine packing was there it takes time to reboot for only 5 to 7 seconds\\nIn light usage its to fast for office work and study it is best</td>\n",
       "      <td>5</td>\n",
       "    </tr>\n",
       "    <tr>\n",
       "      <th>4</th>\n",
       "      <td>In this price range it's an amazing laptop. Don't think just go for it.😊\\n1. Bilt quality is good. 4/5\\n2. Performance is amazing. 5/5\\n3. Display is great. 5/5\\n4. Battery is decent. 4/5\\n5. It's an best laptop for students. work and multimedia consumption.😊\\n6. And it's ryzen 3 3250U prosessor is amazing and makes more fast with SSD storage. Loved it😊🔥</td>\n",
       "      <td>5</td>\n",
       "    </tr>\n",
       "    <tr>\n",
       "      <th>...</th>\n",
       "      <td>...</td>\n",
       "      <td>...</td>\n",
       "    </tr>\n",
       "    <tr>\n",
       "      <th>703</th>\n",
       "      <td>It works smoothly and I love it honestly but please if you're thinking to get it for gaming then don't because I'd say that it's only suitable for school/college students and for office work or any other work except for gaming.</td>\n",
       "      <td>5.0 out of 5 stars</td>\n",
       "    </tr>\n",
       "    <tr>\n",
       "      <th>704</th>\n",
       "      <td>I bought if from Croma for 43k on 2nd feb 2022 with no cost emi options. Good laptop with decent specs.</td>\n",
       "      <td>4.0 out of 5 stars</td>\n",
       "    </tr>\n",
       "    <tr>\n",
       "      <th>705</th>\n",
       "      <td>When you think for buy laptop.. This is the best choice for everything for work or browsing.. Nice laptop.. Best choice for me</td>\n",
       "      <td>5.0 out of 5 stars</td>\n",
       "    </tr>\n",
       "    <tr>\n",
       "      <th>706</th>\n",
       "      <td>Everything is excellent.\\nI will see the performance and will give the feedback after 1 month of utilisation.\\n\\nEdit: - after 1 month's of use, I am forced to write down the review. This laptop works fantastic . No problem at all.</td>\n",
       "      <td>5.0 out of 5 stars</td>\n",
       "    </tr>\n",
       "    <tr>\n",
       "      <th>707</th>\n",
       "      <td>Its processing speed awesome , much better than intel core , within 512 gb ssd superb , overall nice product</td>\n",
       "      <td>5.0 out of 5 stars</td>\n",
       "    </tr>\n",
       "  </tbody>\n",
       "</table></div>"
      ],
      "text/plain": [
       "                                                Review              Rating\n",
       "0    I was confused between asus and lenovo s145 la...                   5\n",
       "1    First I would like to thank flipcart for sendi...                   5\n",
       "2    It's an amazing laptop in this prize segment. ...                   5\n",
       "3    The product is realy good and value for money ...                   5\n",
       "4    In this price range it's an amazing laptop. Do...                   5\n",
       "..                                                 ...                 ...\n",
       "703  It works smoothly and I love it honestly but p...  5.0 out of 5 stars\n",
       "704  I bought if from Croma for 43k on 2nd feb 2022...  4.0 out of 5 stars\n",
       "705  When you think for buy laptop.. This is the be...  5.0 out of 5 stars\n",
       "706  Everything is excellent.\\nI will see the perfo...  5.0 out of 5 stars\n",
       "707  Its processing speed awesome , much better tha...  5.0 out of 5 stars\n",
       "\n",
       "[708 rows x 2 columns]"
      ]
     },
     "execution_count": 143,
     "metadata": {},
     "output_type": "execute_result"
    }
   ],
   "source": [
    "df = df.drop_duplicates()\n",
    "df.reset_index(inplace=True)\n",
    "df.drop('index',axis=1,inplace=True)\n",
    "df"
   ]
  },
  {
   "cell_type": "code",
   "execution_count": 15,
   "id": "747c7759",
   "metadata": {},
   "outputs": [],
   "source": [
    "df.to_csv('nlp_data_laptop.csv')"
   ]
  },
  {
   "cell_type": "code",
   "execution_count": null,
   "id": "4c112589",
   "metadata": {},
   "outputs": [],
   "source": [
    "scrap('macbook')"
   ]
  },
  {
   "cell_type": "code",
   "execution_count": 156,
   "id": "026263e3",
   "metadata": {},
   "outputs": [],
   "source": [
    "df1 = pd.DataFrame()\n",
    "df1['Review'] = Review\n",
    "df1['Rating'] = Rating"
   ]
  },
  {
   "cell_type": "code",
   "execution_count": 157,
   "id": "3fb90764",
   "metadata": {},
   "outputs": [
    {
     "data": {
      "text/plain": [
       "(1084, 2)"
      ]
     },
     "execution_count": 157,
     "metadata": {},
     "output_type": "execute_result"
    }
   ],
   "source": [
    "df = df.append(df1)\n",
    "df.shape"
   ]
  },
  {
   "cell_type": "code",
   "execution_count": 158,
   "id": "7dd20b7d",
   "metadata": {},
   "outputs": [
    {
     "data": {
      "text/html": [
       "<div><div id=88cd1dd1-1c80-4aa8-b680-40618e2bf849 style=\"display:none; background-color:#9D6CFF; color:white; width:200px; height:30px; padding-left:5px; border-radius:4px; flex-direction:row; justify-content:space-around; align-items:center;\" onmouseover=\"this.style.backgroundColor='#BA9BF8'\" onmouseout=\"this.style.backgroundColor='#9D6CFF'\" onclick=\"window.commands?.execute('create-mitosheet-from-dataframe-output');\">See Full Dataframe in Mito</div> <script> if (window.commands?.hasCommand('create-mitosheet-from-dataframe-output')) document.getElementById('88cd1dd1-1c80-4aa8-b680-40618e2bf849').style.display = 'flex' </script> <table border=\"1\" class=\"dataframe\">\n",
       "  <thead>\n",
       "    <tr style=\"text-align: right;\">\n",
       "      <th></th>\n",
       "      <th>Review</th>\n",
       "      <th>Rating</th>\n",
       "    </tr>\n",
       "  </thead>\n",
       "  <tbody>\n",
       "    <tr>\n",
       "      <th>0</th>\n",
       "      <td>I was confused between asus and lenovo s145 laptop but chose go with this laptop because of build quality.\\n\\nLenovo s145 feels quite flimsy while asus is reinforced with metal plates under the keyboard and in side supports of screen.\\n\\n4gb ram and ryzen 3250u is good for everyday uses and light office work like browsing with5-6 tab oepn in chrome and 2-3 office files and for heavy uses there option to increase ram capacity.\\n\\nSsd read speeds are quite fast 950mb/s and write speed upto 350mb/s th...\\nREAD MORE</td>\n",
       "      <td>5</td>\n",
       "    </tr>\n",
       "    <tr>\n",
       "      <th>1</th>\n",
       "      <td>First I would like to thank flipcart for sending this great product in 3 days .\\nREVIEW -... I BOUGHT IT IN 32K IN BIG BILLION DAYS SALE .\\n1. The looks of this laptop is great and nyc.\\n\\n2. Speed is fantastic running like butter on daily\\nusese remember it is not a gaming laptop so don't try heavy software. I install a android emulator on it and when I open the software I can clearly hear the noise of fan.\\n\\n3. it boot up in 6 second and off in 3 second thanks to nvme SSD remember there...\\nREAD MORE</td>\n",
       "      <td>5</td>\n",
       "    </tr>\n",
       "    <tr>\n",
       "      <th>2</th>\n",
       "      <td>It's an amazing laptop in this prize segment. Because in this prize we get all types of specifications and aspects... Like it having 256GB SSD drive, FHD display, a allround king processor unit everything is fine.i using this laptop till 8days ago... I think this was my right option.\\n\\nProps:---\\n\\n1.FHD Display ---one of the good IPS LCD display with good resolution capacity\\n\\n2.SSD :--- the maximum boot up time will taken approximately 4second to 6 second\\n\\n3.Ryzen 3 3340U :---- all round an exc...\\nREAD MORE</td>\n",
       "      <td>5</td>\n",
       "    </tr>\n",
       "    <tr>\n",
       "      <th>3</th>\n",
       "      <td>The product is realy good and value for money battery life is not up to the mark but its ok in this price range .it is best for online class and study ,you can play small games but not a big game like pubg and gta 5 butin low setting you can play\\n*Packing is also good very genuine packing was there it takes time to reboot for only 5 to 7 seconds\\nIn light usage its to fast for office work and study it is best</td>\n",
       "      <td>5</td>\n",
       "    </tr>\n",
       "    <tr>\n",
       "      <th>4</th>\n",
       "      <td>In this price range it's an amazing laptop. Don't think just go for it.😊\\n1. Bilt quality is good. 4/5\\n2. Performance is amazing. 5/5\\n3. Display is great. 5/5\\n4. Battery is decent. 4/5\\n5. It's an best laptop for students. work and multimedia consumption.😊\\n6. And it's ryzen 3 3250U prosessor is amazing and makes more fast with SSD storage. Loved it😊🔥</td>\n",
       "      <td>5</td>\n",
       "    </tr>\n",
       "    <tr>\n",
       "      <th>...</th>\n",
       "      <td>...</td>\n",
       "      <td>...</td>\n",
       "    </tr>\n",
       "    <tr>\n",
       "      <th>1056</th>\n",
       "      <td>A bit expensive when we compare with today's intel or AMD based windows laptops with rtx 30 graphics . But this apple M1 terms of overall performance . It is far beyond what windows laptops can offer in same segment . 💻💻💻\\n\\nPlease give a like to my comment . Thank you Amazon . 💖💝⭐️🌟🎉🎉💐💐</td>\n",
       "      <td>5.0 out of 5 stars</td>\n",
       "    </tr>\n",
       "    <tr>\n",
       "      <th>1057</th>\n",
       "      <td>I just love the experience. I wanted something new &amp; fast. This product is the best companion for you. Do pick this even if you have to pay a little extra.</td>\n",
       "      <td>5.0 out of 5 stars</td>\n",
       "    </tr>\n",
       "    <tr>\n",
       "      <th>1058</th>\n",
       "      <td>Discounts were worth it. Apple products are a little hyped anyways because of the brand value otherwise it’s worth every rupee</td>\n",
       "      <td>5.0 out of 5 stars</td>\n",
       "    </tr>\n",
       "    <tr>\n",
       "      <th>1059</th>\n",
       "      <td>Giving it 4 star just because screen size could have been 14 atleast.\\nAlso no fast charging is available .</td>\n",
       "      <td>4.0 out of 5 stars</td>\n",
       "    </tr>\n",
       "    <tr>\n",
       "      <th>1060</th>\n",
       "      <td>Most Beautiful and Ausome Product ... So smooth laptop.............. And it's processer is very best and fast laptop .... So Ausome</td>\n",
       "      <td>5.0 out of 5 stars</td>\n",
       "    </tr>\n",
       "  </tbody>\n",
       "</table></div>"
      ],
      "text/plain": [
       "                                                 Review              Rating\n",
       "0     I was confused between asus and lenovo s145 la...                   5\n",
       "1     First I would like to thank flipcart for sendi...                   5\n",
       "2     It's an amazing laptop in this prize segment. ...                   5\n",
       "3     The product is realy good and value for money ...                   5\n",
       "4     In this price range it's an amazing laptop. Do...                   5\n",
       "...                                                 ...                 ...\n",
       "1056  A bit expensive when we compare with today's i...  5.0 out of 5 stars\n",
       "1057  I just love the experience. I wanted something...  5.0 out of 5 stars\n",
       "1058  Discounts were worth it. Apple products are a ...  5.0 out of 5 stars\n",
       "1059  Giving it 4 star just because screen size coul...  4.0 out of 5 stars\n",
       "1060  Most Beautiful and Ausome Product ... So smoot...  5.0 out of 5 stars\n",
       "\n",
       "[1061 rows x 2 columns]"
      ]
     },
     "execution_count": 158,
     "metadata": {},
     "output_type": "execute_result"
    }
   ],
   "source": [
    "df = df.drop_duplicates()\n",
    "df.reset_index(inplace=True)\n",
    "df.drop('index',axis=1,inplace=True)\n",
    "df"
   ]
  },
  {
   "cell_type": "code",
   "execution_count": 31,
   "id": "1e5d6739",
   "metadata": {},
   "outputs": [],
   "source": [
    "df.to_csv('nlp_data_laptop.csv')"
   ]
  },
  {
   "cell_type": "code",
   "execution_count": null,
   "id": "3c732e8c",
   "metadata": {},
   "outputs": [],
   "source": [
    "scrap('HP laptop')"
   ]
  },
  {
   "cell_type": "code",
   "execution_count": 11,
   "id": "7ce2b3b1",
   "metadata": {},
   "outputs": [],
   "source": [
    "df1 = pd.DataFrame()\n",
    "df1['Review'] = Review\n",
    "df1['Rating'] = Rating"
   ]
  },
  {
   "cell_type": "code",
   "execution_count": 12,
   "id": "66ee2717",
   "metadata": {},
   "outputs": [
    {
     "data": {
      "text/plain": [
       "(1510, 2)"
      ]
     },
     "execution_count": 12,
     "metadata": {},
     "output_type": "execute_result"
    }
   ],
   "source": [
    "df = df.append(df1)\n",
    "df.shape"
   ]
  },
  {
   "cell_type": "code",
   "execution_count": 13,
   "id": "b0d9cdf1",
   "metadata": {},
   "outputs": [
    {
     "data": {
      "text/html": [
       "<div><div id=b6644389-4227-4419-94b9-6b5b00891486 style=\"display:none; background-color:#9D6CFF; color:white; width:200px; height:30px; padding-left:5px; border-radius:4px; flex-direction:row; justify-content:space-around; align-items:center;\" onmouseover=\"this.style.backgroundColor='#BA9BF8'\" onmouseout=\"this.style.backgroundColor='#9D6CFF'\" onclick=\"window.commands?.execute('create-mitosheet-from-dataframe-output');\">See Full Dataframe in Mito</div> <script> if (window.commands?.hasCommand('create-mitosheet-from-dataframe-output')) document.getElementById('b6644389-4227-4419-94b9-6b5b00891486').style.display = 'flex' </script> <table border=\"1\" class=\"dataframe\">\n",
       "  <thead>\n",
       "    <tr style=\"text-align: right;\">\n",
       "      <th></th>\n",
       "      <th>Review</th>\n",
       "      <th>Rating</th>\n",
       "    </tr>\n",
       "  </thead>\n",
       "  <tbody>\n",
       "    <tr>\n",
       "      <th>0</th>\n",
       "      <td>I was confused between asus and lenovo s145 laptop but chose go with this laptop because of build quality.\\n\\nLenovo s145 feels quite flimsy while asus is reinforced with metal plates under the keyboard and in side supports of screen.\\n\\n4gb ram and ryzen 3250u is good for everyday uses and light office work like browsing with5-6 tab oepn in chrome and 2-3 office files and for heavy uses there option to increase ram capacity.\\n\\nSsd read speeds are quite fast 950mb/s and write speed upto 350mb/s th...\\nREAD MORE</td>\n",
       "      <td>5</td>\n",
       "    </tr>\n",
       "    <tr>\n",
       "      <th>1</th>\n",
       "      <td>First I would like to thank flipcart for sending this great product in 3 days .\\nREVIEW -... I BOUGHT IT IN 32K IN BIG BILLION DAYS SALE .\\n1. The looks of this laptop is great and nyc.\\n\\n2. Speed is fantastic running like butter on daily\\nusese remember it is not a gaming laptop so don't try heavy software. I install a android emulator on it and when I open the software I can clearly hear the noise of fan.\\n\\n3. it boot up in 6 second and off in 3 second thanks to nvme SSD remember there...\\nREAD MORE</td>\n",
       "      <td>5</td>\n",
       "    </tr>\n",
       "    <tr>\n",
       "      <th>2</th>\n",
       "      <td>It's an amazing laptop in this prize segment. Because in this prize we get all types of specifications and aspects... Like it having 256GB SSD drive, FHD display, a allround king processor unit everything is fine.i using this laptop till 8days ago... I think this was my right option.\\n\\nProps:---\\n\\n1.FHD Display ---one of the good IPS LCD display with good resolution capacity\\n\\n2.SSD :--- the maximum boot up time will taken approximately 4second to 6 second\\n\\n3.Ryzen 3 3340U :---- all round an exc...\\nREAD MORE</td>\n",
       "      <td>5</td>\n",
       "    </tr>\n",
       "    <tr>\n",
       "      <th>3</th>\n",
       "      <td>The product is realy good and value for money battery life is not up to the mark but its ok in this price range .it is best for online class and study ,you can play small games but not a big game like pubg and gta 5 butin low setting you can play\\n*Packing is also good very genuine packing was there it takes time to reboot for only 5 to 7 seconds\\nIn light usage its to fast for office work and study it is best</td>\n",
       "      <td>5</td>\n",
       "    </tr>\n",
       "    <tr>\n",
       "      <th>4</th>\n",
       "      <td>In this price range it's an amazing laptop. Don't think just go for it.😊\\n1. Bilt quality is good. 4/5\\n2. Performance is amazing. 5/5\\n3. Display is great. 5/5\\n4. Battery is decent. 4/5\\n5. It's an best laptop for students. work and multimedia consumption.😊\\n6. And it's ryzen 3 3250U prosessor is amazing and makes more fast with SSD storage. Loved it😊🔥</td>\n",
       "      <td>5</td>\n",
       "    </tr>\n",
       "    <tr>\n",
       "      <th>...</th>\n",
       "      <td>...</td>\n",
       "      <td>...</td>\n",
       "    </tr>\n",
       "    <tr>\n",
       "      <th>1462</th>\n",
       "      <td>worth it for the current price</td>\n",
       "      <td>4.0 out of 5 stars</td>\n",
       "    </tr>\n",
       "    <tr>\n",
       "      <th>1463</th>\n",
       "      <td>Awasome product</td>\n",
       "      <td>5.0 out of 5 stars</td>\n",
       "    </tr>\n",
       "    <tr>\n",
       "      <th>1464</th>\n",
       "      <td>A genuine review, HP India customer service is the worst. Trust me you will repent on service, as they take more than 20 days to respond. Unnecessary diagnostics and delay in part replacement. Go with Dell, Lenevo or any other brands but not HP.</td>\n",
       "      <td>1.0 out of 5 stars</td>\n",
       "    </tr>\n",
       "    <tr>\n",
       "      <th>1465</th>\n",
       "      <td>Nice laptop of HP brand. Quality name itself proves a lot. Every thing is good As such....\\n\\nHopping for the best run</td>\n",
       "      <td>5.0 out of 5 stars</td>\n",
       "    </tr>\n",
       "    <tr>\n",
       "      <th>1466</th>\n",
       "      <td>However,I purchased the product in October and HP support online is showing warranty validity upto August 2022.Its two months less.</td>\n",
       "      <td>5.0 out of 5 stars</td>\n",
       "    </tr>\n",
       "  </tbody>\n",
       "</table></div>"
      ],
      "text/plain": [
       "                                                 Review              Rating\n",
       "0     I was confused between asus and lenovo s145 la...                   5\n",
       "1     First I would like to thank flipcart for sendi...                   5\n",
       "2     It's an amazing laptop in this prize segment. ...                   5\n",
       "3     The product is realy good and value for money ...                   5\n",
       "4     In this price range it's an amazing laptop. Do...                   5\n",
       "...                                                 ...                 ...\n",
       "1462                     worth it for the current price  4.0 out of 5 stars\n",
       "1463                                    Awasome product  5.0 out of 5 stars\n",
       "1464  A genuine review, HP India customer service is...  1.0 out of 5 stars\n",
       "1465  Nice laptop of HP brand. Quality name itself p...  5.0 out of 5 stars\n",
       "1466  However,I purchased the product in October and...  5.0 out of 5 stars\n",
       "\n",
       "[1467 rows x 2 columns]"
      ]
     },
     "execution_count": 13,
     "metadata": {},
     "output_type": "execute_result"
    }
   ],
   "source": [
    "df = df.drop_duplicates()\n",
    "df.reset_index(inplace=True)\n",
    "df.drop('index',axis=1,inplace=True)\n",
    "df"
   ]
  },
  {
   "cell_type": "code",
   "execution_count": null,
   "id": "c6c131b3",
   "metadata": {},
   "outputs": [],
   "source": [
    "scrap('Samsung note')"
   ]
  },
  {
   "cell_type": "code",
   "execution_count": 36,
   "id": "829288af",
   "metadata": {},
   "outputs": [],
   "source": [
    "df1 = pd.DataFrame()\n",
    "df1['Review'] = Review\n",
    "df1['Rating'] = Rating"
   ]
  },
  {
   "cell_type": "code",
   "execution_count": 37,
   "id": "6a1f585c",
   "metadata": {},
   "outputs": [
    {
     "data": {
      "text/plain": [
       "(3062, 2)"
      ]
     },
     "execution_count": 37,
     "metadata": {},
     "output_type": "execute_result"
    }
   ],
   "source": [
    "df = df.append(df1)\n",
    "df.shape"
   ]
  },
  {
   "cell_type": "code",
   "execution_count": 38,
   "id": "f84812bf",
   "metadata": {},
   "outputs": [
    {
     "data": {
      "text/html": [
       "<div><div id=f836a9b7-fb4c-470d-ba42-cd0239a0bfeb style=\"display:none; background-color:#9D6CFF; color:white; width:200px; height:30px; padding-left:5px; border-radius:4px; flex-direction:row; justify-content:space-around; align-items:center;\" onmouseover=\"this.style.backgroundColor='#BA9BF8'\" onmouseout=\"this.style.backgroundColor='#9D6CFF'\" onclick=\"window.commands?.execute('create-mitosheet-from-dataframe-output');\">See Full Dataframe in Mito</div> <script> if (window.commands?.hasCommand('create-mitosheet-from-dataframe-output')) document.getElementById('f836a9b7-fb4c-470d-ba42-cd0239a0bfeb').style.display = 'flex' </script> <table border=\"1\" class=\"dataframe\">\n",
       "  <thead>\n",
       "    <tr style=\"text-align: right;\">\n",
       "      <th></th>\n",
       "      <th>Review</th>\n",
       "      <th>Rating</th>\n",
       "    </tr>\n",
       "  </thead>\n",
       "  <tbody>\n",
       "    <tr>\n",
       "      <th>0</th>\n",
       "      <td>I was confused between asus and lenovo s145 laptop but chose go with this laptop because of build quality.\\n\\nLenovo s145 feels quite flimsy while asus is reinforced with metal plates under the keyboard and in side supports of screen.\\n\\n4gb ram and ryzen 3250u is good for everyday uses and light office work like browsing with5-6 tab oepn in chrome and 2-3 office files and for heavy uses there option to increase ram capacity.\\n\\nSsd read speeds are quite fast 950mb/s and write speed upto 350mb/s th...\\nREAD MORE</td>\n",
       "      <td>5</td>\n",
       "    </tr>\n",
       "    <tr>\n",
       "      <th>1</th>\n",
       "      <td>First I would like to thank flipcart for sending this great product in 3 days .\\nREVIEW -... I BOUGHT IT IN 32K IN BIG BILLION DAYS SALE .\\n1. The looks of this laptop is great and nyc.\\n\\n2. Speed is fantastic running like butter on daily\\nusese remember it is not a gaming laptop so don't try heavy software. I install a android emulator on it and when I open the software I can clearly hear the noise of fan.\\n\\n3. it boot up in 6 second and off in 3 second thanks to nvme SSD remember there...\\nREAD MORE</td>\n",
       "      <td>5</td>\n",
       "    </tr>\n",
       "    <tr>\n",
       "      <th>2</th>\n",
       "      <td>It's an amazing laptop in this prize segment. Because in this prize we get all types of specifications and aspects... Like it having 256GB SSD drive, FHD display, a allround king processor unit everything is fine.i using this laptop till 8days ago... I think this was my right option.\\n\\nProps:---\\n\\n1.FHD Display ---one of the good IPS LCD display with good resolution capacity\\n\\n2.SSD :--- the maximum boot up time will taken approximately 4second to 6 second\\n\\n3.Ryzen 3 3340U :---- all round an exc...\\nREAD MORE</td>\n",
       "      <td>5</td>\n",
       "    </tr>\n",
       "    <tr>\n",
       "      <th>3</th>\n",
       "      <td>The product is realy good and value for money battery life is not up to the mark but its ok in this price range .it is best for online class and study ,you can play small games but not a big game like pubg and gta 5 butin low setting you can play\\n*Packing is also good very genuine packing was there it takes time to reboot for only 5 to 7 seconds\\nIn light usage its to fast for office work and study it is best</td>\n",
       "      <td>5</td>\n",
       "    </tr>\n",
       "    <tr>\n",
       "      <th>4</th>\n",
       "      <td>In this price range it's an amazing laptop. Don't think just go for it.😊\\n1. Bilt quality is good. 4/5\\n2. Performance is amazing. 5/5\\n3. Display is great. 5/5\\n4. Battery is decent. 4/5\\n5. It's an best laptop for students. work and multimedia consumption.😊\\n6. And it's ryzen 3 3250U prosessor is amazing and makes more fast with SSD storage. Loved it😊🔥</td>\n",
       "      <td>5</td>\n",
       "    </tr>\n",
       "    <tr>\n",
       "      <th>...</th>\n",
       "      <td>...</td>\n",
       "      <td>...</td>\n",
       "    </tr>\n",
       "    <tr>\n",
       "      <th>2818</th>\n",
       "      <td>superb</td>\n",
       "      <td>5.0 out of 5 stars</td>\n",
       "    </tr>\n",
       "    <tr>\n",
       "      <th>2819</th>\n",
       "      <td>Awsome</td>\n",
       "      <td>5.0 out of 5 stars</td>\n",
       "    </tr>\n",
       "    <tr>\n",
       "      <th>2820</th>\n",
       "      <td>Like u</td>\n",
       "      <td>5.0 out of 5 stars</td>\n",
       "    </tr>\n",
       "    <tr>\n",
       "      <th>2821</th>\n",
       "      <td>Good😊😊</td>\n",
       "      <td>5.0 out of 5 stars</td>\n",
       "    </tr>\n",
       "    <tr>\n",
       "      <th>2822</th>\n",
       "      <td>Its a worst phone ever i hv seen ... I hv got totally manufacturing defect phone ... Battery not survive even for 3 hrs after fully charged\\nnetwork issues and samsung and amazon both refuses to refund totally worst experience with this deal ...</td>\n",
       "      <td>1.0 out of 5 stars</td>\n",
       "    </tr>\n",
       "  </tbody>\n",
       "</table></div>"
      ],
      "text/plain": [
       "                                                 Review              Rating\n",
       "0     I was confused between asus and lenovo s145 la...                   5\n",
       "1     First I would like to thank flipcart for sendi...                   5\n",
       "2     It's an amazing laptop in this prize segment. ...                   5\n",
       "3     The product is realy good and value for money ...                   5\n",
       "4     In this price range it's an amazing laptop. Do...                   5\n",
       "...                                                 ...                 ...\n",
       "2818                                             superb  5.0 out of 5 stars\n",
       "2819                                             Awsome  5.0 out of 5 stars\n",
       "2820                                             Like u  5.0 out of 5 stars\n",
       "2821                                             Good😊😊  5.0 out of 5 stars\n",
       "2822  Its a worst phone ever i hv seen ... I hv got ...  1.0 out of 5 stars\n",
       "\n",
       "[2823 rows x 2 columns]"
      ]
     },
     "execution_count": 38,
     "metadata": {},
     "output_type": "execute_result"
    }
   ],
   "source": [
    "df = df.drop_duplicates()\n",
    "df.reset_index(inplace=True)\n",
    "df.drop('index',axis=1,inplace=True)\n",
    "df"
   ]
  },
  {
   "cell_type": "code",
   "execution_count": 40,
   "id": "98abccae",
   "metadata": {},
   "outputs": [],
   "source": [
    "df.to_csv('nlp_data_laptop.csv')"
   ]
  },
  {
   "cell_type": "code",
   "execution_count": 4,
   "id": "b3094414",
   "metadata": {},
   "outputs": [
    {
     "data": {
      "text/html": [
       "<div><div id=5d8599af-60f0-4da1-862e-f7968fb7dfa2 style=\"display:none; background-color:#9D6CFF; color:white; width:200px; height:30px; padding-left:5px; border-radius:4px; flex-direction:row; justify-content:space-around; align-items:center;\" onmouseover=\"this.style.backgroundColor='#BA9BF8'\" onmouseout=\"this.style.backgroundColor='#9D6CFF'\" onclick=\"window.commands?.execute('create-mitosheet-from-dataframe-output');\">See Full Dataframe in Mito</div> <script> if (window.commands?.hasCommand('create-mitosheet-from-dataframe-output')) document.getElementById('5d8599af-60f0-4da1-862e-f7968fb7dfa2').style.display = 'flex' </script> <table border=\"1\" class=\"dataframe\">\n",
       "  <thead>\n",
       "    <tr style=\"text-align: right;\">\n",
       "      <th></th>\n",
       "      <th>Review</th>\n",
       "      <th>Rating</th>\n",
       "    </tr>\n",
       "  </thead>\n",
       "  <tbody>\n",
       "    <tr>\n",
       "      <th>0</th>\n",
       "      <td>I was confused between asus and lenovo s145 laptop but chose go with this laptop because of build quality.\\n\\nLenovo s145 feels quite flimsy while asus is reinforced with metal plates under the keyboard and in side supports of screen.\\n\\n4gb ram and ryzen 3250u is good for everyday uses and light office work like browsing with5-6 tab oepn in chrome and 2-3 office files and for heavy uses there option to increase ram capacity.\\n\\nSsd read speeds are quite fast 950mb/s and write speed upto 350mb/s th...\\nREAD MORE</td>\n",
       "      <td>5</td>\n",
       "    </tr>\n",
       "    <tr>\n",
       "      <th>1</th>\n",
       "      <td>First I would like to thank flipcart for sending this great product in 3 days .\\nREVIEW -... I BOUGHT IT IN 32K IN BIG BILLION DAYS SALE .\\n1. The looks of this laptop is great and nyc.\\n\\n2. Speed is fantastic running like butter on daily\\nusese remember it is not a gaming laptop so don't try heavy software. I install a android emulator on it and when I open the software I can clearly hear the noise of fan.\\n\\n3. it boot up in 6 second and off in 3 second thanks to nvme SSD remember there...\\nREAD MORE</td>\n",
       "      <td>5</td>\n",
       "    </tr>\n",
       "    <tr>\n",
       "      <th>2</th>\n",
       "      <td>It's an amazing laptop in this prize segment. Because in this prize we get all types of specifications and aspects... Like it having 256GB SSD drive, FHD display, a allround king processor unit everything is fine.i using this laptop till 8days ago... I think this was my right option.\\n\\nProps:---\\n\\n1.FHD Display ---one of the good IPS LCD display with good resolution capacity\\n\\n2.SSD :--- the maximum boot up time will taken approximately 4second to 6 second\\n\\n3.Ryzen 3 3340U :---- all round an exc...\\nREAD MORE</td>\n",
       "      <td>5</td>\n",
       "    </tr>\n",
       "    <tr>\n",
       "      <th>3</th>\n",
       "      <td>The product is realy good and value for money battery life is not up to the mark but its ok in this price range .it is best for online class and study ,you can play small games but not a big game like pubg and gta 5 butin low setting you can play\\n*Packing is also good very genuine packing was there it takes time to reboot for only 5 to 7 seconds\\nIn light usage its to fast for office work and study it is best</td>\n",
       "      <td>5</td>\n",
       "    </tr>\n",
       "    <tr>\n",
       "      <th>4</th>\n",
       "      <td>In this price range it's an amazing laptop. Don't think just go for it.😊\\n1. Bilt quality is good. 4/5\\n2. Performance is amazing. 5/5\\n3. Display is great. 5/5\\n4. Battery is decent. 4/5\\n5. It's an best laptop for students. work and multimedia consumption.😊\\n6. And it's ryzen 3 3250U prosessor is amazing and makes more fast with SSD storage. Loved it😊🔥</td>\n",
       "      <td>5</td>\n",
       "    </tr>\n",
       "    <tr>\n",
       "      <th>...</th>\n",
       "      <td>...</td>\n",
       "      <td>...</td>\n",
       "    </tr>\n",
       "    <tr>\n",
       "      <th>2818</th>\n",
       "      <td>superb</td>\n",
       "      <td>5.0 out of 5 stars</td>\n",
       "    </tr>\n",
       "    <tr>\n",
       "      <th>2819</th>\n",
       "      <td>Awsome</td>\n",
       "      <td>5.0 out of 5 stars</td>\n",
       "    </tr>\n",
       "    <tr>\n",
       "      <th>2820</th>\n",
       "      <td>Like u</td>\n",
       "      <td>5.0 out of 5 stars</td>\n",
       "    </tr>\n",
       "    <tr>\n",
       "      <th>2821</th>\n",
       "      <td>Good😊😊</td>\n",
       "      <td>5.0 out of 5 stars</td>\n",
       "    </tr>\n",
       "    <tr>\n",
       "      <th>2822</th>\n",
       "      <td>Its a worst phone ever i hv seen ... I hv got totally manufacturing defect phone ... Battery not survive even for 3 hrs after fully charged\\nnetwork issues and samsung and amazon both refuses to refund totally worst experience with this deal ...</td>\n",
       "      <td>1.0 out of 5 stars</td>\n",
       "    </tr>\n",
       "  </tbody>\n",
       "</table></div>"
      ],
      "text/plain": [
       "                                                 Review              Rating\n",
       "0     I was confused between asus and lenovo s145 la...                   5\n",
       "1     First I would like to thank flipcart for sendi...                   5\n",
       "2     It's an amazing laptop in this prize segment. ...                   5\n",
       "3     The product is realy good and value for money ...                   5\n",
       "4     In this price range it's an amazing laptop. Do...                   5\n",
       "...                                                 ...                 ...\n",
       "2818                                             superb  5.0 out of 5 stars\n",
       "2819                                             Awsome  5.0 out of 5 stars\n",
       "2820                                             Like u  5.0 out of 5 stars\n",
       "2821                                             Good😊😊  5.0 out of 5 stars\n",
       "2822  Its a worst phone ever i hv seen ... I hv got ...  1.0 out of 5 stars\n",
       "\n",
       "[2823 rows x 2 columns]"
      ]
     },
     "execution_count": 4,
     "metadata": {},
     "output_type": "execute_result"
    }
   ],
   "source": [
    "df"
   ]
  },
  {
   "cell_type": "code",
   "execution_count": null,
   "id": "d5e99c55",
   "metadata": {},
   "outputs": [],
   "source": [
    "scrap('Home Theatre')"
   ]
  },
  {
   "cell_type": "code",
   "execution_count": 38,
   "id": "02b54f84",
   "metadata": {},
   "outputs": [],
   "source": [
    "df1 = pd.DataFrame()\n",
    "df1['Review'] = Review\n",
    "df1['Rating'] = Rating"
   ]
  },
  {
   "cell_type": "code",
   "execution_count": 39,
   "id": "11920947",
   "metadata": {},
   "outputs": [
    {
     "data": {
      "text/plain": [
       "(4373, 2)"
      ]
     },
     "execution_count": 39,
     "metadata": {},
     "output_type": "execute_result"
    }
   ],
   "source": [
    "df = df.append(df1)\n",
    "df.shape"
   ]
  },
  {
   "cell_type": "code",
   "execution_count": 40,
   "id": "d0ee1e06",
   "metadata": {},
   "outputs": [
    {
     "data": {
      "text/html": [
       "<div><div id=9deb074c-36aa-4bf6-bb41-1e2aaa24851b style=\"display:none; background-color:#9D6CFF; color:white; width:200px; height:30px; padding-left:5px; border-radius:4px; flex-direction:row; justify-content:space-around; align-items:center;\" onmouseover=\"this.style.backgroundColor='#BA9BF8'\" onmouseout=\"this.style.backgroundColor='#9D6CFF'\" onclick=\"window.commands?.execute('create-mitosheet-from-dataframe-output');\">See Full Dataframe in Mito</div> <script> if (window.commands?.hasCommand('create-mitosheet-from-dataframe-output')) document.getElementById('9deb074c-36aa-4bf6-bb41-1e2aaa24851b').style.display = 'flex' </script> <table border=\"1\" class=\"dataframe\">\n",
       "  <thead>\n",
       "    <tr style=\"text-align: right;\">\n",
       "      <th></th>\n",
       "      <th>Review</th>\n",
       "      <th>Rating</th>\n",
       "    </tr>\n",
       "  </thead>\n",
       "  <tbody>\n",
       "    <tr>\n",
       "      <th>0</th>\n",
       "      <td>I was confused between asus and lenovo s145 laptop but chose go with this laptop because of build quality.\\n\\nLenovo s145 feels quite flimsy while asus is reinforced with metal plates under the keyboard and in side supports of screen.\\n\\n4gb ram and ryzen 3250u is good for everyday uses and light office work like browsing with5-6 tab oepn in chrome and 2-3 office files and for heavy uses there option to increase ram capacity.\\n\\nSsd read speeds are quite fast 950mb/s and write speed upto 350mb/s th...\\nREAD MORE</td>\n",
       "      <td>5</td>\n",
       "    </tr>\n",
       "    <tr>\n",
       "      <th>1</th>\n",
       "      <td>First I would like to thank flipcart for sending this great product in 3 days .\\nREVIEW -... I BOUGHT IT IN 32K IN BIG BILLION DAYS SALE .\\n1. The looks of this laptop is great and nyc.\\n\\n2. Speed is fantastic running like butter on daily\\nusese remember it is not a gaming laptop so don't try heavy software. I install a android emulator on it and when I open the software I can clearly hear the noise of fan.\\n\\n3. it boot up in 6 second and off in 3 second thanks to nvme SSD remember there...\\nREAD MORE</td>\n",
       "      <td>5</td>\n",
       "    </tr>\n",
       "    <tr>\n",
       "      <th>2</th>\n",
       "      <td>It's an amazing laptop in this prize segment. Because in this prize we get all types of specifications and aspects... Like it having 256GB SSD drive, FHD display, a allround king processor unit everything is fine.i using this laptop till 8days ago... I think this was my right option.\\n\\nProps:---\\n\\n1.FHD Display ---one of the good IPS LCD display with good resolution capacity\\n\\n2.SSD :--- the maximum boot up time will taken approximately 4second to 6 second\\n\\n3.Ryzen 3 3340U :---- all round an exc...\\nREAD MORE</td>\n",
       "      <td>5</td>\n",
       "    </tr>\n",
       "    <tr>\n",
       "      <th>3</th>\n",
       "      <td>The product is realy good and value for money battery life is not up to the mark but its ok in this price range .it is best for online class and study ,you can play small games but not a big game like pubg and gta 5 butin low setting you can play\\n*Packing is also good very genuine packing was there it takes time to reboot for only 5 to 7 seconds\\nIn light usage its to fast for office work and study it is best</td>\n",
       "      <td>5</td>\n",
       "    </tr>\n",
       "    <tr>\n",
       "      <th>4</th>\n",
       "      <td>In this price range it's an amazing laptop. Don't think just go for it.😊\\n1. Bilt quality is good. 4/5\\n2. Performance is amazing. 5/5\\n3. Display is great. 5/5\\n4. Battery is decent. 4/5\\n5. It's an best laptop for students. work and multimedia consumption.😊\\n6. And it's ryzen 3 3250U prosessor is amazing and makes more fast with SSD storage. Loved it😊🔥</td>\n",
       "      <td>5</td>\n",
       "    </tr>\n",
       "    <tr>\n",
       "      <th>...</th>\n",
       "      <td>...</td>\n",
       "      <td>...</td>\n",
       "    </tr>\n",
       "    <tr>\n",
       "      <th>4233</th>\n",
       "      <td>Value 4 money.really a nice product!!!</td>\n",
       "      <td>5.0 out of 5 stars</td>\n",
       "    </tr>\n",
       "    <tr>\n",
       "      <th>4234</th>\n",
       "      <td>Sound quality is good</td>\n",
       "      <td>4.0 out of 5 stars</td>\n",
       "    </tr>\n",
       "    <tr>\n",
       "      <th>4235</th>\n",
       "      <td>Best one at this price</td>\n",
       "      <td>5.0 out of 5 stars</td>\n",
       "    </tr>\n",
       "    <tr>\n",
       "      <th>4236</th>\n",
       "      <td>Sound is slow not expected</td>\n",
       "      <td>1.0 out of 5 stars</td>\n",
       "    </tr>\n",
       "    <tr>\n",
       "      <th>4237</th>\n",
       "      <td>Waste of money</td>\n",
       "      <td>2.0 out of 5 stars</td>\n",
       "    </tr>\n",
       "  </tbody>\n",
       "</table></div>"
      ],
      "text/plain": [
       "                                                 Review              Rating\n",
       "0     I was confused between asus and lenovo s145 la...                   5\n",
       "1     First I would like to thank flipcart for sendi...                   5\n",
       "2     It's an amazing laptop in this prize segment. ...                   5\n",
       "3     The product is realy good and value for money ...                   5\n",
       "4     In this price range it's an amazing laptop. Do...                   5\n",
       "...                                                 ...                 ...\n",
       "4233             Value 4 money.really a nice product!!!  5.0 out of 5 stars\n",
       "4234                              Sound quality is good  4.0 out of 5 stars\n",
       "4235                             Best one at this price  5.0 out of 5 stars\n",
       "4236                         Sound is slow not expected  1.0 out of 5 stars\n",
       "4237                                     Waste of money  2.0 out of 5 stars\n",
       "\n",
       "[4238 rows x 2 columns]"
      ]
     },
     "execution_count": 40,
     "metadata": {},
     "output_type": "execute_result"
    }
   ],
   "source": [
    "df = df.drop_duplicates()\n",
    "df.reset_index(inplace=True)\n",
    "df.drop('index',axis=1,inplace=True)\n",
    "df"
   ]
  },
  {
   "cell_type": "code",
   "execution_count": 59,
   "id": "e6e94e32",
   "metadata": {},
   "outputs": [],
   "source": [
    "df.to_csv('nlp_data_laptop.csv')"
   ]
  },
  {
   "cell_type": "code",
   "execution_count": null,
   "id": "949d19c7",
   "metadata": {
    "scrolled": true
   },
   "outputs": [],
   "source": [
    "scrap('Home Theatre')"
   ]
  },
  {
   "cell_type": "code",
   "execution_count": 57,
   "id": "12a11533",
   "metadata": {},
   "outputs": [
    {
     "data": {
      "text/plain": [
       "(6142, 2)"
      ]
     },
     "execution_count": 57,
     "metadata": {},
     "output_type": "execute_result"
    }
   ],
   "source": [
    "df1 = pd.DataFrame()\n",
    "df1['Review'] = Review\n",
    "df1['Rating'] = Rating\n",
    "df = df.append(df1)\n",
    "df.shape"
   ]
  },
  {
   "cell_type": "code",
   "execution_count": 58,
   "id": "aeb50a77",
   "metadata": {},
   "outputs": [
    {
     "data": {
      "text/html": [
       "<div><div id=26e75f05-94f3-43a0-8f6c-6be3fc5ff5d9 style=\"display:none; background-color:#9D6CFF; color:white; width:200px; height:30px; padding-left:5px; border-radius:4px; flex-direction:row; justify-content:space-around; align-items:center;\" onmouseover=\"this.style.backgroundColor='#BA9BF8'\" onmouseout=\"this.style.backgroundColor='#9D6CFF'\" onclick=\"window.commands?.execute('create-mitosheet-from-dataframe-output');\">See Full Dataframe in Mito</div> <script> if (window.commands?.hasCommand('create-mitosheet-from-dataframe-output')) document.getElementById('26e75f05-94f3-43a0-8f6c-6be3fc5ff5d9').style.display = 'flex' </script> <table border=\"1\" class=\"dataframe\">\n",
       "  <thead>\n",
       "    <tr style=\"text-align: right;\">\n",
       "      <th></th>\n",
       "      <th>Review</th>\n",
       "      <th>Rating</th>\n",
       "    </tr>\n",
       "  </thead>\n",
       "  <tbody>\n",
       "    <tr>\n",
       "      <th>0</th>\n",
       "      <td>I was confused between asus and lenovo s145 laptop but chose go with this laptop because of build quality.\\n\\nLenovo s145 feels quite flimsy while asus is reinforced with metal plates under the keyboard and in side supports of screen.\\n\\n4gb ram and ryzen 3250u is good for everyday uses and light office work like browsing with5-6 tab oepn in chrome and 2-3 office files and for heavy uses there option to increase ram capacity.\\n\\nSsd read speeds are quite fast 950mb/s and write speed upto 350mb/s th...\\nREAD MORE</td>\n",
       "      <td>5</td>\n",
       "    </tr>\n",
       "    <tr>\n",
       "      <th>1</th>\n",
       "      <td>First I would like to thank flipcart for sending this great product in 3 days .\\nREVIEW -... I BOUGHT IT IN 32K IN BIG BILLION DAYS SALE .\\n1. The looks of this laptop is great and nyc.\\n\\n2. Speed is fantastic running like butter on daily\\nusese remember it is not a gaming laptop so don't try heavy software. I install a android emulator on it and when I open the software I can clearly hear the noise of fan.\\n\\n3. it boot up in 6 second and off in 3 second thanks to nvme SSD remember there...\\nREAD MORE</td>\n",
       "      <td>5</td>\n",
       "    </tr>\n",
       "    <tr>\n",
       "      <th>2</th>\n",
       "      <td>It's an amazing laptop in this prize segment. Because in this prize we get all types of specifications and aspects... Like it having 256GB SSD drive, FHD display, a allround king processor unit everything is fine.i using this laptop till 8days ago... I think this was my right option.\\n\\nProps:---\\n\\n1.FHD Display ---one of the good IPS LCD display with good resolution capacity\\n\\n2.SSD :--- the maximum boot up time will taken approximately 4second to 6 second\\n\\n3.Ryzen 3 3340U :---- all round an exc...\\nREAD MORE</td>\n",
       "      <td>5</td>\n",
       "    </tr>\n",
       "    <tr>\n",
       "      <th>3</th>\n",
       "      <td>The product is realy good and value for money battery life is not up to the mark but its ok in this price range .it is best for online class and study ,you can play small games but not a big game like pubg and gta 5 butin low setting you can play\\n*Packing is also good very genuine packing was there it takes time to reboot for only 5 to 7 seconds\\nIn light usage its to fast for office work and study it is best</td>\n",
       "      <td>5</td>\n",
       "    </tr>\n",
       "    <tr>\n",
       "      <th>4</th>\n",
       "      <td>In this price range it's an amazing laptop. Don't think just go for it.😊\\n1. Bilt quality is good. 4/5\\n2. Performance is amazing. 5/5\\n3. Display is great. 5/5\\n4. Battery is decent. 4/5\\n5. It's an best laptop for students. work and multimedia consumption.😊\\n6. And it's ryzen 3 3250U prosessor is amazing and makes more fast with SSD storage. Loved it😊🔥</td>\n",
       "      <td>5</td>\n",
       "    </tr>\n",
       "    <tr>\n",
       "      <th>...</th>\n",
       "      <td>...</td>\n",
       "      <td>...</td>\n",
       "    </tr>\n",
       "    <tr>\n",
       "      <th>6063</th>\n",
       "      <td>Superb value for money for around rs 2500 i think. Connect with bluetooth for good sound quality...and avoid wires. Only issue u need the remote...it doesnt have any buttons on it.</td>\n",
       "      <td>4.0 out of 5 stars</td>\n",
       "    </tr>\n",
       "    <tr>\n",
       "      <th>6064</th>\n",
       "      <td>Really good product for this price range. Sound quality is good. Remote easy to handle, all modes Working properly, last need to improve bluetooth connectivity. Overall is good to buy.</td>\n",
       "      <td>4.0 out of 5 stars</td>\n",
       "    </tr>\n",
       "    <tr>\n",
       "      <th>6065</th>\n",
       "      <td>first order received without remote and Power adapter...same returned and reorder same wiht Customer support...\\nproduct is good</td>\n",
       "      <td>4.0 out of 5 stars</td>\n",
       "    </tr>\n",
       "    <tr>\n",
       "      <th>6066</th>\n",
       "      <td>Not expected range without subwoofer it's was waste and I prefers better to get 120w,160w, are otherwise select 60w only .for advice</td>\n",
       "      <td>4.0 out of 5 stars</td>\n",
       "    </tr>\n",
       "    <tr>\n",
       "      <th>6067</th>\n",
       "      <td>The sound is nice but the quality of sound is not so good. I used many boAt products the sound quality not as expected. The bass is low. But better when compared to other sound bar.</td>\n",
       "      <td>4.0 out of 5 stars</td>\n",
       "    </tr>\n",
       "  </tbody>\n",
       "</table></div>"
      ],
      "text/plain": [
       "                                                 Review              Rating\n",
       "0     I was confused between asus and lenovo s145 la...                   5\n",
       "1     First I would like to thank flipcart for sendi...                   5\n",
       "2     It's an amazing laptop in this prize segment. ...                   5\n",
       "3     The product is realy good and value for money ...                   5\n",
       "4     In this price range it's an amazing laptop. Do...                   5\n",
       "...                                                 ...                 ...\n",
       "6063  Superb value for money for around rs 2500 i th...  4.0 out of 5 stars\n",
       "6064  Really good product for this price range. Soun...  4.0 out of 5 stars\n",
       "6065  first order received without remote and Power ...  4.0 out of 5 stars\n",
       "6066   Not expected range without subwoofer it's was...  4.0 out of 5 stars\n",
       "6067  The sound is nice but the quality of sound is ...  4.0 out of 5 stars\n",
       "\n",
       "[6068 rows x 2 columns]"
      ]
     },
     "execution_count": 58,
     "metadata": {},
     "output_type": "execute_result"
    }
   ],
   "source": [
    "df = df.drop_duplicates()\n",
    "df.reset_index(inplace=True)\n",
    "df.drop('index',axis=1,inplace=True)\n",
    "df"
   ]
  },
  {
   "cell_type": "code",
   "execution_count": null,
   "id": "8e32ea4c",
   "metadata": {
    "scrolled": true
   },
   "outputs": [],
   "source": [
    "scrap('Home Theatre')"
   ]
  },
  {
   "cell_type": "code",
   "execution_count": 70,
   "id": "4395e658",
   "metadata": {},
   "outputs": [
    {
     "data": {
      "text/plain": [
       "(8387, 2)"
      ]
     },
     "execution_count": 70,
     "metadata": {},
     "output_type": "execute_result"
    }
   ],
   "source": [
    "df1 = pd.DataFrame()\n",
    "df1['Review'] = Review\n",
    "df1['Rating'] = Rating\n",
    "df = df.append(df1)\n",
    "df.shape"
   ]
  },
  {
   "cell_type": "code",
   "execution_count": 71,
   "id": "af7ae1a6",
   "metadata": {},
   "outputs": [
    {
     "data": {
      "text/html": [
       "<div><div id=fe7f97d9-fac7-46be-ba5a-c41b436242e7 style=\"display:none; background-color:#9D6CFF; color:white; width:200px; height:30px; padding-left:5px; border-radius:4px; flex-direction:row; justify-content:space-around; align-items:center;\" onmouseover=\"this.style.backgroundColor='#BA9BF8'\" onmouseout=\"this.style.backgroundColor='#9D6CFF'\" onclick=\"window.commands?.execute('create-mitosheet-from-dataframe-output');\">See Full Dataframe in Mito</div> <script> if (window.commands?.hasCommand('create-mitosheet-from-dataframe-output')) document.getElementById('fe7f97d9-fac7-46be-ba5a-c41b436242e7').style.display = 'flex' </script> <table border=\"1\" class=\"dataframe\">\n",
       "  <thead>\n",
       "    <tr style=\"text-align: right;\">\n",
       "      <th></th>\n",
       "      <th>Review</th>\n",
       "      <th>Rating</th>\n",
       "    </tr>\n",
       "  </thead>\n",
       "  <tbody>\n",
       "    <tr>\n",
       "      <th>7508</th>\n",
       "      <td>Yes</td>\n",
       "      <td>4.0 out of 5 stars</td>\n",
       "    </tr>\n",
       "    <tr>\n",
       "      <th>7509</th>\n",
       "      <td>You should go for it</td>\n",
       "      <td>4.0 out of 5 stars</td>\n",
       "    </tr>\n",
       "  </tbody>\n",
       "</table></div>"
      ],
      "text/plain": [
       "                    Review              Rating\n",
       "7508                   Yes  4.0 out of 5 stars\n",
       "7509  You should go for it  4.0 out of 5 stars"
      ]
     },
     "execution_count": 71,
     "metadata": {},
     "output_type": "execute_result"
    }
   ],
   "source": [
    "df = df.drop_duplicates()\n",
    "df.reset_index(inplace=True)\n",
    "df.drop('index',axis=1,inplace=True)\n",
    "df.tail(2)"
   ]
  },
  {
   "cell_type": "code",
   "execution_count": 75,
   "id": "00468373",
   "metadata": {},
   "outputs": [],
   "source": [
    "df.to_csv('nlp_data_laptop.csv')"
   ]
  }
 ],
 "metadata": {
  "kernelspec": {
   "display_name": "Python 3 (ipykernel)",
   "language": "python",
   "name": "python3"
  },
  "language_info": {
   "codemirror_mode": {
    "name": "ipython",
    "version": 3
   },
   "file_extension": ".py",
   "mimetype": "text/x-python",
   "name": "python",
   "nbconvert_exporter": "python",
   "pygments_lexer": "ipython3",
   "version": "3.9.7"
  }
 },
 "nbformat": 4,
 "nbformat_minor": 5
}
