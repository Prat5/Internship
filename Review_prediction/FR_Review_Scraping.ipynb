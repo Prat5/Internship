{
 "cells": [
  {
   "cell_type": "code",
   "execution_count": 1,
   "id": "2b7b4c49",
   "metadata": {},
   "outputs": [],
   "source": [
    "import time\n",
    "from selenium import webdriver\n",
    "from selenium.webdriver.common.keys import Keys\n",
    "from selenium.webdriver.common.by import By\n",
    "import pandas as pd\n",
    "import warnings\n",
    "warnings.filterwarnings('ignore')\n",
    "from selenium.common.exceptions import NoSuchElementException,WebDriverException,ElementClickInterceptedException,ElementNotInteractableException,StaleElementReferenceException\n",
    "from selenium.webdriver.chrome.options import Options"
   ]
  },
  {
   "cell_type": "code",
   "execution_count": null,
   "id": "8e424b9b",
   "metadata": {},
   "outputs": [],
   "source": [
    "Review = []\n",
    "Rating = []\n",
    "def scrap(item):\n",
    "    option = Options()\n",
    "    option.add_argument('--disable-notifications')\n",
    "    PATH = 'C:\\Program Files (x86)\\chromedriver.exe'\n",
    "    driver = webdriver.Chrome(PATH,chrome_options=option)\n",
    "    driver.maximize_window()\n",
    "    try:\n",
    "        driver.get('https://www.amazon.in/')\n",
    "    except:\n",
    "        driver.refresh()\n",
    "        driver.get('https://www.amazon.in/')\n",
    "    time.sleep(0.5)\n",
    "    driver.find_element_by_xpath('/html/body/div[1]/header/div/div[1]/div[2]/div/form/div[2]/div[1]/input').send_keys(item)\n",
    "    time.sleep(2)\n",
    "    driver.find_element_by_xpath('/html/body/div[1]/header/div/div[1]/div[2]/div/form/div[3]/div/span/input').click()\n",
    "    driver.implicitly_wait(2)\n",
    "    try:\n",
    "        driver.find_element_by_xpath('/html/body/div[1]/div[2]/div[1]/div[2]/div/div[3]/span/div/div/div/div[3]/ul/li[1]/span/a/section').click()\n",
    "    \n",
    "    except:\n",
    "        pass\n",
    "    driver.implicitly_wait(1)\n",
    "    \n",
    "    try:\n",
    "        driver.find_element_by_xpath('/html/body/div[1]/div[2]/div[1]/div[1]/div/span[3]/div[2]/div[18]/div/div/div/div/div/div/div/div[2]/div/div/div[2]/div/span[2]/a/span').click()\n",
    "    except:\n",
    "        driver.find_element_by_xpath('/html/body/div[1]/div[2]/div[1]/div[1]/div/span[3]/div[2]/div[18]/div/div/div/div/div/div[2]/div/div/div[2]/div/span[2]/a/span').click()\n",
    "    driver.switch_to.window(driver.window_handles[1])\n",
    "    time.sleep(1)\n",
    "    for i in range(1,5):\n",
    "        driver.execute_script(\"window.scrollTo(0, window.scrollY + 1000)\")\n",
    "    driver.find_element_by_xpath('/html/body/div[2]/div[2]/div[5]/div[39]/div/div/div[2]/div/div[2]/span[2]/div/div/div[5]/div[2]/a').click()\n",
    "    for review in range(1,11):\n",
    "        try:\n",
    "            ratings = driver.find_elements_by_xpath(f'/html/body/div[1]/div[3]/div/div[1]/div/div[1]/div[5]/div[3]/div/div[{str(review)}]/div/div/div[2]/a[1]')\n",
    "            for i in ratings:\n",
    "                f = i.get_attribute('title')\n",
    "                Rating.append(f)\n",
    "        except:\n",
    "            Rating.append('-')\n",
    "\n",
    "        try:\n",
    "            comment = driver.find_element_by_xpath(f'/html/body/div[1]/div[3]/div/div[1]/div/div[1]/div[5]/div[3]/div/div[{str(review)}]/div/div/div[4]/span/span')\n",
    "            Review.append(comment.text)\n",
    "\n",
    "        except NoSuchElementException:\n",
    "            Review.append(\"-\")\n",
    "    next_page = driver.find_element_by_xpath('/html/body/div[1]/div[3]/div/div[1]/div/div[1]/div[5]/div[3]/div/div[11]/span/div/ul/li[2]/a')\n",
    "    next_page.click()\n",
    "    for page in range(1,200):\n",
    "        for review in range(2,12):\n",
    "            try:                                          \n",
    "                ratings = driver.find_elements_by_xpath(f'/html/body/div[1]/div[3]/div/div[1]/div/div[1]/div[5]/div[3]/div/div[{str(review)}]/div/div/div[2]/a[1]')\n",
    "                for i in ratings:\n",
    "                    f = i.get_attribute('title')\n",
    "                    Rating.append(f)\n",
    "            except:\n",
    "                Rating.append('-')\n",
    "            try:    \n",
    "                comment = driver.find_element_by_xpath(f'/html/body/div[1]/div[3]/div/div[1]/div/div[1]/div[5]/div[3]/div/div[{str(review)}]/div/div/div[4]/span/span')\n",
    "                Review.append(comment.text)              \n",
    "            except:\n",
    "                Review.append('-')\n",
    "            time.sleep(0.5)\n",
    "        try:\n",
    "            next_page = driver.find_element_by_xpath('/html/body/div[1]/div[3]/div/div[1]/div/div[1]/div[5]/div[3]/div/div[11]/span/div/ul/li[2]/a')\n",
    "            next_page.click()\n",
    "            driver.implicitly_wait(1)\n",
    "            driver.refresh()\n",
    "        except:\n",
    "            time.sleep(5)\n",
    "            next_page = driver.find_element_by_xpath('/html/body/div[1]/div[3]/div/div[1]/div/div[1]/div[5]/div[3]/div/div[12]/span/div/ul/li[2]/a')\n",
    "            next_page.click()"
   ]
  },
  {
   "cell_type": "code",
   "execution_count": null,
   "id": "8a991808",
   "metadata": {},
   "outputs": [],
   "source": [
    "scrap('Mobile Phone')"
   ]
  },
  {
   "cell_type": "code",
   "execution_count": 21,
   "id": "98d7cf4d",
   "metadata": {},
   "outputs": [
    {
     "data": {
      "text/html": [
       "<div><div id=c6727370-9d01-4117-9bd5-fb6a23bbc92c style=\"display:none; background-color:#9D6CFF; color:white; width:200px; height:30px; padding-left:5px; border-radius:4px; flex-direction:row; justify-content:space-around; align-items:center;\" onmouseover=\"this.style.backgroundColor='#BA9BF8'\" onmouseout=\"this.style.backgroundColor='#9D6CFF'\" onclick=\"window.commands?.execute('create-mitosheet-from-dataframe-output');\">See Full Dataframe in Mito</div> <script> if (window.commands?.hasCommand('create-mitosheet-from-dataframe-output')) document.getElementById('c6727370-9d01-4117-9bd5-fb6a23bbc92c').style.display = 'flex' </script> <table border=\"1\" class=\"dataframe\">\n",
       "  <thead>\n",
       "    <tr style=\"text-align: right;\">\n",
       "      <th></th>\n",
       "      <th>Review</th>\n",
       "      <th>Rating</th>\n",
       "    </tr>\n",
       "  </thead>\n",
       "  <tbody>\n",
       "    <tr>\n",
       "      <th>0</th>\n",
       "      <td>Hang problem</td>\n",
       "      <td>1.0 out of 5 stars</td>\n",
       "    </tr>\n",
       "    <tr>\n",
       "      <th>1</th>\n",
       "      <td>I'm writing this review after using 3days !!!\\n\\nBe to honest this is normal Android phone\\n\\nIt's not like OnePlus\\n\\nCamera quality very low it says 64mp but not\\n\\nSound also low\\n\\nBattery 🔋 backup ok !!! For one day normal use its\\n\\nIf ur Gamer don't go for it\\n\\nOverall price it High for this handset\\n\\nIf u really wanna buy OnePlus ho for higher end model\\n\\nI'm first time buying OnePlus\\n\\nLittle disappointment</td>\n",
       "      <td>2.0 out of 5 stars</td>\n",
       "    </tr>\n",
       "    <tr>\n",
       "      <th>2</th>\n",
       "      <td>Camera is so good n very fast phone back look is awesome\\nWith dis price segment it's worth it n d most important thing is the phone has dedicated memory card slot I think dis is the first one plus phone which has d dedicated slot for memory card\\nBattery backup is also good n wit the help of 65w charger u can charge ur phone frm 50-100% in just 15 mins\\nIt has the super vooc charger frm Dat u can charge ur phone very fast\\nVery smooth touch n very fast phone u can play games with no lag\\nInternet connectivity is also fast n lightning wit my Jio sim as u can c I hav pasted one photo showing d downloading speed of 11mbps wit my cellular network\\nI think everyone who wants to buy dis phone just go for it\\nI think oneplus launched dis phone with lots of good features n d most important thing is price is very less\\nI recommend\\nJust go for it\\nThank u oneplus n Amazon for dis wonderful product</td>\n",
       "      <td>5.0 out of 5 stars</td>\n",
       "    </tr>\n",
       "    <tr>\n",
       "      <th>3</th>\n",
       "      <td>It’s A average product decent for day to day activity.. one the thing I would like to mention that exchange was Far Far alot Good On amazon it was like 2 to 3 minutes and delivery agent was very Good with me although I had 2 scratches on it but he neglected it as it was minor scratches and I exchanged poco m2 pro 6 64gb variant which was exchanged for rupees 10100. I bought it at 12499 1 and Half year ago and sold it at at very good price!! So plus point To amazon\\nComing Back to device I would say it’s a ok device camera is average performance is Fine one plus is losing it’s originality oxygen os to color or..\\nWARP CHARGER TO VOOC CHARGER!! yes it has been taken by oppo!! I wish the way we believed in one plus doesn’t change with it as A one plus Fan We don’t want To merge with Other brands please keep your Originality Maintained!! thanx amazon for such a hasselfree exchange alot better than FLIPKART</td>\n",
       "      <td>3.0 out of 5 stars</td>\n",
       "    </tr>\n",
       "    <tr>\n",
       "      <th>4</th>\n",
       "      <td>1. Handy and light weight\\n2. Excellent voice clarity\\n3. Signal reception is very good compared with OP 9RT and OP 10R\\n4. Easy to use in one hand\\n5. Able to take calls through MS Teams, Google Meet and Slack without any issues\\n6. No heating issues\\n7. Charging speed is awesome for this price range\\n8. Wifi calling is very good, tried with Jio\\n9. Battery backup is superb, easily crossing more than a day. SOT is solid 7+ HRS\\n10. Camera is the one and only drawback in this phone which is average!</td>\n",
       "      <td>5.0 out of 5 stars</td>\n",
       "    </tr>\n",
       "    <tr>\n",
       "      <th>...</th>\n",
       "      <td>...</td>\n",
       "      <td>...</td>\n",
       "    </tr>\n",
       "    <tr>\n",
       "      <th>1075</th>\n",
       "      <td>Camera just amazing...... overall good phone</td>\n",
       "      <td>5.0 out of 5 stars</td>\n",
       "    </tr>\n",
       "    <tr>\n",
       "      <th>1076</th>\n",
       "      <td>finger print is best in class.\\nbattery life is good in class .\\ncamera best in class</td>\n",
       "      <td>5.0 out of 5 stars</td>\n",
       "    </tr>\n",
       "    <tr>\n",
       "      <th>1077</th>\n",
       "      <td>-</td>\n",
       "      <td>3.0 out of 5 stars</td>\n",
       "    </tr>\n",
       "    <tr>\n",
       "      <th>1078</th>\n",
       "      <td>Good qulity and top camera</td>\n",
       "      <td>5.0 out of 5 stars</td>\n",
       "    </tr>\n",
       "    <tr>\n",
       "      <th>1079</th>\n",
       "      <td>The camera quality in indoors is poor.using this mobile after 3 days...just disappointed with camera quality in indoors that's it...rest of the phone is flawless.</td>\n",
       "      <td>4.0 out of 5 stars</td>\n",
       "    </tr>\n",
       "  </tbody>\n",
       "</table></div>"
      ],
      "text/plain": [
       "                                                 Review              Rating\n",
       "0                                          Hang problem  1.0 out of 5 stars\n",
       "1     I'm writing this review after using 3days !!!\\...  2.0 out of 5 stars\n",
       "2     Camera is so good n very fast phone back look ...  5.0 out of 5 stars\n",
       "3      It’s A average product decent for day to day ...  3.0 out of 5 stars\n",
       "4     1. Handy and light weight\\n2. Excellent voice ...  5.0 out of 5 stars\n",
       "...                                                 ...                 ...\n",
       "1075       Camera just amazing...... overall good phone  5.0 out of 5 stars\n",
       "1076  finger print is best in class.\\nbattery life i...  5.0 out of 5 stars\n",
       "1077                                                  -  3.0 out of 5 stars\n",
       "1078                         Good qulity and top camera  5.0 out of 5 stars\n",
       "1079  The camera quality in indoors is poor.using th...  4.0 out of 5 stars\n",
       "\n",
       "[1080 rows x 2 columns]"
      ]
     },
     "execution_count": 21,
     "metadata": {},
     "output_type": "execute_result"
    }
   ],
   "source": [
    "df = pd.DataFrame()\n",
    "df['Review'] = Review\n",
    "df['Rating'] = Rating\n",
    "df"
   ]
  },
  {
   "cell_type": "code",
   "execution_count": 22,
   "id": "db38ba57",
   "metadata": {},
   "outputs": [
    {
     "data": {
      "text/plain": [
       "14"
      ]
     },
     "execution_count": 22,
     "metadata": {},
     "output_type": "execute_result"
    }
   ],
   "source": [
    "df.duplicated().sum()"
   ]
  },
  {
   "cell_type": "code",
   "execution_count": 53,
   "id": "47b886fa",
   "metadata": {},
   "outputs": [],
   "source": [
    "df = df.drop_duplicates()\n",
    "df.reset_index(inplace=True)\n",
    "df.drop('index',axis=1,inplace=True)"
   ]
  },
  {
   "cell_type": "code",
   "execution_count": 25,
   "id": "746083da",
   "metadata": {},
   "outputs": [],
   "source": [
    "df.to_csv('nlp_data_1.csv')"
   ]
  },
  {
   "cell_type": "code",
   "execution_count": null,
   "id": "498f287d",
   "metadata": {},
   "outputs": [],
   "source": [
    "scrap('Mobile Phone')"
   ]
  },
  {
   "cell_type": "code",
   "execution_count": 52,
   "id": "2ebf1de3",
   "metadata": {},
   "outputs": [],
   "source": [
    "df2 = pd.DataFrame()\n",
    "df2['Review'] = Review\n",
    "df2['Rating'] = Rating"
   ]
  },
  {
   "cell_type": "code",
   "execution_count": 42,
   "id": "3490e937",
   "metadata": {},
   "outputs": [
    {
     "data": {
      "text/plain": [
       "59"
      ]
     },
     "execution_count": 42,
     "metadata": {},
     "output_type": "execute_result"
    }
   ],
   "source": [
    "df2.duplicated().sum()"
   ]
  },
  {
   "cell_type": "code",
   "execution_count": 51,
   "id": "dee6ef52",
   "metadata": {},
   "outputs": [],
   "source": [
    "df2 = df2.drop_duplicates()\n",
    "df2.reset_index(inplace=True)\n",
    "df2.drop('index',axis=1,inplace=True)"
   ]
  },
  {
   "cell_type": "code",
   "execution_count": 44,
   "id": "76a0f526",
   "metadata": {},
   "outputs": [
    {
     "data": {
      "text/plain": [
       "(2146, 2)"
      ]
     },
     "execution_count": 44,
     "metadata": {},
     "output_type": "execute_result"
    }
   ],
   "source": [
    "df = df.append(df1)\n",
    "df.shape"
   ]
  },
  {
   "cell_type": "code",
   "execution_count": 45,
   "id": "b527177a",
   "metadata": {},
   "outputs": [
    {
     "data": {
      "text/plain": [
       "(3087, 2)"
      ]
     },
     "execution_count": 45,
     "metadata": {},
     "output_type": "execute_result"
    }
   ],
   "source": [
    "df = df.append(df2)\n",
    "df.shape"
   ]
  },
  {
   "cell_type": "code",
   "execution_count": 47,
   "id": "461577e1",
   "metadata": {},
   "outputs": [
    {
     "data": {
      "text/plain": [
       "25"
      ]
     },
     "execution_count": 47,
     "metadata": {},
     "output_type": "execute_result"
    }
   ],
   "source": [
    "df.duplicated().sum()"
   ]
  },
  {
   "cell_type": "code",
   "execution_count": 54,
   "id": "6d7c68d6",
   "metadata": {},
   "outputs": [
    {
     "data": {
      "text/html": [
       "<div><div id=4c9fc638-db4a-438b-b941-036abfc0ff1e style=\"display:none; background-color:#9D6CFF; color:white; width:200px; height:30px; padding-left:5px; border-radius:4px; flex-direction:row; justify-content:space-around; align-items:center;\" onmouseover=\"this.style.backgroundColor='#BA9BF8'\" onmouseout=\"this.style.backgroundColor='#9D6CFF'\" onclick=\"window.commands?.execute('create-mitosheet-from-dataframe-output');\">See Full Dataframe in Mito</div> <script> if (window.commands?.hasCommand('create-mitosheet-from-dataframe-output')) document.getElementById('4c9fc638-db4a-438b-b941-036abfc0ff1e').style.display = 'flex' </script> <table border=\"1\" class=\"dataframe\">\n",
       "  <thead>\n",
       "    <tr style=\"text-align: right;\">\n",
       "      <th></th>\n",
       "      <th>Review</th>\n",
       "      <th>Rating</th>\n",
       "    </tr>\n",
       "  </thead>\n",
       "  <tbody>\n",
       "    <tr>\n",
       "      <th>0</th>\n",
       "      <td>Hang problem</td>\n",
       "      <td>1.0 out of 5 stars</td>\n",
       "    </tr>\n",
       "    <tr>\n",
       "      <th>1</th>\n",
       "      <td>I'm writing this review after using 3days !!!\\n\\nBe to honest this is normal Android phone\\n\\nIt's not like OnePlus\\n\\nCamera quality very low it says 64mp but not\\n\\nSound also low\\n\\nBattery 🔋 backup ok !!! For one day normal use its\\n\\nIf ur Gamer don't go for it\\n\\nOverall price it High for this handset\\n\\nIf u really wanna buy OnePlus ho for higher end model\\n\\nI'm first time buying OnePlus\\n\\nLittle disappointment</td>\n",
       "      <td>2.0 out of 5 stars</td>\n",
       "    </tr>\n",
       "    <tr>\n",
       "      <th>2</th>\n",
       "      <td>Camera is so good n very fast phone back look is awesome\\nWith dis price segment it's worth it n d most important thing is the phone has dedicated memory card slot I think dis is the first one plus phone which has d dedicated slot for memory card\\nBattery backup is also good n wit the help of 65w charger u can charge ur phone frm 50-100% in just 15 mins\\nIt has the super vooc charger frm Dat u can charge ur phone very fast\\nVery smooth touch n very fast phone u can play games with no lag\\nInternet connectivity is also fast n lightning wit my Jio sim as u can c I hav pasted one photo showing d downloading speed of 11mbps wit my cellular network\\nI think everyone who wants to buy dis phone just go for it\\nI think oneplus launched dis phone with lots of good features n d most important thing is price is very less\\nI recommend\\nJust go for it\\nThank u oneplus n Amazon for dis wonderful product</td>\n",
       "      <td>5.0 out of 5 stars</td>\n",
       "    </tr>\n",
       "    <tr>\n",
       "      <th>3</th>\n",
       "      <td>It’s A average product decent for day to day activity.. one the thing I would like to mention that exchange was Far Far alot Good On amazon it was like 2 to 3 minutes and delivery agent was very Good with me although I had 2 scratches on it but he neglected it as it was minor scratches and I exchanged poco m2 pro 6 64gb variant which was exchanged for rupees 10100. I bought it at 12499 1 and Half year ago and sold it at at very good price!! So plus point To amazon\\nComing Back to device I would say it’s a ok device camera is average performance is Fine one plus is losing it’s originality oxygen os to color or..\\nWARP CHARGER TO VOOC CHARGER!! yes it has been taken by oppo!! I wish the way we believed in one plus doesn’t change with it as A one plus Fan We don’t want To merge with Other brands please keep your Originality Maintained!! thanx amazon for such a hasselfree exchange alot better than FLIPKART</td>\n",
       "      <td>3.0 out of 5 stars</td>\n",
       "    </tr>\n",
       "    <tr>\n",
       "      <th>4</th>\n",
       "      <td>1. Handy and light weight\\n2. Excellent voice clarity\\n3. Signal reception is very good compared with OP 9RT and OP 10R\\n4. Easy to use in one hand\\n5. Able to take calls through MS Teams, Google Meet and Slack without any issues\\n6. No heating issues\\n7. Charging speed is awesome for this price range\\n8. Wifi calling is very good, tried with Jio\\n9. Battery backup is superb, easily crossing more than a day. SOT is solid 7+ HRS\\n10. Camera is the one and only drawback in this phone which is average!</td>\n",
       "      <td>5.0 out of 5 stars</td>\n",
       "    </tr>\n",
       "    <tr>\n",
       "      <th>...</th>\n",
       "      <td>...</td>\n",
       "      <td>...</td>\n",
       "    </tr>\n",
       "    <tr>\n",
       "      <th>3057</th>\n",
       "      <td>Without charging head buying phone is waste it's a open sources phone if u bye without charging head it's waste of money</td>\n",
       "      <td>1.0 out of 5 stars</td>\n",
       "    </tr>\n",
       "    <tr>\n",
       "      <th>3058</th>\n",
       "      <td>fingerprint reader, battery life or camera quality\\nfingerprint reader, battery life or camera quality\\nfingerprint reader, battery life or camera quality good</td>\n",
       "      <td>5.0 out of 5 stars</td>\n",
       "    </tr>\n",
       "    <tr>\n",
       "      <th>3059</th>\n",
       "      <td>Good phone to use for day to day activities.\\nWith such a good brand and amazon makes it available for all of us</td>\n",
       "      <td>5.0 out of 5 stars</td>\n",
       "    </tr>\n",
       "    <tr>\n",
       "      <th>3060</th>\n",
       "      <td>Fast Phone no heating battery is awesome only 3.5mm jack and power adapter is not available else a very good product</td>\n",
       "      <td>5.0 out of 5 stars</td>\n",
       "    </tr>\n",
       "    <tr>\n",
       "      <th>3061</th>\n",
       "      <td>excellent</td>\n",
       "      <td>5.0 out of 5 stars</td>\n",
       "    </tr>\n",
       "  </tbody>\n",
       "</table></div>"
      ],
      "text/plain": [
       "                                                 Review              Rating\n",
       "0                                          Hang problem  1.0 out of 5 stars\n",
       "1     I'm writing this review after using 3days !!!\\...  2.0 out of 5 stars\n",
       "2     Camera is so good n very fast phone back look ...  5.0 out of 5 stars\n",
       "3      It’s A average product decent for day to day ...  3.0 out of 5 stars\n",
       "4     1. Handy and light weight\\n2. Excellent voice ...  5.0 out of 5 stars\n",
       "...                                                 ...                 ...\n",
       "3057  Without charging head buying phone is waste it...  1.0 out of 5 stars\n",
       "3058  fingerprint reader, battery life or camera qua...  5.0 out of 5 stars\n",
       "3059  Good phone to use for day to day activities.\\n...  5.0 out of 5 stars\n",
       "3060  Fast Phone no heating battery is awesome only ...  5.0 out of 5 stars\n",
       "3061                                          excellent  5.0 out of 5 stars\n",
       "\n",
       "[3062 rows x 2 columns]"
      ]
     },
     "execution_count": 54,
     "metadata": {},
     "output_type": "execute_result"
    }
   ],
   "source": [
    "df = df.drop_duplicates()\n",
    "df.reset_index(inplace=True)\n",
    "df.drop('index',axis=1,inplace=True)\n",
    "df"
   ]
  },
  {
   "cell_type": "code",
   "execution_count": 55,
   "id": "4ef0faca",
   "metadata": {},
   "outputs": [],
   "source": [
    "df.to_csv('nlp_data_1.csv')"
   ]
  },
  {
   "cell_type": "code",
   "execution_count": null,
   "id": "689dd6be",
   "metadata": {},
   "outputs": [],
   "source": [
    "scrap('Mobile Phone')"
   ]
  },
  {
   "cell_type": "code",
   "execution_count": 62,
   "id": "2f6b7030",
   "metadata": {},
   "outputs": [],
   "source": [
    "df3 = pd.DataFrame()\n",
    "df3['Review'] = Review\n",
    "df3['Rating'] = Rating"
   ]
  },
  {
   "cell_type": "code",
   "execution_count": 64,
   "id": "75a30eff",
   "metadata": {},
   "outputs": [
    {
     "data": {
      "text/plain": [
       "(3442, 2)"
      ]
     },
     "execution_count": 64,
     "metadata": {},
     "output_type": "execute_result"
    }
   ],
   "source": [
    "df = df.append(df3)\n",
    "df.shape"
   ]
  },
  {
   "cell_type": "code",
   "execution_count": 65,
   "id": "5d6968c6",
   "metadata": {},
   "outputs": [
    {
     "data": {
      "text/html": [
       "<div><div id=f21fbc45-2571-4184-a6b9-9e6ed86bc2c9 style=\"display:none; background-color:#9D6CFF; color:white; width:200px; height:30px; padding-left:5px; border-radius:4px; flex-direction:row; justify-content:space-around; align-items:center;\" onmouseover=\"this.style.backgroundColor='#BA9BF8'\" onmouseout=\"this.style.backgroundColor='#9D6CFF'\" onclick=\"window.commands?.execute('create-mitosheet-from-dataframe-output');\">See Full Dataframe in Mito</div> <script> if (window.commands?.hasCommand('create-mitosheet-from-dataframe-output')) document.getElementById('f21fbc45-2571-4184-a6b9-9e6ed86bc2c9').style.display = 'flex' </script> <table border=\"1\" class=\"dataframe\">\n",
       "  <thead>\n",
       "    <tr style=\"text-align: right;\">\n",
       "      <th></th>\n",
       "      <th>Review</th>\n",
       "      <th>Rating</th>\n",
       "    </tr>\n",
       "  </thead>\n",
       "  <tbody>\n",
       "    <tr>\n",
       "      <th>0</th>\n",
       "      <td>Hang problem</td>\n",
       "      <td>1.0 out of 5 stars</td>\n",
       "    </tr>\n",
       "    <tr>\n",
       "      <th>1</th>\n",
       "      <td>I'm writing this review after using 3days !!!\\n\\nBe to honest this is normal Android phone\\n\\nIt's not like OnePlus\\n\\nCamera quality very low it says 64mp but not\\n\\nSound also low\\n\\nBattery 🔋 backup ok !!! For one day normal use its\\n\\nIf ur Gamer don't go for it\\n\\nOverall price it High for this handset\\n\\nIf u really wanna buy OnePlus ho for higher end model\\n\\nI'm first time buying OnePlus\\n\\nLittle disappointment</td>\n",
       "      <td>2.0 out of 5 stars</td>\n",
       "    </tr>\n",
       "    <tr>\n",
       "      <th>2</th>\n",
       "      <td>Camera is so good n very fast phone back look is awesome\\nWith dis price segment it's worth it n d most important thing is the phone has dedicated memory card slot I think dis is the first one plus phone which has d dedicated slot for memory card\\nBattery backup is also good n wit the help of 65w charger u can charge ur phone frm 50-100% in just 15 mins\\nIt has the super vooc charger frm Dat u can charge ur phone very fast\\nVery smooth touch n very fast phone u can play games with no lag\\nInternet connectivity is also fast n lightning wit my Jio sim as u can c I hav pasted one photo showing d downloading speed of 11mbps wit my cellular network\\nI think everyone who wants to buy dis phone just go for it\\nI think oneplus launched dis phone with lots of good features n d most important thing is price is very less\\nI recommend\\nJust go for it\\nThank u oneplus n Amazon for dis wonderful product</td>\n",
       "      <td>5.0 out of 5 stars</td>\n",
       "    </tr>\n",
       "    <tr>\n",
       "      <th>3</th>\n",
       "      <td>It’s A average product decent for day to day activity.. one the thing I would like to mention that exchange was Far Far alot Good On amazon it was like 2 to 3 minutes and delivery agent was very Good with me although I had 2 scratches on it but he neglected it as it was minor scratches and I exchanged poco m2 pro 6 64gb variant which was exchanged for rupees 10100. I bought it at 12499 1 and Half year ago and sold it at at very good price!! So plus point To amazon\\nComing Back to device I would say it’s a ok device camera is average performance is Fine one plus is losing it’s originality oxygen os to color or..\\nWARP CHARGER TO VOOC CHARGER!! yes it has been taken by oppo!! I wish the way we believed in one plus doesn’t change with it as A one plus Fan We don’t want To merge with Other brands please keep your Originality Maintained!! thanx amazon for such a hasselfree exchange alot better than FLIPKART</td>\n",
       "      <td>3.0 out of 5 stars</td>\n",
       "    </tr>\n",
       "    <tr>\n",
       "      <th>4</th>\n",
       "      <td>1. Handy and light weight\\n2. Excellent voice clarity\\n3. Signal reception is very good compared with OP 9RT and OP 10R\\n4. Easy to use in one hand\\n5. Able to take calls through MS Teams, Google Meet and Slack without any issues\\n6. No heating issues\\n7. Charging speed is awesome for this price range\\n8. Wifi calling is very good, tried with Jio\\n9. Battery backup is superb, easily crossing more than a day. SOT is solid 7+ HRS\\n10. Camera is the one and only drawback in this phone which is average!</td>\n",
       "      <td>5.0 out of 5 stars</td>\n",
       "    </tr>\n",
       "    <tr>\n",
       "      <th>...</th>\n",
       "      <td>...</td>\n",
       "      <td>...</td>\n",
       "    </tr>\n",
       "    <tr>\n",
       "      <th>3426</th>\n",
       "      <td>The phone and features are good. I like the screen quality and processing speed. Although fingerprint scanner not always works. Camera could be better as well.\\nOverall good battery life, good processing heavy in weight.</td>\n",
       "      <td>3.0 out of 5 stars</td>\n",
       "    </tr>\n",
       "    <tr>\n",
       "      <th>3427</th>\n",
       "      <td>. Fingerprint sensor location is bad . Camera quality is dull and front cam is hell . For the price range it's not the phone we want . The speaker sounds blasted or malfunctioned .</td>\n",
       "      <td>3.0 out of 5 stars</td>\n",
       "    </tr>\n",
       "    <tr>\n",
       "      <th>3428</th>\n",
       "      <td>Charger is not provided and data cable is c type from both side which can not be used in old charger.You are compelled to buy either data cable or charger.It is very bad and cheating to the customer.</td>\n",
       "      <td>3.0 out of 5 stars</td>\n",
       "    </tr>\n",
       "    <tr>\n",
       "      <th>3429</th>\n",
       "      <td>No charger.\\nCharger cost is almost INR 3000.\\nTotal cost = INR 21000 (18000 + 3000) [6 GB]\\nINR 24000 (21000 + 3000) [8 GB]</td>\n",
       "      <td>3.0 out of 5 stars</td>\n",
       "    </tr>\n",
       "    <tr>\n",
       "      <th>3430</th>\n",
       "      <td>The camera quality is good for the price but the display is very decent and the processor is also decent. If you are a normal user then the processor is more than enough for you!🙂</td>\n",
       "      <td>3.0 out of 5 stars</td>\n",
       "    </tr>\n",
       "  </tbody>\n",
       "</table></div>"
      ],
      "text/plain": [
       "                                                 Review              Rating\n",
       "0                                          Hang problem  1.0 out of 5 stars\n",
       "1     I'm writing this review after using 3days !!!\\...  2.0 out of 5 stars\n",
       "2     Camera is so good n very fast phone back look ...  5.0 out of 5 stars\n",
       "3      It’s A average product decent for day to day ...  3.0 out of 5 stars\n",
       "4     1. Handy and light weight\\n2. Excellent voice ...  5.0 out of 5 stars\n",
       "...                                                 ...                 ...\n",
       "3426  The phone and features are good. I like the sc...  3.0 out of 5 stars\n",
       "3427  . Fingerprint sensor location is bad . Camera ...  3.0 out of 5 stars\n",
       "3428  Charger is not provided and data cable is c ty...  3.0 out of 5 stars\n",
       "3429  No charger.\\nCharger cost is almost INR 3000.\\...  3.0 out of 5 stars\n",
       "3430  The camera quality is good for the price but t...  3.0 out of 5 stars\n",
       "\n",
       "[3431 rows x 2 columns]"
      ]
     },
     "execution_count": 65,
     "metadata": {},
     "output_type": "execute_result"
    }
   ],
   "source": [
    "df = df.drop_duplicates()\n",
    "df.reset_index(inplace=True)\n",
    "df.drop('index',axis=1,inplace=True)\n",
    "df"
   ]
  },
  {
   "cell_type": "code",
   "execution_count": 66,
   "id": "ec6680e4",
   "metadata": {},
   "outputs": [],
   "source": [
    "df.to_csv('nlp_data_1.csv')"
   ]
  },
  {
   "cell_type": "code",
   "execution_count": null,
   "id": "d720be5a",
   "metadata": {},
   "outputs": [],
   "source": [
    "scrap('iphone 13')"
   ]
  },
  {
   "cell_type": "code",
   "execution_count": 73,
   "id": "24d1697b",
   "metadata": {},
   "outputs": [],
   "source": [
    "df4 = pd.DataFrame()\n",
    "df4['Review'] = Review\n",
    "df4['Rating'] = Rating"
   ]
  },
  {
   "cell_type": "code",
   "execution_count": 74,
   "id": "262c0a50",
   "metadata": {},
   "outputs": [
    {
     "data": {
      "text/plain": [
       "(4081, 2)"
      ]
     },
     "execution_count": 74,
     "metadata": {},
     "output_type": "execute_result"
    }
   ],
   "source": [
    "df = df.append(df4)\n",
    "df.shape"
   ]
  },
  {
   "cell_type": "code",
   "execution_count": 75,
   "id": "33b0403e",
   "metadata": {},
   "outputs": [
    {
     "data": {
      "text/html": [
       "<div><div id=6fbe8496-ef82-4bcc-b2fa-512c26a50203 style=\"display:none; background-color:#9D6CFF; color:white; width:200px; height:30px; padding-left:5px; border-radius:4px; flex-direction:row; justify-content:space-around; align-items:center;\" onmouseover=\"this.style.backgroundColor='#BA9BF8'\" onmouseout=\"this.style.backgroundColor='#9D6CFF'\" onclick=\"window.commands?.execute('create-mitosheet-from-dataframe-output');\">See Full Dataframe in Mito</div> <script> if (window.commands?.hasCommand('create-mitosheet-from-dataframe-output')) document.getElementById('6fbe8496-ef82-4bcc-b2fa-512c26a50203').style.display = 'flex' </script> <table border=\"1\" class=\"dataframe\">\n",
       "  <thead>\n",
       "    <tr style=\"text-align: right;\">\n",
       "      <th></th>\n",
       "      <th>Review</th>\n",
       "      <th>Rating</th>\n",
       "    </tr>\n",
       "  </thead>\n",
       "  <tbody>\n",
       "    <tr>\n",
       "      <th>0</th>\n",
       "      <td>Hang problem</td>\n",
       "      <td>1.0 out of 5 stars</td>\n",
       "    </tr>\n",
       "    <tr>\n",
       "      <th>1</th>\n",
       "      <td>I'm writing this review after using 3days !!!\\n\\nBe to honest this is normal Android phone\\n\\nIt's not like OnePlus\\n\\nCamera quality very low it says 64mp but not\\n\\nSound also low\\n\\nBattery 🔋 backup ok !!! For one day normal use its\\n\\nIf ur Gamer don't go for it\\n\\nOverall price it High for this handset\\n\\nIf u really wanna buy OnePlus ho for higher end model\\n\\nI'm first time buying OnePlus\\n\\nLittle disappointment</td>\n",
       "      <td>2.0 out of 5 stars</td>\n",
       "    </tr>\n",
       "    <tr>\n",
       "      <th>2</th>\n",
       "      <td>Camera is so good n very fast phone back look is awesome\\nWith dis price segment it's worth it n d most important thing is the phone has dedicated memory card slot I think dis is the first one plus phone which has d dedicated slot for memory card\\nBattery backup is also good n wit the help of 65w charger u can charge ur phone frm 50-100% in just 15 mins\\nIt has the super vooc charger frm Dat u can charge ur phone very fast\\nVery smooth touch n very fast phone u can play games with no lag\\nInternet connectivity is also fast n lightning wit my Jio sim as u can c I hav pasted one photo showing d downloading speed of 11mbps wit my cellular network\\nI think everyone who wants to buy dis phone just go for it\\nI think oneplus launched dis phone with lots of good features n d most important thing is price is very less\\nI recommend\\nJust go for it\\nThank u oneplus n Amazon for dis wonderful product</td>\n",
       "      <td>5.0 out of 5 stars</td>\n",
       "    </tr>\n",
       "    <tr>\n",
       "      <th>3</th>\n",
       "      <td>It’s A average product decent for day to day activity.. one the thing I would like to mention that exchange was Far Far alot Good On amazon it was like 2 to 3 minutes and delivery agent was very Good with me although I had 2 scratches on it but he neglected it as it was minor scratches and I exchanged poco m2 pro 6 64gb variant which was exchanged for rupees 10100. I bought it at 12499 1 and Half year ago and sold it at at very good price!! So plus point To amazon\\nComing Back to device I would say it’s a ok device camera is average performance is Fine one plus is losing it’s originality oxygen os to color or..\\nWARP CHARGER TO VOOC CHARGER!! yes it has been taken by oppo!! I wish the way we believed in one plus doesn’t change with it as A one plus Fan We don’t want To merge with Other brands please keep your Originality Maintained!! thanx amazon for such a hasselfree exchange alot better than FLIPKART</td>\n",
       "      <td>3.0 out of 5 stars</td>\n",
       "    </tr>\n",
       "    <tr>\n",
       "      <th>4</th>\n",
       "      <td>1. Handy and light weight\\n2. Excellent voice clarity\\n3. Signal reception is very good compared with OP 9RT and OP 10R\\n4. Easy to use in one hand\\n5. Able to take calls through MS Teams, Google Meet and Slack without any issues\\n6. No heating issues\\n7. Charging speed is awesome for this price range\\n8. Wifi calling is very good, tried with Jio\\n9. Battery backup is superb, easily crossing more than a day. SOT is solid 7+ HRS\\n10. Camera is the one and only drawback in this phone which is average!</td>\n",
       "      <td>5.0 out of 5 stars</td>\n",
       "    </tr>\n",
       "    <tr>\n",
       "      <th>...</th>\n",
       "      <td>...</td>\n",
       "      <td>...</td>\n",
       "    </tr>\n",
       "    <tr>\n",
       "      <th>4022</th>\n",
       "      <td>Best Brand ever</td>\n",
       "      <td>5.0 out of 5 stars</td>\n",
       "    </tr>\n",
       "    <tr>\n",
       "      <th>4023</th>\n",
       "      <td>Very good</td>\n",
       "      <td>5.0 out of 5 stars</td>\n",
       "    </tr>\n",
       "    <tr>\n",
       "      <th>4024</th>\n",
       "      <td>Camera quality kuch khas ni lagi</td>\n",
       "      <td>2.0 out of 5 stars</td>\n",
       "    </tr>\n",
       "    <tr>\n",
       "      <th>4025</th>\n",
       "      <td>Best camera with cinematic mode.</td>\n",
       "      <td>5.0 out of 5 stars</td>\n",
       "    </tr>\n",
       "    <tr>\n",
       "      <th>4026</th>\n",
       "      <td>Nice phone and Amazon delivered on time</td>\n",
       "      <td>5.0 out of 5 stars</td>\n",
       "    </tr>\n",
       "  </tbody>\n",
       "</table></div>"
      ],
      "text/plain": [
       "                                                 Review              Rating\n",
       "0                                          Hang problem  1.0 out of 5 stars\n",
       "1     I'm writing this review after using 3days !!!\\...  2.0 out of 5 stars\n",
       "2     Camera is so good n very fast phone back look ...  5.0 out of 5 stars\n",
       "3      It’s A average product decent for day to day ...  3.0 out of 5 stars\n",
       "4     1. Handy and light weight\\n2. Excellent voice ...  5.0 out of 5 stars\n",
       "...                                                 ...                 ...\n",
       "4022                                    Best Brand ever  5.0 out of 5 stars\n",
       "4023                                          Very good  5.0 out of 5 stars\n",
       "4024                   Camera quality kuch khas ni lagi  2.0 out of 5 stars\n",
       "4025                   Best camera with cinematic mode.  5.0 out of 5 stars\n",
       "4026            Nice phone and Amazon delivered on time  5.0 out of 5 stars\n",
       "\n",
       "[4027 rows x 2 columns]"
      ]
     },
     "execution_count": 75,
     "metadata": {},
     "output_type": "execute_result"
    }
   ],
   "source": [
    "df = df.drop_duplicates()\n",
    "df.reset_index(inplace=True)\n",
    "df.drop('index',axis=1,inplace=True)\n",
    "df"
   ]
  },
  {
   "cell_type": "code",
   "execution_count": 76,
   "id": "e7fba43f",
   "metadata": {},
   "outputs": [],
   "source": [
    "df.to_csv('nlp_data_1.csv')"
   ]
  },
  {
   "cell_type": "code",
   "execution_count": null,
   "id": "6c72a5d4",
   "metadata": {},
   "outputs": [],
   "source": [
    "scrap('Mobile Phone')"
   ]
  },
  {
   "cell_type": "code",
   "execution_count": 95,
   "id": "14995292",
   "metadata": {},
   "outputs": [],
   "source": [
    "df5 = pd.DataFrame()\n",
    "df5['Review'] = Review\n",
    "df5['Rating'] = Rating"
   ]
  },
  {
   "cell_type": "code",
   "execution_count": 97,
   "id": "f5b3f5a5",
   "metadata": {},
   "outputs": [
    {
     "data": {
      "text/plain": [
       "(5667, 2)"
      ]
     },
     "execution_count": 97,
     "metadata": {},
     "output_type": "execute_result"
    }
   ],
   "source": [
    "df = df.append(df5)\n",
    "df.shape"
   ]
  },
  {
   "cell_type": "code",
   "execution_count": 98,
   "id": "0d75d6e3",
   "metadata": {},
   "outputs": [
    {
     "data": {
      "text/html": [
       "<div><div id=83915b99-ca57-4e50-a6b0-0c90a35bc129 style=\"display:none; background-color:#9D6CFF; color:white; width:200px; height:30px; padding-left:5px; border-radius:4px; flex-direction:row; justify-content:space-around; align-items:center;\" onmouseover=\"this.style.backgroundColor='#BA9BF8'\" onmouseout=\"this.style.backgroundColor='#9D6CFF'\" onclick=\"window.commands?.execute('create-mitosheet-from-dataframe-output');\">See Full Dataframe in Mito</div> <script> if (window.commands?.hasCommand('create-mitosheet-from-dataframe-output')) document.getElementById('83915b99-ca57-4e50-a6b0-0c90a35bc129').style.display = 'flex' </script> <table border=\"1\" class=\"dataframe\">\n",
       "  <thead>\n",
       "    <tr style=\"text-align: right;\">\n",
       "      <th></th>\n",
       "      <th>Review</th>\n",
       "      <th>Rating</th>\n",
       "    </tr>\n",
       "  </thead>\n",
       "  <tbody>\n",
       "    <tr>\n",
       "      <th>0</th>\n",
       "      <td>Hang problem</td>\n",
       "      <td>1.0 out of 5 stars</td>\n",
       "    </tr>\n",
       "    <tr>\n",
       "      <th>1</th>\n",
       "      <td>I'm writing this review after using 3days !!!\\n\\nBe to honest this is normal Android phone\\n\\nIt's not like OnePlus\\n\\nCamera quality very low it says 64mp but not\\n\\nSound also low\\n\\nBattery 🔋 backup ok !!! For one day normal use its\\n\\nIf ur Gamer don't go for it\\n\\nOverall price it High for this handset\\n\\nIf u really wanna buy OnePlus ho for higher end model\\n\\nI'm first time buying OnePlus\\n\\nLittle disappointment</td>\n",
       "      <td>2.0 out of 5 stars</td>\n",
       "    </tr>\n",
       "    <tr>\n",
       "      <th>2</th>\n",
       "      <td>Camera is so good n very fast phone back look is awesome\\nWith dis price segment it's worth it n d most important thing is the phone has dedicated memory card slot I think dis is the first one plus phone which has d dedicated slot for memory card\\nBattery backup is also good n wit the help of 65w charger u can charge ur phone frm 50-100% in just 15 mins\\nIt has the super vooc charger frm Dat u can charge ur phone very fast\\nVery smooth touch n very fast phone u can play games with no lag\\nInternet connectivity is also fast n lightning wit my Jio sim as u can c I hav pasted one photo showing d downloading speed of 11mbps wit my cellular network\\nI think everyone who wants to buy dis phone just go for it\\nI think oneplus launched dis phone with lots of good features n d most important thing is price is very less\\nI recommend\\nJust go for it\\nThank u oneplus n Amazon for dis wonderful product</td>\n",
       "      <td>5.0 out of 5 stars</td>\n",
       "    </tr>\n",
       "    <tr>\n",
       "      <th>3</th>\n",
       "      <td>It’s A average product decent for day to day activity.. one the thing I would like to mention that exchange was Far Far alot Good On amazon it was like 2 to 3 minutes and delivery agent was very Good with me although I had 2 scratches on it but he neglected it as it was minor scratches and I exchanged poco m2 pro 6 64gb variant which was exchanged for rupees 10100. I bought it at 12499 1 and Half year ago and sold it at at very good price!! So plus point To amazon\\nComing Back to device I would say it’s a ok device camera is average performance is Fine one plus is losing it’s originality oxygen os to color or..\\nWARP CHARGER TO VOOC CHARGER!! yes it has been taken by oppo!! I wish the way we believed in one plus doesn’t change with it as A one plus Fan We don’t want To merge with Other brands please keep your Originality Maintained!! thanx amazon for such a hasselfree exchange alot better than FLIPKART</td>\n",
       "      <td>3.0 out of 5 stars</td>\n",
       "    </tr>\n",
       "    <tr>\n",
       "      <th>4</th>\n",
       "      <td>1. Handy and light weight\\n2. Excellent voice clarity\\n3. Signal reception is very good compared with OP 9RT and OP 10R\\n4. Easy to use in one hand\\n5. Able to take calls through MS Teams, Google Meet and Slack without any issues\\n6. No heating issues\\n7. Charging speed is awesome for this price range\\n8. Wifi calling is very good, tried with Jio\\n9. Battery backup is superb, easily crossing more than a day. SOT is solid 7+ HRS\\n10. Camera is the one and only drawback in this phone which is average!</td>\n",
       "      <td>5.0 out of 5 stars</td>\n",
       "    </tr>\n",
       "    <tr>\n",
       "      <th>...</th>\n",
       "      <td>...</td>\n",
       "      <td>...</td>\n",
       "    </tr>\n",
       "    <tr>\n",
       "      <th>4429</th>\n",
       "      <td>Camera quality is average, fingerprint reader is good and battery life is awesome 0 to100 in just 27 minutes above average mobile</td>\n",
       "      <td>3.0 out of 5 stars</td>\n",
       "    </tr>\n",
       "    <tr>\n",
       "      <th>4430</th>\n",
       "      <td>Front camera is not as expected.... back camera as well ....design and body is impressive... Fast charging is superb...\\nIn hand feel is good...</td>\n",
       "      <td>3.0 out of 5 stars</td>\n",
       "    </tr>\n",
       "    <tr>\n",
       "      <th>4431</th>\n",
       "      <td>Very bad packaging!\\nSame as other Android phones like Oppo, vivo.\\nThe camera quality is also same . . .</td>\n",
       "      <td>3.0 out of 5 stars</td>\n",
       "    </tr>\n",
       "    <tr>\n",
       "      <th>4432</th>\n",
       "      <td>Camera is very bad. Phones cheaper than this have got way better cameras. Even in good lighting , it is very poor.</td>\n",
       "      <td>3.0 out of 5 stars</td>\n",
       "    </tr>\n",
       "    <tr>\n",
       "      <th>4433</th>\n",
       "      <td>Phone is ok . Not so good or not so bad .\\nBut camera is little bit poor. And silent button is missing .one big demerits.</td>\n",
       "      <td>3.0 out of 5 stars</td>\n",
       "    </tr>\n",
       "  </tbody>\n",
       "</table></div>"
      ],
      "text/plain": [
       "                                                 Review              Rating\n",
       "0                                          Hang problem  1.0 out of 5 stars\n",
       "1     I'm writing this review after using 3days !!!\\...  2.0 out of 5 stars\n",
       "2     Camera is so good n very fast phone back look ...  5.0 out of 5 stars\n",
       "3      It’s A average product decent for day to day ...  3.0 out of 5 stars\n",
       "4     1. Handy and light weight\\n2. Excellent voice ...  5.0 out of 5 stars\n",
       "...                                                 ...                 ...\n",
       "4429  Camera quality is average, fingerprint reader ...  3.0 out of 5 stars\n",
       "4430  Front camera is not as expected.... back camer...  3.0 out of 5 stars\n",
       "4431  Very bad packaging!\\nSame as other Android pho...  3.0 out of 5 stars\n",
       "4432  Camera is very bad. Phones cheaper than this h...  3.0 out of 5 stars\n",
       "4433  Phone is ok . Not so good or not so bad .\\nBut...  3.0 out of 5 stars\n",
       "\n",
       "[4434 rows x 2 columns]"
      ]
     },
     "execution_count": 98,
     "metadata": {},
     "output_type": "execute_result"
    }
   ],
   "source": [
    "df = df.drop_duplicates()\n",
    "df.reset_index(inplace=True)\n",
    "df.drop('index',axis=1,inplace=True)\n",
    "df"
   ]
  },
  {
   "cell_type": "code",
   "execution_count": null,
   "id": "b8ba92fd",
   "metadata": {},
   "outputs": [],
   "source": [
    "scrap('iphone 12')"
   ]
  },
  {
   "cell_type": "code",
   "execution_count": 124,
   "id": "406ad277",
   "metadata": {},
   "outputs": [],
   "source": [
    "df5 = pd.DataFrame()\n",
    "df5['Review'] = Review\n",
    "df5['Rating'] = Rating"
   ]
  },
  {
   "cell_type": "code",
   "execution_count": 125,
   "id": "08e09231",
   "metadata": {},
   "outputs": [
    {
     "data": {
      "text/plain": [
       "(6435, 2)"
      ]
     },
     "execution_count": 125,
     "metadata": {},
     "output_type": "execute_result"
    }
   ],
   "source": [
    "df = df.append(df5)\n",
    "df.shape"
   ]
  },
  {
   "cell_type": "code",
   "execution_count": 126,
   "id": "349bb432",
   "metadata": {},
   "outputs": [
    {
     "data": {
      "text/html": [
       "<div><div id=b2f72e22-9a6b-4f99-bab5-35d591445ef4 style=\"display:none; background-color:#9D6CFF; color:white; width:200px; height:30px; padding-left:5px; border-radius:4px; flex-direction:row; justify-content:space-around; align-items:center;\" onmouseover=\"this.style.backgroundColor='#BA9BF8'\" onmouseout=\"this.style.backgroundColor='#9D6CFF'\" onclick=\"window.commands?.execute('create-mitosheet-from-dataframe-output');\">See Full Dataframe in Mito</div> <script> if (window.commands?.hasCommand('create-mitosheet-from-dataframe-output')) document.getElementById('b2f72e22-9a6b-4f99-bab5-35d591445ef4').style.display = 'flex' </script> <table border=\"1\" class=\"dataframe\">\n",
       "  <thead>\n",
       "    <tr style=\"text-align: right;\">\n",
       "      <th></th>\n",
       "      <th>Review</th>\n",
       "      <th>Rating</th>\n",
       "    </tr>\n",
       "  </thead>\n",
       "  <tbody>\n",
       "    <tr>\n",
       "      <th>0</th>\n",
       "      <td>Hang problem</td>\n",
       "      <td>1.0 out of 5 stars</td>\n",
       "    </tr>\n",
       "    <tr>\n",
       "      <th>1</th>\n",
       "      <td>I'm writing this review after using 3days !!!\\n\\nBe to honest this is normal Android phone\\n\\nIt's not like OnePlus\\n\\nCamera quality very low it says 64mp but not\\n\\nSound also low\\n\\nBattery 🔋 backup ok !!! For one day normal use its\\n\\nIf ur Gamer don't go for it\\n\\nOverall price it High for this handset\\n\\nIf u really wanna buy OnePlus ho for higher end model\\n\\nI'm first time buying OnePlus\\n\\nLittle disappointment</td>\n",
       "      <td>2.0 out of 5 stars</td>\n",
       "    </tr>\n",
       "    <tr>\n",
       "      <th>2</th>\n",
       "      <td>Camera is so good n very fast phone back look is awesome\\nWith dis price segment it's worth it n d most important thing is the phone has dedicated memory card slot I think dis is the first one plus phone which has d dedicated slot for memory card\\nBattery backup is also good n wit the help of 65w charger u can charge ur phone frm 50-100% in just 15 mins\\nIt has the super vooc charger frm Dat u can charge ur phone very fast\\nVery smooth touch n very fast phone u can play games with no lag\\nInternet connectivity is also fast n lightning wit my Jio sim as u can c I hav pasted one photo showing d downloading speed of 11mbps wit my cellular network\\nI think everyone who wants to buy dis phone just go for it\\nI think oneplus launched dis phone with lots of good features n d most important thing is price is very less\\nI recommend\\nJust go for it\\nThank u oneplus n Amazon for dis wonderful product</td>\n",
       "      <td>5.0 out of 5 stars</td>\n",
       "    </tr>\n",
       "    <tr>\n",
       "      <th>3</th>\n",
       "      <td>It’s A average product decent for day to day activity.. one the thing I would like to mention that exchange was Far Far alot Good On amazon it was like 2 to 3 minutes and delivery agent was very Good with me although I had 2 scratches on it but he neglected it as it was minor scratches and I exchanged poco m2 pro 6 64gb variant which was exchanged for rupees 10100. I bought it at 12499 1 and Half year ago and sold it at at very good price!! So plus point To amazon\\nComing Back to device I would say it’s a ok device camera is average performance is Fine one plus is losing it’s originality oxygen os to color or..\\nWARP CHARGER TO VOOC CHARGER!! yes it has been taken by oppo!! I wish the way we believed in one plus doesn’t change with it as A one plus Fan We don’t want To merge with Other brands please keep your Originality Maintained!! thanx amazon for such a hasselfree exchange alot better than FLIPKART</td>\n",
       "      <td>3.0 out of 5 stars</td>\n",
       "    </tr>\n",
       "    <tr>\n",
       "      <th>4</th>\n",
       "      <td>1. Handy and light weight\\n2. Excellent voice clarity\\n3. Signal reception is very good compared with OP 9RT and OP 10R\\n4. Easy to use in one hand\\n5. Able to take calls through MS Teams, Google Meet and Slack without any issues\\n6. No heating issues\\n7. Charging speed is awesome for this price range\\n8. Wifi calling is very good, tried with Jio\\n9. Battery backup is superb, easily crossing more than a day. SOT is solid 7+ HRS\\n10. Camera is the one and only drawback in this phone which is average!</td>\n",
       "      <td>5.0 out of 5 stars</td>\n",
       "    </tr>\n",
       "    <tr>\n",
       "      <th>...</th>\n",
       "      <td>...</td>\n",
       "      <td>...</td>\n",
       "    </tr>\n",
       "    <tr>\n",
       "      <th>6007</th>\n",
       "      <td>IPhone 12 is the beast</td>\n",
       "      <td>5.0 out of 5 stars</td>\n",
       "    </tr>\n",
       "    <tr>\n",
       "      <th>6008</th>\n",
       "      <td>product is good only problem is the battery life</td>\n",
       "      <td>5.0 out of 5 stars</td>\n",
       "    </tr>\n",
       "    <tr>\n",
       "      <th>6009</th>\n",
       "      <td>Only camera is positive point</td>\n",
       "      <td>5.0 out of 5 stars</td>\n",
       "    </tr>\n",
       "    <tr>\n",
       "      <th>6010</th>\n",
       "      <td>😍😍</td>\n",
       "      <td>5.0 out of 5 stars</td>\n",
       "    </tr>\n",
       "    <tr>\n",
       "      <th>6011</th>\n",
       "      <td>Worth for the money if below 60K INR</td>\n",
       "      <td>5.0 out of 5 stars</td>\n",
       "    </tr>\n",
       "  </tbody>\n",
       "</table></div>"
      ],
      "text/plain": [
       "                                                 Review              Rating\n",
       "0                                          Hang problem  1.0 out of 5 stars\n",
       "1     I'm writing this review after using 3days !!!\\...  2.0 out of 5 stars\n",
       "2     Camera is so good n very fast phone back look ...  5.0 out of 5 stars\n",
       "3      It’s A average product decent for day to day ...  3.0 out of 5 stars\n",
       "4     1. Handy and light weight\\n2. Excellent voice ...  5.0 out of 5 stars\n",
       "...                                                 ...                 ...\n",
       "6007                             IPhone 12 is the beast  5.0 out of 5 stars\n",
       "6008   product is good only problem is the battery life  5.0 out of 5 stars\n",
       "6009                      Only camera is positive point  5.0 out of 5 stars\n",
       "6010                                                 😍😍  5.0 out of 5 stars\n",
       "6011               Worth for the money if below 60K INR  5.0 out of 5 stars\n",
       "\n",
       "[6012 rows x 2 columns]"
      ]
     },
     "execution_count": 126,
     "metadata": {},
     "output_type": "execute_result"
    }
   ],
   "source": [
    "df = df.drop_duplicates()\n",
    "df.reset_index(inplace=True)\n",
    "df.drop('index',axis=1,inplace=True)\n",
    "df"
   ]
  },
  {
   "cell_type": "code",
   "execution_count": 128,
   "id": "4bb8273e",
   "metadata": {},
   "outputs": [],
   "source": [
    "df.to_csv('nlp_data_1.csv')"
   ]
  },
  {
   "cell_type": "code",
   "execution_count": null,
   "id": "6c8b1f32",
   "metadata": {},
   "outputs": [],
   "source": [
    "scrap('Samsung Galaxy M13')"
   ]
  },
  {
   "cell_type": "code",
   "execution_count": 35,
   "id": "0e27ee0d",
   "metadata": {},
   "outputs": [],
   "source": [
    "df5 = pd.DataFrame()\n",
    "df5['Review'] = Review\n",
    "df5['Rating'] = Rating"
   ]
  },
  {
   "cell_type": "code",
   "execution_count": 36,
   "id": "d8df1a4f",
   "metadata": {},
   "outputs": [
    {
     "data": {
      "text/plain": [
       "(7623, 2)"
      ]
     },
     "execution_count": 36,
     "metadata": {},
     "output_type": "execute_result"
    }
   ],
   "source": [
    "df = df.append(df5)\n",
    "df.shape"
   ]
  },
  {
   "cell_type": "code",
   "execution_count": 37,
   "id": "db883a49",
   "metadata": {},
   "outputs": [
    {
     "data": {
      "text/html": [
       "<div><div id=097a23da-e8a7-4ba4-97c2-cf21e67654f9 style=\"display:none; background-color:#9D6CFF; color:white; width:200px; height:30px; padding-left:5px; border-radius:4px; flex-direction:row; justify-content:space-around; align-items:center;\" onmouseover=\"this.style.backgroundColor='#BA9BF8'\" onmouseout=\"this.style.backgroundColor='#9D6CFF'\" onclick=\"window.commands?.execute('create-mitosheet-from-dataframe-output');\">See Full Dataframe in Mito</div> <script> if (window.commands?.hasCommand('create-mitosheet-from-dataframe-output')) document.getElementById('097a23da-e8a7-4ba4-97c2-cf21e67654f9').style.display = 'flex' </script> <table border=\"1\" class=\"dataframe\">\n",
       "  <thead>\n",
       "    <tr style=\"text-align: right;\">\n",
       "      <th></th>\n",
       "      <th>Review</th>\n",
       "      <th>Rating</th>\n",
       "    </tr>\n",
       "  </thead>\n",
       "  <tbody>\n",
       "    <tr>\n",
       "      <th>0</th>\n",
       "      <td>Hang problem</td>\n",
       "      <td>1.0 out of 5 stars</td>\n",
       "    </tr>\n",
       "    <tr>\n",
       "      <th>1</th>\n",
       "      <td>I'm writing this review after using 3days !!!\\n\\nBe to honest this is normal Android phone\\n\\nIt's not like OnePlus\\n\\nCamera quality very low it says 64mp but not\\n\\nSound also low\\n\\nBattery 🔋 backup ok !!! For one day normal use its\\n\\nIf ur Gamer don't go for it\\n\\nOverall price it High for this handset\\n\\nIf u really wanna buy OnePlus ho for higher end model\\n\\nI'm first time buying OnePlus\\n\\nLittle disappointment</td>\n",
       "      <td>2.0 out of 5 stars</td>\n",
       "    </tr>\n",
       "    <tr>\n",
       "      <th>2</th>\n",
       "      <td>Camera is so good n very fast phone back look is awesome\\nWith dis price segment it's worth it n d most important thing is the phone has dedicated memory card slot I think dis is the first one plus phone which has d dedicated slot for memory card\\nBattery backup is also good n wit the help of 65w charger u can charge ur phone frm 50-100% in just 15 mins\\nIt has the super vooc charger frm Dat u can charge ur phone very fast\\nVery smooth touch n very fast phone u can play games with no lag\\nInternet connectivity is also fast n lightning wit my Jio sim as u can c I hav pasted one photo showing d downloading speed of 11mbps wit my cellular network\\nI think everyone who wants to buy dis phone just go for it\\nI think oneplus launched dis phone with lots of good features n d most important thing is price is very less\\nI recommend\\nJust go for it\\nThank u oneplus n Amazon for dis wonderful product</td>\n",
       "      <td>5.0 out of 5 stars</td>\n",
       "    </tr>\n",
       "    <tr>\n",
       "      <th>3</th>\n",
       "      <td>It’s A average product decent for day to day activity.. one the thing I would like to mention that exchange was Far Far alot Good On amazon it was like 2 to 3 minutes and delivery agent was very Good with me although I had 2 scratches on it but he neglected it as it was minor scratches and I exchanged poco m2 pro 6 64gb variant which was exchanged for rupees 10100. I bought it at 12499 1 and Half year ago and sold it at at very good price!! So plus point To amazon\\nComing Back to device I would say it’s a ok device camera is average performance is Fine one plus is losing it’s originality oxygen os to color or..\\nWARP CHARGER TO VOOC CHARGER!! yes it has been taken by oppo!! I wish the way we believed in one plus doesn’t change with it as A one plus Fan We don’t want To merge with Other brands please keep your Originality Maintained!! thanx amazon for such a hasselfree exchange alot better than FLIPKART</td>\n",
       "      <td>3.0 out of 5 stars</td>\n",
       "    </tr>\n",
       "    <tr>\n",
       "      <th>4</th>\n",
       "      <td>1. Handy and light weight\\n2. Excellent voice clarity\\n3. Signal reception is very good compared with OP 9RT and OP 10R\\n4. Easy to use in one hand\\n5. Able to take calls through MS Teams, Google Meet and Slack without any issues\\n6. No heating issues\\n7. Charging speed is awesome for this price range\\n8. Wifi calling is very good, tried with Jio\\n9. Battery backup is superb, easily crossing more than a day. SOT is solid 7+ HRS\\n10. Camera is the one and only drawback in this phone which is average!</td>\n",
       "      <td>5.0 out of 5 stars</td>\n",
       "    </tr>\n",
       "    <tr>\n",
       "      <th>...</th>\n",
       "      <td>...</td>\n",
       "      <td>...</td>\n",
       "    </tr>\n",
       "    <tr>\n",
       "      <th>7607</th>\n",
       "      <td>Received in damaged condition while calling display gone blank and I need to restart after every call to get display again.</td>\n",
       "      <td>2.0 out of 5 stars</td>\n",
       "    </tr>\n",
       "    <tr>\n",
       "      <th>7608</th>\n",
       "      <td>Some smasung apps can’t delete. samsung forcing me to use it. it’s really disappointed me. In other hand apple allows you to delete any app. even phonebook. and you can use third party phonebook.</td>\n",
       "      <td>3.0 out of 5 stars</td>\n",
       "    </tr>\n",
       "    <tr>\n",
       "      <th>7609</th>\n",
       "      <td>I bought two samsung phone in year back after completion of one year it automatically restarting it won't work as expected so I weto to coustomer care they asked me up to 10 thousand, it is happening for all samsung phones so please don't buy it</td>\n",
       "      <td>1.0 out of 5 stars</td>\n",
       "    </tr>\n",
       "    <tr>\n",
       "      <th>7610</th>\n",
       "      <td>Mobile data of my phone is not working I approach the service center and they said they changed the mother border but the problem still persist I don't know how to claim warrenty</td>\n",
       "      <td>1.0 out of 5 stars</td>\n",
       "    </tr>\n",
       "    <tr>\n",
       "      <th>7611</th>\n",
       "      <td>Very Poor front camera. not recommended to buy who want good camera. battery backup also not at per as 6000 mah battery. camera features is very less. no slow motion video features available.</td>\n",
       "      <td>2.0 out of 5 stars</td>\n",
       "    </tr>\n",
       "  </tbody>\n",
       "</table></div>"
      ],
      "text/plain": [
       "                                                 Review              Rating\n",
       "0                                          Hang problem  1.0 out of 5 stars\n",
       "1     I'm writing this review after using 3days !!!\\...  2.0 out of 5 stars\n",
       "2     Camera is so good n very fast phone back look ...  5.0 out of 5 stars\n",
       "3      It’s A average product decent for day to day ...  3.0 out of 5 stars\n",
       "4     1. Handy and light weight\\n2. Excellent voice ...  5.0 out of 5 stars\n",
       "...                                                 ...                 ...\n",
       "7607  Received in damaged condition while calling di...  2.0 out of 5 stars\n",
       "7608  Some smasung apps can’t delete. samsung forcin...  3.0 out of 5 stars\n",
       "7609  I bought two samsung phone in year back after ...  1.0 out of 5 stars\n",
       "7610  Mobile data of my phone is not working I appro...  1.0 out of 5 stars\n",
       "7611  Very Poor front camera. not recommended to buy...  2.0 out of 5 stars\n",
       "\n",
       "[7612 rows x 2 columns]"
      ]
     },
     "execution_count": 37,
     "metadata": {},
     "output_type": "execute_result"
    }
   ],
   "source": [
    "df = df.drop_duplicates()\n",
    "df.reset_index(inplace=True)\n",
    "df.drop('index',axis=1,inplace=True)\n",
    "df"
   ]
  },
  {
   "cell_type": "code",
   "execution_count": 38,
   "id": "5c5f2ed9",
   "metadata": {},
   "outputs": [],
   "source": [
    "df.to_csv('nlp_data_1.csv')"
   ]
  },
  {
   "cell_type": "code",
   "execution_count": null,
   "id": "9a212c1d",
   "metadata": {},
   "outputs": [],
   "source": [
    "scrap('Samsung M')"
   ]
  },
  {
   "cell_type": "code",
   "execution_count": 60,
   "id": "be681115",
   "metadata": {},
   "outputs": [],
   "source": [
    "df6 = pd.DataFrame()\n",
    "df6['Review'] = Review\n",
    "df6['Rating'] = Rating"
   ]
  },
  {
   "cell_type": "code",
   "execution_count": 61,
   "id": "f21b9357",
   "metadata": {},
   "outputs": [
    {
     "data": {
      "text/plain": [
       "(8342, 2)"
      ]
     },
     "execution_count": 61,
     "metadata": {},
     "output_type": "execute_result"
    }
   ],
   "source": [
    "df = df.append(df6)\n",
    "df.shape"
   ]
  },
  {
   "cell_type": "code",
   "execution_count": 62,
   "id": "c929ae08",
   "metadata": {},
   "outputs": [
    {
     "data": {
      "text/html": [
       "<div><div id=2271787a-237d-4a58-8347-65937fc2652d style=\"display:none; background-color:#9D6CFF; color:white; width:200px; height:30px; padding-left:5px; border-radius:4px; flex-direction:row; justify-content:space-around; align-items:center;\" onmouseover=\"this.style.backgroundColor='#BA9BF8'\" onmouseout=\"this.style.backgroundColor='#9D6CFF'\" onclick=\"window.commands?.execute('create-mitosheet-from-dataframe-output');\">See Full Dataframe in Mito</div> <script> if (window.commands?.hasCommand('create-mitosheet-from-dataframe-output')) document.getElementById('2271787a-237d-4a58-8347-65937fc2652d').style.display = 'flex' </script> <table border=\"1\" class=\"dataframe\">\n",
       "  <thead>\n",
       "    <tr style=\"text-align: right;\">\n",
       "      <th></th>\n",
       "      <th>Review</th>\n",
       "      <th>Rating</th>\n",
       "    </tr>\n",
       "  </thead>\n",
       "  <tbody>\n",
       "    <tr>\n",
       "      <th>0</th>\n",
       "      <td>Hang problem</td>\n",
       "      <td>1.0 out of 5 stars</td>\n",
       "    </tr>\n",
       "    <tr>\n",
       "      <th>1</th>\n",
       "      <td>I'm writing this review after using 3days !!!\\n\\nBe to honest this is normal Android phone\\n\\nIt's not like OnePlus\\n\\nCamera quality very low it says 64mp but not\\n\\nSound also low\\n\\nBattery 🔋 backup ok !!! For one day normal use its\\n\\nIf ur Gamer don't go for it\\n\\nOverall price it High for this handset\\n\\nIf u really wanna buy OnePlus ho for higher end model\\n\\nI'm first time buying OnePlus\\n\\nLittle disappointment</td>\n",
       "      <td>2.0 out of 5 stars</td>\n",
       "    </tr>\n",
       "    <tr>\n",
       "      <th>2</th>\n",
       "      <td>Camera is so good n very fast phone back look is awesome\\nWith dis price segment it's worth it n d most important thing is the phone has dedicated memory card slot I think dis is the first one plus phone which has d dedicated slot for memory card\\nBattery backup is also good n wit the help of 65w charger u can charge ur phone frm 50-100% in just 15 mins\\nIt has the super vooc charger frm Dat u can charge ur phone very fast\\nVery smooth touch n very fast phone u can play games with no lag\\nInternet connectivity is also fast n lightning wit my Jio sim as u can c I hav pasted one photo showing d downloading speed of 11mbps wit my cellular network\\nI think everyone who wants to buy dis phone just go for it\\nI think oneplus launched dis phone with lots of good features n d most important thing is price is very less\\nI recommend\\nJust go for it\\nThank u oneplus n Amazon for dis wonderful product</td>\n",
       "      <td>5.0 out of 5 stars</td>\n",
       "    </tr>\n",
       "    <tr>\n",
       "      <th>3</th>\n",
       "      <td>It’s A average product decent for day to day activity.. one the thing I would like to mention that exchange was Far Far alot Good On amazon it was like 2 to 3 minutes and delivery agent was very Good with me although I had 2 scratches on it but he neglected it as it was minor scratches and I exchanged poco m2 pro 6 64gb variant which was exchanged for rupees 10100. I bought it at 12499 1 and Half year ago and sold it at at very good price!! So plus point To amazon\\nComing Back to device I would say it’s a ok device camera is average performance is Fine one plus is losing it’s originality oxygen os to color or..\\nWARP CHARGER TO VOOC CHARGER!! yes it has been taken by oppo!! I wish the way we believed in one plus doesn’t change with it as A one plus Fan We don’t want To merge with Other brands please keep your Originality Maintained!! thanx amazon for such a hasselfree exchange alot better than FLIPKART</td>\n",
       "      <td>3.0 out of 5 stars</td>\n",
       "    </tr>\n",
       "    <tr>\n",
       "      <th>4</th>\n",
       "      <td>1. Handy and light weight\\n2. Excellent voice clarity\\n3. Signal reception is very good compared with OP 9RT and OP 10R\\n4. Easy to use in one hand\\n5. Able to take calls through MS Teams, Google Meet and Slack without any issues\\n6. No heating issues\\n7. Charging speed is awesome for this price range\\n8. Wifi calling is very good, tried with Jio\\n9. Battery backup is superb, easily crossing more than a day. SOT is solid 7+ HRS\\n10. Camera is the one and only drawback in this phone which is average!</td>\n",
       "      <td>5.0 out of 5 stars</td>\n",
       "    </tr>\n",
       "    <tr>\n",
       "      <th>...</th>\n",
       "      <td>...</td>\n",
       "      <td>...</td>\n",
       "    </tr>\n",
       "    <tr>\n",
       "      <th>8263</th>\n",
       "      <td>It's touch is not up to the mark rest all things are good but camera could have been much better in terms of stablization.</td>\n",
       "      <td>3.0 out of 5 stars</td>\n",
       "    </tr>\n",
       "    <tr>\n",
       "      <th>8264</th>\n",
       "      <td>Network speed slow hai compare to other mobile Village area ka Lia best nahee hai</td>\n",
       "      <td>2.0 out of 5 stars</td>\n",
       "    </tr>\n",
       "    <tr>\n",
       "      <th>8265</th>\n",
       "      <td>This is a great phone and i used it at the maximum it could provide for a week and even later there doesn't seem a difference in the quality it came and even now after a month's usage. But I really miss the 3.5mm jack. Yet the phone is a monster and I would say go for it</td>\n",
       "      <td>5.0 out of 5 stars</td>\n",
       "    </tr>\n",
       "    <tr>\n",
       "      <th>8266</th>\n",
       "      <td>जब सिमकार्ड का नेटवर्क चला जाते है तो अपने आप नही आता हर बार फ्लाइट मोड ऑन करके ऑफ करना पड़ता है</td>\n",
       "      <td>3.0 out of 5 stars</td>\n",
       "    </tr>\n",
       "    <tr>\n",
       "      <th>8267</th>\n",
       "      <td>It's dam great phone...</td>\n",
       "      <td>5.0 out of 5 stars</td>\n",
       "    </tr>\n",
       "  </tbody>\n",
       "</table></div>"
      ],
      "text/plain": [
       "                                                 Review              Rating\n",
       "0                                          Hang problem  1.0 out of 5 stars\n",
       "1     I'm writing this review after using 3days !!!\\...  2.0 out of 5 stars\n",
       "2     Camera is so good n very fast phone back look ...  5.0 out of 5 stars\n",
       "3      It’s A average product decent for day to day ...  3.0 out of 5 stars\n",
       "4     1. Handy and light weight\\n2. Excellent voice ...  5.0 out of 5 stars\n",
       "...                                                 ...                 ...\n",
       "8263  It's touch is not up to the mark rest all thin...  3.0 out of 5 stars\n",
       "8264  Network speed slow hai compare to other mobile...  2.0 out of 5 stars\n",
       "8265  This is a great phone and i used it at the max...  5.0 out of 5 stars\n",
       "8266  जब सिमकार्ड का नेटवर्क चला जाते है तो अपने आप ...  3.0 out of 5 stars\n",
       "8267                            It's dam great phone...  5.0 out of 5 stars\n",
       "\n",
       "[8268 rows x 2 columns]"
      ]
     },
     "execution_count": 62,
     "metadata": {},
     "output_type": "execute_result"
    }
   ],
   "source": [
    "df = df.drop_duplicates()\n",
    "df.reset_index(inplace=True)\n",
    "df.drop('index',axis=1,inplace=True)\n",
    "df"
   ]
  },
  {
   "cell_type": "code",
   "execution_count": 64,
   "id": "420153e6",
   "metadata": {},
   "outputs": [],
   "source": [
    "df.to_csv('nlp_data_1.csv')"
   ]
  },
  {
   "cell_type": "code",
   "execution_count": 15,
   "id": "ab9c49d0",
   "metadata": {},
   "outputs": [
    {
     "data": {
      "text/html": [
       "<div><div id=61a1139e-0625-4908-84d3-606d50653a32 style=\"display:none; background-color:#9D6CFF; color:white; width:200px; height:30px; padding-left:5px; border-radius:4px; flex-direction:row; justify-content:space-around; align-items:center;\" onmouseover=\"this.style.backgroundColor='#BA9BF8'\" onmouseout=\"this.style.backgroundColor='#9D6CFF'\" onclick=\"window.commands?.execute('create-mitosheet-from-dataframe-output');\">See Full Dataframe in Mito</div> <script> if (window.commands?.hasCommand('create-mitosheet-from-dataframe-output')) document.getElementById('61a1139e-0625-4908-84d3-606d50653a32').style.display = 'flex' </script> <table border=\"1\" class=\"dataframe\">\n",
       "  <thead>\n",
       "    <tr style=\"text-align: right;\">\n",
       "      <th></th>\n",
       "      <th>Review</th>\n",
       "      <th>Rating</th>\n",
       "    </tr>\n",
       "  </thead>\n",
       "  <tbody>\n",
       "    <tr>\n",
       "      <th>0</th>\n",
       "      <td>Hang problem</td>\n",
       "      <td>1.0 out of 5 stars</td>\n",
       "    </tr>\n",
       "    <tr>\n",
       "      <th>1</th>\n",
       "      <td>I'm writing this review after using 3days !!!\\n\\nBe to honest this is normal Android phone\\n\\nIt's not like OnePlus\\n\\nCamera quality very low it says 64mp but not\\n\\nSound also low\\n\\nBattery 🔋 backup ok !!! For one day normal use its\\n\\nIf ur Gamer don't go for it\\n\\nOverall price it High for this handset\\n\\nIf u really wanna buy OnePlus ho for higher end model\\n\\nI'm first time buying OnePlus\\n\\nLittle disappointment</td>\n",
       "      <td>2.0 out of 5 stars</td>\n",
       "    </tr>\n",
       "    <tr>\n",
       "      <th>2</th>\n",
       "      <td>Camera is so good n very fast phone back look is awesome\\nWith dis price segment it's worth it n d most important thing is the phone has dedicated memory card slot I think dis is the first one plus phone which has d dedicated slot for memory card\\nBattery backup is also good n wit the help of 65w charger u can charge ur phone frm 50-100% in just 15 mins\\nIt has the super vooc charger frm Dat u can charge ur phone very fast\\nVery smooth touch n very fast phone u can play games with no lag\\nInternet connectivity is also fast n lightning wit my Jio sim as u can c I hav pasted one photo showing d downloading speed of 11mbps wit my cellular network\\nI think everyone who wants to buy dis phone just go for it\\nI think oneplus launched dis phone with lots of good features n d most important thing is price is very less\\nI recommend\\nJust go for it\\nThank u oneplus n Amazon for dis wonderful product</td>\n",
       "      <td>5.0 out of 5 stars</td>\n",
       "    </tr>\n",
       "    <tr>\n",
       "      <th>3</th>\n",
       "      <td>It’s A average product decent for day to day activity.. one the thing I would like to mention that exchange was Far Far alot Good On amazon it was like 2 to 3 minutes and delivery agent was very Good with me although I had 2 scratches on it but he neglected it as it was minor scratches and I exchanged poco m2 pro 6 64gb variant which was exchanged for rupees 10100. I bought it at 12499 1 and Half year ago and sold it at at very good price!! So plus point To amazon\\nComing Back to device I would say it’s a ok device camera is average performance is Fine one plus is losing it’s originality oxygen os to color or..\\nWARP CHARGER TO VOOC CHARGER!! yes it has been taken by oppo!! I wish the way we believed in one plus doesn’t change with it as A one plus Fan We don’t want To merge with Other brands please keep your Originality Maintained!! thanx amazon for such a hasselfree exchange alot better than FLIPKART</td>\n",
       "      <td>3.0 out of 5 stars</td>\n",
       "    </tr>\n",
       "    <tr>\n",
       "      <th>4</th>\n",
       "      <td>1. Handy and light weight\\n2. Excellent voice clarity\\n3. Signal reception is very good compared with OP 9RT and OP 10R\\n4. Easy to use in one hand\\n5. Able to take calls through MS Teams, Google Meet and Slack without any issues\\n6. No heating issues\\n7. Charging speed is awesome for this price range\\n8. Wifi calling is very good, tried with Jio\\n9. Battery backup is superb, easily crossing more than a day. SOT is solid 7+ HRS\\n10. Camera is the one and only drawback in this phone which is average!</td>\n",
       "      <td>5.0 out of 5 stars</td>\n",
       "    </tr>\n",
       "    <tr>\n",
       "      <th>...</th>\n",
       "      <td>...</td>\n",
       "      <td>...</td>\n",
       "    </tr>\n",
       "    <tr>\n",
       "      <th>8263</th>\n",
       "      <td>It's touch is not up to the mark rest all things are good but camera could have been much better in terms of stablization.</td>\n",
       "      <td>3.0 out of 5 stars</td>\n",
       "    </tr>\n",
       "    <tr>\n",
       "      <th>8264</th>\n",
       "      <td>Network speed slow hai compare to other mobile Village area ka Lia best nahee hai</td>\n",
       "      <td>2.0 out of 5 stars</td>\n",
       "    </tr>\n",
       "    <tr>\n",
       "      <th>8265</th>\n",
       "      <td>This is a great phone and i used it at the maximum it could provide for a week and even later there doesn't seem a difference in the quality it came and even now after a month's usage. But I really miss the 3.5mm jack. Yet the phone is a monster and I would say go for it</td>\n",
       "      <td>5.0 out of 5 stars</td>\n",
       "    </tr>\n",
       "    <tr>\n",
       "      <th>8266</th>\n",
       "      <td>जब सिमकार्ड का नेटवर्क चला जाते है तो अपने आप नही आता हर बार फ्लाइट मोड ऑन करके ऑफ करना पड़ता है</td>\n",
       "      <td>3.0 out of 5 stars</td>\n",
       "    </tr>\n",
       "    <tr>\n",
       "      <th>8267</th>\n",
       "      <td>It's dam great phone...</td>\n",
       "      <td>5.0 out of 5 stars</td>\n",
       "    </tr>\n",
       "  </tbody>\n",
       "</table></div>"
      ],
      "text/plain": [
       "                                                 Review              Rating\n",
       "0                                          Hang problem  1.0 out of 5 stars\n",
       "1     I'm writing this review after using 3days !!!\\...  2.0 out of 5 stars\n",
       "2     Camera is so good n very fast phone back look ...  5.0 out of 5 stars\n",
       "3      It’s A average product decent for day to day ...  3.0 out of 5 stars\n",
       "4     1. Handy and light weight\\n2. Excellent voice ...  5.0 out of 5 stars\n",
       "...                                                 ...                 ...\n",
       "8263  It's touch is not up to the mark rest all thin...  3.0 out of 5 stars\n",
       "8264  Network speed slow hai compare to other mobile...  2.0 out of 5 stars\n",
       "8265  This is a great phone and i used it at the max...  5.0 out of 5 stars\n",
       "8266  जब सिमकार्ड का नेटवर्क चला जाते है तो अपने आप ...  3.0 out of 5 stars\n",
       "8267                            It's dam great phone...  5.0 out of 5 stars\n",
       "\n",
       "[8268 rows x 2 columns]"
      ]
     },
     "execution_count": 15,
     "metadata": {},
     "output_type": "execute_result"
    }
   ],
   "source": [
    "df = pd.read_csv('nlp_data_1.csv')\n",
    "df.drop('Unnamed: 0',axis=1,inplace=True)\n",
    "df"
   ]
  },
  {
   "cell_type": "code",
   "execution_count": null,
   "id": "dae75bc8",
   "metadata": {},
   "outputs": [],
   "source": [
    "scrap('Home Theatre')"
   ]
  },
  {
   "cell_type": "code",
   "execution_count": 37,
   "id": "5c38d1ef",
   "metadata": {},
   "outputs": [],
   "source": [
    "df6 = pd.DataFrame()\n",
    "df6['Review'] = Review\n",
    "df6['Rating'] = Rating"
   ]
  },
  {
   "cell_type": "code",
   "execution_count": 38,
   "id": "04ac1279",
   "metadata": {},
   "outputs": [
    {
     "data": {
      "text/plain": [
       "(10477, 2)"
      ]
     },
     "execution_count": 38,
     "metadata": {},
     "output_type": "execute_result"
    }
   ],
   "source": [
    "df = df.append(df6)\n",
    "df.shape"
   ]
  },
  {
   "cell_type": "code",
   "execution_count": 39,
   "id": "3a21dd45",
   "metadata": {},
   "outputs": [
    {
     "data": {
      "text/html": [
       "<div><div id=d57fcb7b-0fc7-49ad-bad0-0823c12bd385 style=\"display:none; background-color:#9D6CFF; color:white; width:200px; height:30px; padding-left:5px; border-radius:4px; flex-direction:row; justify-content:space-around; align-items:center;\" onmouseover=\"this.style.backgroundColor='#BA9BF8'\" onmouseout=\"this.style.backgroundColor='#9D6CFF'\" onclick=\"window.commands?.execute('create-mitosheet-from-dataframe-output');\">See Full Dataframe in Mito</div> <script> if (window.commands?.hasCommand('create-mitosheet-from-dataframe-output')) document.getElementById('d57fcb7b-0fc7-49ad-bad0-0823c12bd385').style.display = 'flex' </script> <table border=\"1\" class=\"dataframe\">\n",
       "  <thead>\n",
       "    <tr style=\"text-align: right;\">\n",
       "      <th></th>\n",
       "      <th>Review</th>\n",
       "      <th>Rating</th>\n",
       "    </tr>\n",
       "  </thead>\n",
       "  <tbody>\n",
       "    <tr>\n",
       "      <th>10365</th>\n",
       "      <td>Nice sound and good base according to price. Looks nice clear sound. I am happy about this product. 😃</td>\n",
       "      <td>4.0 out of 5 stars</td>\n",
       "    </tr>\n",
       "    <tr>\n",
       "      <th>10366</th>\n",
       "      <td>awsm product for single room i love it lots</td>\n",
       "      <td>5.0 out of 5 stars</td>\n",
       "    </tr>\n",
       "  </tbody>\n",
       "</table></div>"
      ],
      "text/plain": [
       "                                                  Review              Rating\n",
       "10365  Nice sound and good base according to price. L...  4.0 out of 5 stars\n",
       "10366        awsm product for single room i love it lots  5.0 out of 5 stars"
      ]
     },
     "execution_count": 39,
     "metadata": {},
     "output_type": "execute_result"
    }
   ],
   "source": [
    "df = df.drop_duplicates()\n",
    "df.reset_index(inplace=True)\n",
    "df.drop('index',axis=1,inplace=True)\n",
    "df.tail(2)"
   ]
  },
  {
   "cell_type": "code",
   "execution_count": 40,
   "id": "56f1d106",
   "metadata": {},
   "outputs": [],
   "source": [
    "df.to_csv('nlp_data_1.csv')"
   ]
  },
  {
   "cell_type": "code",
   "execution_count": null,
   "id": "af28655c",
   "metadata": {
    "scrolled": true
   },
   "outputs": [],
   "source": [
    "scrap('Home Theatre')"
   ]
  },
  {
   "cell_type": "code",
   "execution_count": 71,
   "id": "1db59e15",
   "metadata": {},
   "outputs": [
    {
     "data": {
      "text/plain": [
       "(13615, 2)"
      ]
     },
     "execution_count": 71,
     "metadata": {},
     "output_type": "execute_result"
    }
   ],
   "source": [
    "df7 = pd.DataFrame()\n",
    "df7['Review'] = Review\n",
    "df7['Rating'] = Rating\n",
    "df = df.append(df7)\n",
    "df.shape"
   ]
  },
  {
   "cell_type": "code",
   "execution_count": 72,
   "id": "a8276a65",
   "metadata": {},
   "outputs": [
    {
     "data": {
      "text/html": [
       "<div><div id=7f82c471-e8a0-44c7-936d-d6aea544a674 style=\"display:none; background-color:#9D6CFF; color:white; width:200px; height:30px; padding-left:5px; border-radius:4px; flex-direction:row; justify-content:space-around; align-items:center;\" onmouseover=\"this.style.backgroundColor='#BA9BF8'\" onmouseout=\"this.style.backgroundColor='#9D6CFF'\" onclick=\"window.commands?.execute('create-mitosheet-from-dataframe-output');\">See Full Dataframe in Mito</div> <script> if (window.commands?.hasCommand('create-mitosheet-from-dataframe-output')) document.getElementById('7f82c471-e8a0-44c7-936d-d6aea544a674').style.display = 'flex' </script> <table border=\"1\" class=\"dataframe\">\n",
       "  <thead>\n",
       "    <tr style=\"text-align: right;\">\n",
       "      <th></th>\n",
       "      <th>Review</th>\n",
       "      <th>Rating</th>\n",
       "    </tr>\n",
       "  </thead>\n",
       "  <tbody>\n",
       "    <tr>\n",
       "      <th>12086</th>\n",
       "      <td>Packaging is very poor....!!!\\nThe product is good.. the volume control is not good enough.. but the bass and sound quality is great.. !</td>\n",
       "      <td>4.0 out of 5 stars</td>\n",
       "    </tr>\n",
       "    <tr>\n",
       "      <th>12087</th>\n",
       "      <td>NICE SPEAKERS WITH GOOD SOUND AND STEREO EFFECT AND COLOR LIGHTS TO MAKE IT MORE ATTRACTIVE, STILL VOLUME OF SOUND COULD BE RAISED MORE INTENSE COZ ITS NOT ONLY USED ON LAP TOP ITS USED ON BIG SCREEN MONITORS WITH GREAT SOUNDS SYSTEM....</td>\n",
       "      <td>4.0 out of 5 stars</td>\n",
       "    </tr>\n",
       "  </tbody>\n",
       "</table></div>"
      ],
      "text/plain": [
       "                                                  Review              Rating\n",
       "12086  Packaging is very poor....!!!\\nThe product is ...  4.0 out of 5 stars\n",
       "12087  NICE SPEAKERS WITH GOOD SOUND AND STEREO EFFEC...  4.0 out of 5 stars"
      ]
     },
     "execution_count": 72,
     "metadata": {},
     "output_type": "execute_result"
    }
   ],
   "source": [
    "df = df.drop_duplicates()\n",
    "df.reset_index(inplace=True)\n",
    "df.drop('index',axis=1,inplace=True)\n",
    "df.tail(2)"
   ]
  },
  {
   "cell_type": "code",
   "execution_count": 73,
   "id": "8a88421d",
   "metadata": {},
   "outputs": [],
   "source": [
    "df.to_csv('nlp_data_1.csv')"
   ]
  },
  {
   "cell_type": "code",
   "execution_count": null,
   "id": "4587902b",
   "metadata": {},
   "outputs": [],
   "source": [
    "scrap('Home Theatre')"
   ]
  },
  {
   "cell_type": "code",
   "execution_count": 90,
   "id": "f9c06ec0",
   "metadata": {},
   "outputs": [
    {
     "data": {
      "text/plain": [
       "(13625, 2)"
      ]
     },
     "execution_count": 90,
     "metadata": {},
     "output_type": "execute_result"
    }
   ],
   "source": [
    "df8 = pd.DataFrame()\n",
    "df8['Review'] = Review\n",
    "df8['Rating'] = Rating\n",
    "df = df.append(df8)\n",
    "df.shape"
   ]
  },
  {
   "cell_type": "code",
   "execution_count": 91,
   "id": "870c072d",
   "metadata": {},
   "outputs": [
    {
     "data": {
      "text/html": [
       "<div><div id=7a41a6a5-a2c3-40d4-a190-aa508dff8381 style=\"display:none; background-color:#9D6CFF; color:white; width:200px; height:30px; padding-left:5px; border-radius:4px; flex-direction:row; justify-content:space-around; align-items:center;\" onmouseover=\"this.style.backgroundColor='#BA9BF8'\" onmouseout=\"this.style.backgroundColor='#9D6CFF'\" onclick=\"window.commands?.execute('create-mitosheet-from-dataframe-output');\">See Full Dataframe in Mito</div> <script> if (window.commands?.hasCommand('create-mitosheet-from-dataframe-output')) document.getElementById('7a41a6a5-a2c3-40d4-a190-aa508dff8381').style.display = 'flex' </script> <table border=\"1\" class=\"dataframe\">\n",
       "  <thead>\n",
       "    <tr style=\"text-align: right;\">\n",
       "      <th></th>\n",
       "      <th>Review</th>\n",
       "      <th>Rating</th>\n",
       "    </tr>\n",
       "  </thead>\n",
       "  <tbody>\n",
       "    <tr>\n",
       "      <th>12836</th>\n",
       "      <td>Good sound bar you get with clarity sound</td>\n",
       "      <td>4.0 out of 5 stars</td>\n",
       "    </tr>\n",
       "    <tr>\n",
       "      <th>12837</th>\n",
       "      <td>Will get theatrical sound but If you are extreme bass lover, this is not for you, even boat 90w do better.</td>\n",
       "      <td>4.0 out of 5 stars</td>\n",
       "    </tr>\n",
       "  </tbody>\n",
       "</table></div>"
      ],
      "text/plain": [
       "                                                  Review              Rating\n",
       "12836          Good sound bar you get with clarity sound  4.0 out of 5 stars\n",
       "12837  Will get theatrical sound but If you are extre...  4.0 out of 5 stars"
      ]
     },
     "execution_count": 91,
     "metadata": {},
     "output_type": "execute_result"
    }
   ],
   "source": [
    "df = df.drop_duplicates()\n",
    "df.reset_index(inplace=True)\n",
    "df.drop('index',axis=1,inplace=True)\n",
    "df.tail(2)"
   ]
  },
  {
   "cell_type": "code",
   "execution_count": 95,
   "id": "ae063a76",
   "metadata": {},
   "outputs": [],
   "source": [
    "df.to_csv('nlp_data_1.csv')"
   ]
  },
  {
   "cell_type": "code",
   "execution_count": 2,
   "id": "644ca958",
   "metadata": {},
   "outputs": [
    {
     "data": {
      "text/html": [
       "<div><div id=7d004d06-70f4-4a7e-94a9-8e95c37021c0 style=\"display:none; background-color:#9D6CFF; color:white; width:200px; height:30px; padding-left:5px; border-radius:4px; flex-direction:row; justify-content:space-around; align-items:center;\" onmouseover=\"this.style.backgroundColor='#BA9BF8'\" onmouseout=\"this.style.backgroundColor='#9D6CFF'\" onclick=\"window.commands?.execute('create-mitosheet-from-dataframe-output');\">See Full Dataframe in Mito</div> <script> if (window.commands?.hasCommand('create-mitosheet-from-dataframe-output')) document.getElementById('7d004d06-70f4-4a7e-94a9-8e95c37021c0').style.display = 'flex' </script> <table border=\"1\" class=\"dataframe\">\n",
       "  <thead>\n",
       "    <tr style=\"text-align: right;\">\n",
       "      <th></th>\n",
       "      <th>Unnamed: 0</th>\n",
       "      <th>Review</th>\n",
       "      <th>Rating</th>\n",
       "    </tr>\n",
       "  </thead>\n",
       "  <tbody>\n",
       "    <tr>\n",
       "      <th>12835</th>\n",
       "      <td>12835</td>\n",
       "      <td>Super products</td>\n",
       "      <td>4.0 out of 5 stars</td>\n",
       "    </tr>\n",
       "    <tr>\n",
       "      <th>12836</th>\n",
       "      <td>12836</td>\n",
       "      <td>Good sound bar you get with clarity sound</td>\n",
       "      <td>4.0 out of 5 stars</td>\n",
       "    </tr>\n",
       "    <tr>\n",
       "      <th>12837</th>\n",
       "      <td>12837</td>\n",
       "      <td>Will get theatrical sound but If you are extreme bass lover, this is not for you, even boat 90w do better.</td>\n",
       "      <td>4.0 out of 5 stars</td>\n",
       "    </tr>\n",
       "  </tbody>\n",
       "</table></div>"
      ],
      "text/plain": [
       "       Unnamed: 0                                             Review  \\\n",
       "12835       12835                                     Super products   \n",
       "12836       12836          Good sound bar you get with clarity sound   \n",
       "12837       12837  Will get theatrical sound but If you are extre...   \n",
       "\n",
       "                   Rating  \n",
       "12835  4.0 out of 5 stars  \n",
       "12836  4.0 out of 5 stars  \n",
       "12837  4.0 out of 5 stars  "
      ]
     },
     "execution_count": 2,
     "metadata": {},
     "output_type": "execute_result"
    }
   ],
   "source": [
    "df = pd.read_csv('nlp_data_1.csv')\n",
    "df.tail(3)"
   ]
  },
  {
   "cell_type": "code",
   "execution_count": 3,
   "id": "78e53346",
   "metadata": {},
   "outputs": [
    {
     "data": {
      "text/html": [
       "<div><div id=4afdffec-8807-431a-88fa-7e543e100f2e style=\"display:none; background-color:#9D6CFF; color:white; width:200px; height:30px; padding-left:5px; border-radius:4px; flex-direction:row; justify-content:space-around; align-items:center;\" onmouseover=\"this.style.backgroundColor='#BA9BF8'\" onmouseout=\"this.style.backgroundColor='#9D6CFF'\" onclick=\"window.commands?.execute('create-mitosheet-from-dataframe-output');\">See Full Dataframe in Mito</div> <script> if (window.commands?.hasCommand('create-mitosheet-from-dataframe-output')) document.getElementById('4afdffec-8807-431a-88fa-7e543e100f2e').style.display = 'flex' </script> <table border=\"1\" class=\"dataframe\">\n",
       "  <thead>\n",
       "    <tr style=\"text-align: right;\">\n",
       "      <th></th>\n",
       "      <th>Unnamed: 0</th>\n",
       "      <th>Review</th>\n",
       "      <th>Rating</th>\n",
       "    </tr>\n",
       "  </thead>\n",
       "  <tbody>\n",
       "    <tr>\n",
       "      <th>1063</th>\n",
       "      <td>1063</td>\n",
       "      <td>-</td>\n",
       "      <td>3.0 out of 5 stars</td>\n",
       "    </tr>\n",
       "    <tr>\n",
       "      <th>1064</th>\n",
       "      <td>1064</td>\n",
       "      <td>Good qulity and top camera</td>\n",
       "      <td>5.0 out of 5 stars</td>\n",
       "    </tr>\n",
       "    <tr>\n",
       "      <th>1065</th>\n",
       "      <td>1065</td>\n",
       "      <td>The camera quality in indoors is poor.using this mobile after 3 days...just disappointed with camera quality in indoors that's it...rest of the phone is flawless.</td>\n",
       "      <td>4.0 out of 5 stars</td>\n",
       "    </tr>\n",
       "  </tbody>\n",
       "</table></div>"
      ],
      "text/plain": [
       "      Unnamed: 0                                             Review  \\\n",
       "1063        1063                                                  -   \n",
       "1064        1064                         Good qulity and top camera   \n",
       "1065        1065  The camera quality in indoors is poor.using th...   \n",
       "\n",
       "                  Rating  \n",
       "1063  3.0 out of 5 stars  \n",
       "1064  5.0 out of 5 stars  \n",
       "1065  4.0 out of 5 stars  "
      ]
     },
     "execution_count": 3,
     "metadata": {},
     "output_type": "execute_result"
    }
   ],
   "source": [
    "df1 = pd.read_csv('nlp_data_2.csv')\n",
    "df1.tail(3)"
   ]
  },
  {
   "cell_type": "code",
   "execution_count": 4,
   "id": "b5d5e800",
   "metadata": {},
   "outputs": [
    {
     "data": {
      "text/html": [
       "<div><div id=2a5d3807-13db-4f92-a1f6-b791fce83ca3 style=\"display:none; background-color:#9D6CFF; color:white; width:200px; height:30px; padding-left:5px; border-radius:4px; flex-direction:row; justify-content:space-around; align-items:center;\" onmouseover=\"this.style.backgroundColor='#BA9BF8'\" onmouseout=\"this.style.backgroundColor='#9D6CFF'\" onclick=\"window.commands?.execute('create-mitosheet-from-dataframe-output');\">See Full Dataframe in Mito</div> <script> if (window.commands?.hasCommand('create-mitosheet-from-dataframe-output')) document.getElementById('2a5d3807-13db-4f92-a1f6-b791fce83ca3').style.display = 'flex' </script> <table border=\"1\" class=\"dataframe\">\n",
       "  <thead>\n",
       "    <tr style=\"text-align: right;\">\n",
       "      <th></th>\n",
       "      <th>Unnamed: 0</th>\n",
       "      <th>Review</th>\n",
       "      <th>Rating</th>\n",
       "    </tr>\n",
       "  </thead>\n",
       "  <tbody>\n",
       "    <tr>\n",
       "      <th>7507</th>\n",
       "      <td>7507</td>\n",
       "      <td>Excellent must buy the product 🔥</td>\n",
       "      <td>4.0 out of 5 stars</td>\n",
       "    </tr>\n",
       "    <tr>\n",
       "      <th>7508</th>\n",
       "      <td>7508</td>\n",
       "      <td>Yes</td>\n",
       "      <td>4.0 out of 5 stars</td>\n",
       "    </tr>\n",
       "    <tr>\n",
       "      <th>7509</th>\n",
       "      <td>7509</td>\n",
       "      <td>You should go for it</td>\n",
       "      <td>4.0 out of 5 stars</td>\n",
       "    </tr>\n",
       "  </tbody>\n",
       "</table></div>"
      ],
      "text/plain": [
       "      Unnamed: 0                            Review              Rating\n",
       "7507        7507  Excellent must buy the product 🔥  4.0 out of 5 stars\n",
       "7508        7508                               Yes  4.0 out of 5 stars\n",
       "7509        7509              You should go for it  4.0 out of 5 stars"
      ]
     },
     "execution_count": 4,
     "metadata": {},
     "output_type": "execute_result"
    }
   ],
   "source": [
    "df1 = pd.read_csv('nlp_data_laptop.csv')\n",
    "df1.tail(3)"
   ]
  },
  {
   "cell_type": "code",
   "execution_count": 5,
   "id": "387fe923",
   "metadata": {},
   "outputs": [
    {
     "data": {
      "text/plain": [
       "20348"
      ]
     },
     "execution_count": 5,
     "metadata": {},
     "output_type": "execute_result"
    }
   ],
   "source": [
    "df = df.append(df1)\n",
    "len(df)"
   ]
  },
  {
   "cell_type": "code",
   "execution_count": 7,
   "id": "72349cc0",
   "metadata": {},
   "outputs": [],
   "source": [
    "df.to_csv('nlp_data_final.csv')"
   ]
  }
 ],
 "metadata": {
  "kernelspec": {
   "display_name": "Python 3 (ipykernel)",
   "language": "python",
   "name": "python3"
  },
  "language_info": {
   "codemirror_mode": {
    "name": "ipython",
    "version": 3
   },
   "file_extension": ".py",
   "mimetype": "text/x-python",
   "name": "python",
   "nbconvert_exporter": "python",
   "pygments_lexer": "ipython3",
   "version": "3.9.7"
  }
 },
 "nbformat": 4,
 "nbformat_minor": 5
}
